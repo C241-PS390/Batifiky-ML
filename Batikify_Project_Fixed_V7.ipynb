{
  "cells": [
    {
      "cell_type": "markdown",
      "source": [
        "# Intro"
      ],
      "metadata": {
        "id": "0aOawH-QvSZA"
      },
      "id": "0aOawH-QvSZA"
    },
    {
      "cell_type": "code",
      "execution_count": 1,
      "id": "taPbNY-fu2E3",
      "metadata": {
        "collapsed": true,
        "id": "taPbNY-fu2E3",
        "colab": {
          "base_uri": "https://localhost:8080/"
        },
        "outputId": "208e43b1-c872-41ec-fa6a-0480747347c1"
      },
      "outputs": [
        {
          "output_type": "stream",
          "name": "stdout",
          "text": [
            "Requirement already satisfied: tensorflow in /usr/local/lib/python3.10/dist-packages (2.15.0)\n",
            "Requirement already satisfied: absl-py>=1.0.0 in /usr/local/lib/python3.10/dist-packages (from tensorflow) (1.4.0)\n",
            "Requirement already satisfied: astunparse>=1.6.0 in /usr/local/lib/python3.10/dist-packages (from tensorflow) (1.6.3)\n",
            "Requirement already satisfied: flatbuffers>=23.5.26 in /usr/local/lib/python3.10/dist-packages (from tensorflow) (24.3.25)\n",
            "Requirement already satisfied: gast!=0.5.0,!=0.5.1,!=0.5.2,>=0.2.1 in /usr/local/lib/python3.10/dist-packages (from tensorflow) (0.5.4)\n",
            "Requirement already satisfied: google-pasta>=0.1.1 in /usr/local/lib/python3.10/dist-packages (from tensorflow) (0.2.0)\n",
            "Requirement already satisfied: h5py>=2.9.0 in /usr/local/lib/python3.10/dist-packages (from tensorflow) (3.9.0)\n",
            "Requirement already satisfied: libclang>=13.0.0 in /usr/local/lib/python3.10/dist-packages (from tensorflow) (18.1.1)\n",
            "Requirement already satisfied: ml-dtypes~=0.2.0 in /usr/local/lib/python3.10/dist-packages (from tensorflow) (0.2.0)\n",
            "Requirement already satisfied: numpy<2.0.0,>=1.23.5 in /usr/local/lib/python3.10/dist-packages (from tensorflow) (1.25.2)\n",
            "Requirement already satisfied: opt-einsum>=2.3.2 in /usr/local/lib/python3.10/dist-packages (from tensorflow) (3.3.0)\n",
            "Requirement already satisfied: packaging in /usr/local/lib/python3.10/dist-packages (from tensorflow) (24.0)\n",
            "Requirement already satisfied: protobuf!=4.21.0,!=4.21.1,!=4.21.2,!=4.21.3,!=4.21.4,!=4.21.5,<5.0.0dev,>=3.20.3 in /usr/local/lib/python3.10/dist-packages (from tensorflow) (3.20.3)\n",
            "Requirement already satisfied: setuptools in /usr/local/lib/python3.10/dist-packages (from tensorflow) (67.7.2)\n",
            "Requirement already satisfied: six>=1.12.0 in /usr/local/lib/python3.10/dist-packages (from tensorflow) (1.16.0)\n",
            "Requirement already satisfied: termcolor>=1.1.0 in /usr/local/lib/python3.10/dist-packages (from tensorflow) (2.4.0)\n",
            "Requirement already satisfied: typing-extensions>=3.6.6 in /usr/local/lib/python3.10/dist-packages (from tensorflow) (4.12.1)\n",
            "Requirement already satisfied: wrapt<1.15,>=1.11.0 in /usr/local/lib/python3.10/dist-packages (from tensorflow) (1.14.1)\n",
            "Requirement already satisfied: tensorflow-io-gcs-filesystem>=0.23.1 in /usr/local/lib/python3.10/dist-packages (from tensorflow) (0.37.0)\n",
            "Requirement already satisfied: grpcio<2.0,>=1.24.3 in /usr/local/lib/python3.10/dist-packages (from tensorflow) (1.64.1)\n",
            "Requirement already satisfied: tensorboard<2.16,>=2.15 in /usr/local/lib/python3.10/dist-packages (from tensorflow) (2.15.2)\n",
            "Requirement already satisfied: tensorflow-estimator<2.16,>=2.15.0 in /usr/local/lib/python3.10/dist-packages (from tensorflow) (2.15.0)\n",
            "Requirement already satisfied: keras<2.16,>=2.15.0 in /usr/local/lib/python3.10/dist-packages (from tensorflow) (2.15.0)\n",
            "Requirement already satisfied: wheel<1.0,>=0.23.0 in /usr/local/lib/python3.10/dist-packages (from astunparse>=1.6.0->tensorflow) (0.43.0)\n",
            "Requirement already satisfied: google-auth<3,>=1.6.3 in /usr/local/lib/python3.10/dist-packages (from tensorboard<2.16,>=2.15->tensorflow) (2.27.0)\n",
            "Requirement already satisfied: google-auth-oauthlib<2,>=0.5 in /usr/local/lib/python3.10/dist-packages (from tensorboard<2.16,>=2.15->tensorflow) (1.2.0)\n",
            "Requirement already satisfied: markdown>=2.6.8 in /usr/local/lib/python3.10/dist-packages (from tensorboard<2.16,>=2.15->tensorflow) (3.6)\n",
            "Requirement already satisfied: requests<3,>=2.21.0 in /usr/local/lib/python3.10/dist-packages (from tensorboard<2.16,>=2.15->tensorflow) (2.31.0)\n",
            "Requirement already satisfied: tensorboard-data-server<0.8.0,>=0.7.0 in /usr/local/lib/python3.10/dist-packages (from tensorboard<2.16,>=2.15->tensorflow) (0.7.2)\n",
            "Requirement already satisfied: werkzeug>=1.0.1 in /usr/local/lib/python3.10/dist-packages (from tensorboard<2.16,>=2.15->tensorflow) (3.0.3)\n",
            "Requirement already satisfied: cachetools<6.0,>=2.0.0 in /usr/local/lib/python3.10/dist-packages (from google-auth<3,>=1.6.3->tensorboard<2.16,>=2.15->tensorflow) (5.3.3)\n",
            "Requirement already satisfied: pyasn1-modules>=0.2.1 in /usr/local/lib/python3.10/dist-packages (from google-auth<3,>=1.6.3->tensorboard<2.16,>=2.15->tensorflow) (0.4.0)\n",
            "Requirement already satisfied: rsa<5,>=3.1.4 in /usr/local/lib/python3.10/dist-packages (from google-auth<3,>=1.6.3->tensorboard<2.16,>=2.15->tensorflow) (4.9)\n",
            "Requirement already satisfied: requests-oauthlib>=0.7.0 in /usr/local/lib/python3.10/dist-packages (from google-auth-oauthlib<2,>=0.5->tensorboard<2.16,>=2.15->tensorflow) (1.3.1)\n",
            "Requirement already satisfied: charset-normalizer<4,>=2 in /usr/local/lib/python3.10/dist-packages (from requests<3,>=2.21.0->tensorboard<2.16,>=2.15->tensorflow) (3.3.2)\n",
            "Requirement already satisfied: idna<4,>=2.5 in /usr/local/lib/python3.10/dist-packages (from requests<3,>=2.21.0->tensorboard<2.16,>=2.15->tensorflow) (3.7)\n",
            "Requirement already satisfied: urllib3<3,>=1.21.1 in /usr/local/lib/python3.10/dist-packages (from requests<3,>=2.21.0->tensorboard<2.16,>=2.15->tensorflow) (2.0.7)\n",
            "Requirement already satisfied: certifi>=2017.4.17 in /usr/local/lib/python3.10/dist-packages (from requests<3,>=2.21.0->tensorboard<2.16,>=2.15->tensorflow) (2024.6.2)\n",
            "Requirement already satisfied: MarkupSafe>=2.1.1 in /usr/local/lib/python3.10/dist-packages (from werkzeug>=1.0.1->tensorboard<2.16,>=2.15->tensorflow) (2.1.5)\n",
            "Requirement already satisfied: pyasn1<0.7.0,>=0.4.6 in /usr/local/lib/python3.10/dist-packages (from pyasn1-modules>=0.2.1->google-auth<3,>=1.6.3->tensorboard<2.16,>=2.15->tensorflow) (0.6.0)\n",
            "Requirement already satisfied: oauthlib>=3.0.0 in /usr/local/lib/python3.10/dist-packages (from requests-oauthlib>=0.7.0->google-auth-oauthlib<2,>=0.5->tensorboard<2.16,>=2.15->tensorflow) (3.2.2)\n"
          ]
        }
      ],
      "source": [
        "!pip install tensorflow"
      ]
    },
    {
      "cell_type": "code",
      "source": [
        "!pip install joblib"
      ],
      "metadata": {
        "id": "zGvAbjS1CBxc",
        "collapsed": true,
        "colab": {
          "base_uri": "https://localhost:8080/"
        },
        "outputId": "b712d60c-e3dc-4842-fc36-bc4d27998116"
      },
      "id": "zGvAbjS1CBxc",
      "execution_count": 2,
      "outputs": [
        {
          "output_type": "stream",
          "name": "stdout",
          "text": [
            "Requirement already satisfied: joblib in /usr/local/lib/python3.10/dist-packages (1.4.2)\n"
          ]
        }
      ]
    },
    {
      "cell_type": "code",
      "execution_count": null,
      "id": "37jyaNhFDyuA",
      "metadata": {
        "id": "37jyaNhFDyuA"
      },
      "outputs": [],
      "source": [
        "# url = \"https://github.com/algonacci/DataSetBatik/tree/master/CitraBatik\"\n",
        "# roboflow = https://universe.roboflow.com/apriliaagrn/motif-batik-idv6s\n",
        "\n",
        "# from google.colab import drive\n",
        "# drive.mount('/content/drive')"
      ]
    },
    {
      "cell_type": "code",
      "execution_count": 3,
      "id": "19316a06",
      "metadata": {
        "id": "19316a06"
      },
      "outputs": [],
      "source": [
        "import os\n",
        "import random\n",
        "import tensorflow as tf\n",
        "import matplotlib.pyplot as plt\n",
        "import matplotlib.image as mpimg\n",
        "import numpy as np\n",
        "\n",
        "from PIL import Image\n",
        "from shutil import copy2\n",
        "from sklearn.model_selection import train_test_split\n",
        "\n",
        "from tensorflow.keras.utils import load_img, img_to_array\n",
        "from tensorflow.keras.preprocessing.image import ImageDataGenerator\n",
        "from tensorflow.keras.models import Sequential\n",
        "\n",
        "from tensorflow.keras.applications import vgg16\n",
        "from tensorflow.keras.layers import Flatten, Dense, Dropout, Conv2D, MaxPooling2D, GlobalAveragePooling2D\n",
        "from tensorflow.keras.models import Model\n",
        "\n",
        "from sklearn.metrics import confusion_matrix, f1_score"
      ]
    },
    {
      "cell_type": "code",
      "execution_count": 4,
      "id": "et1lkIkaMGOe",
      "metadata": {
        "id": "et1lkIkaMGOe",
        "colab": {
          "base_uri": "https://localhost:8080/"
        },
        "outputId": "968f794e-8c7f-4956-ab62-abe47841f4f1"
      },
      "outputs": [
        {
          "output_type": "stream",
          "name": "stderr",
          "text": [
            "Downloading...\n",
            "From (original): https://drive.google.com/uc?export=download&id=1EHf8O8JRtoBUDkcyGB0Lt5MlwPWwM2yb\n",
            "From (redirected): https://drive.google.com/uc?export=download&id=1EHf8O8JRtoBUDkcyGB0Lt5MlwPWwM2yb&confirm=t&uuid=b0a834bc-8da0-41a6-9ac8-bca3a75a5525\n",
            "To: /content/Motif_Batik_Dataset.zip\n",
            "100%|██████████| 381M/381M [00:03<00:00, 102MB/s]\n"
          ]
        }
      ],
      "source": [
        "# pake zip dataset drive\n",
        "import zipfile\n",
        "import gdown\n",
        "\n",
        "url = \"https://drive.google.com/uc?export=download&id=1EHf8O8JRtoBUDkcyGB0Lt5MlwPWwM2yb\"\n",
        "output = \"Motif_Batik_Dataset.zip\"\n",
        "gdown.download(url, output, quiet=False)\n",
        "\n",
        "zip_ref = zipfile.ZipFile(\"/content/Motif_Batik_Dataset.zip\", 'r')\n",
        "zip_ref.extractall(\"dataset\")\n",
        "zip_ref.close()"
      ]
    },
    {
      "cell_type": "markdown",
      "source": [
        "# Split data train val test"
      ],
      "metadata": {
        "id": "xNzW0A7mFiSc"
      },
      "id": "xNzW0A7mFiSc"
    },
    {
      "cell_type": "code",
      "execution_count": 5,
      "id": "e2f98327",
      "metadata": {
        "id": "e2f98327"
      },
      "outputs": [],
      "source": [
        "# Define Directories for Dataset\n",
        "base_dir = r'/content/dataset/New_Motif_Batik_Dataset'\n",
        "\n",
        "train_dir = r'/content/train'\n",
        "val_dir = r'/content/val'\n",
        "test_dir = r'/content/test'\n",
        "\n",
        "# Create directories for train, val, and test\n",
        "os.makedirs(train_dir, exist_ok=True)\n",
        "os.makedirs(val_dir, exist_ok=True)\n",
        "os.makedirs(test_dir, exist_ok=True)\n",
        "\n",
        "# Get all class names (folder names)\n",
        "classes = [d for d in os.listdir(base_dir) if os.path.isdir(os.path.join(base_dir, d))]\n",
        "\n",
        "# Create class directories in train, val, and test folders\n",
        "for cls in classes:\n",
        "    os.makedirs(os.path.join(train_dir, cls), exist_ok=True)\n",
        "    os.makedirs(os.path.join(val_dir, cls), exist_ok=True)\n",
        "    os.makedirs(os.path.join(test_dir, cls), exist_ok=True)"
      ]
    },
    {
      "cell_type": "code",
      "execution_count": 6,
      "id": "e1209c38",
      "metadata": {
        "id": "e1209c38"
      },
      "outputs": [],
      "source": [
        "# Split data dan bagi jadi 3 folder baru test, train, val trus diisi\n",
        "for cls in classes:\n",
        "    cls_dir = os.path.join(base_dir, cls)\n",
        "    images = os.listdir(cls_dir)\n",
        "    images = [img for img in images if os.path.isfile(os.path.join(cls_dir, img))]\n",
        "\n",
        "    train_imgs, temp_imgs = train_test_split(images, test_size=0.2, random_state=42) # 0.15\n",
        "    val_imgs, test_imgs = train_test_split(temp_imgs, test_size=0.5, random_state=42) # 0.33\n",
        "\n",
        "    for img in train_imgs:\n",
        "        copy2(os.path.join(cls_dir, img), os.path.join(train_dir, cls))\n",
        "    for img in val_imgs:\n",
        "        copy2(os.path.join(cls_dir, img), os.path.join(val_dir, cls))\n",
        "    for img in test_imgs:\n",
        "        copy2(os.path.join(cls_dir, img), os.path.join(test_dir, cls))"
      ]
    },
    {
      "cell_type": "code",
      "execution_count": 7,
      "id": "8f9f119b",
      "metadata": {
        "id": "8f9f119b"
      },
      "outputs": [],
      "source": [
        "def check_image_shapes(directory):\n",
        "    shapes = []\n",
        "    for root, _, files in os.walk(directory):\n",
        "        for file in files:\n",
        "            if file.endswith(('jpg', 'jpeg', 'png', 'bmp', 'gif')):\n",
        "                file_path = os.path.join(root, file)\n",
        "                with Image.open(file_path) as img:\n",
        "                    shapes.append(img.size)\n",
        "    return shapes\n",
        "\n",
        "# Fungsi untuk menghitung jumlah gambar dalam direktori tertentu\n",
        "def count_images(directory):\n",
        "    count = 0\n",
        "    for root, _, files in os.walk(directory):\n",
        "        count += len([file for file in files if file.endswith(('jpg', 'jpeg', 'png', 'bmp', 'gif'))])\n",
        "    return count"
      ]
    },
    {
      "cell_type": "code",
      "execution_count": 8,
      "id": "177c3197",
      "metadata": {
        "id": "177c3197",
        "scrolled": true,
        "colab": {
          "base_uri": "https://localhost:8080/"
        },
        "outputId": "e65f4f96-aadc-4f2b-b7d6-5c1c68f836d9"
      },
      "outputs": [
        {
          "output_type": "stream",
          "name": "stdout",
          "text": [
            "Shape gambar dalam training set: (640, 640)\n"
          ]
        }
      ],
      "source": [
        "# Mengecek shape gambar di training set\n",
        "train_shapes = check_image_shapes(train_dir)\n",
        "\n",
        "# Menampilkan shape gambar dalam training set\n",
        "print(f\"Shape gambar dalam training set: {train_shapes[0]}\")"
      ]
    },
    {
      "cell_type": "code",
      "source": [
        "# # # undersampling\n",
        "\n",
        "# from imblearn.under_sampling import RandomUnderSampler\n",
        "# import os\n",
        "# from shutil import copy2\n",
        "# import numpy as np\n",
        "# from PIL import Image\n",
        "\n",
        "# # Hypothetical feature extraction function\n",
        "# def extract_features(image_path):\n",
        "#     try:\n",
        "#         # Open the image\n",
        "#         with Image.open(image_path) as img:\n",
        "#             # Convert the image to grayscale\n",
        "#             img = img.convert('L')\n",
        "#             # Resize the image to a fixed size (e.g., 64x64)\n",
        "#             img = img.resize((64, 64))\n",
        "#             # Flatten the image to a 1D array\n",
        "#             features = np.array(img).flatten()\n",
        "#             return features\n",
        "#     except Exception as e:\n",
        "#         print(f\"Error processing image {image_path}: {e}\")\n",
        "#         return None\n",
        "\n",
        "# # Initialize RandomUnderSampler\n",
        "# undersampler = RandomUnderSampler()\n",
        "\n",
        "# # Define classes and training directory\n",
        "# classes = ['Batik Bali', 'Batik Betawi', 'Batik Celup', 'Batik Cendrawasih', 'Batik Dayak', 'Batik Geblek Renteng', 'Batik Insang', 'Batik Kawung',\n",
        "#            'Batik Lasem', 'Batik Megamendung', 'Batik Pala', 'Batik Parang', 'Batik Poleng', 'Batik Sekar Jagad', 'Batik Tambal']\n",
        "# train_dir = '/content/train'\n",
        "\n",
        "# # Check if the training directory exists\n",
        "# if not os.path.exists(train_dir):\n",
        "#     print(f\"Training directory '{train_dir}' does not exist.\")\n",
        "# else:\n",
        "#     # Collect all training images and labels from all classes\n",
        "#     X_train = []\n",
        "#     y_train = []\n",
        "#     image_paths = []\n",
        "\n",
        "#     for cls in classes:\n",
        "#         train_cls_dir = os.path.join(train_dir, cls)\n",
        "#         if not os.path.exists(train_cls_dir):\n",
        "#             print(f\"Class directory '{train_cls_dir}' does not exist.\")\n",
        "#             continue  # Skip this class if the directory does not exist\n",
        "\n",
        "#         train_imgs = os.listdir(train_cls_dir)\n",
        "#         for img in train_imgs:\n",
        "#             img_path = os.path.join(train_cls_dir, img)\n",
        "#             features = extract_features(img_path)\n",
        "#             if features is not None:\n",
        "#                 X_train.append(features)\n",
        "#                 y_train.append(cls)\n",
        "#                 image_paths.append(img_path)\n",
        "\n",
        "#     # Convert to numpy arrays\n",
        "#     X_train = np.array(X_train)\n",
        "#     y_train = np.array(y_train)\n",
        "\n",
        "#     # Perform undersampling on the entire training dataset\n",
        "#     X_train_resampled, y_train_resampled = undersampler.fit_resample(X_train, y_train)\n",
        "\n",
        "#     # Copy images to the training directory with the undersampled dataset\n",
        "#     for idx, (features, label) in enumerate(zip(X_train_resampled, y_train_resampled)):\n",
        "#         original_idx = np.where((X_train == features).all(axis=1))[0][0]\n",
        "#         original_img_path = image_paths[original_idx]\n",
        "#         class_name = label\n",
        "#         destination_dir = os.path.join(train_dir, class_name)\n",
        "\n",
        "#         if not os.path.exists(destination_dir):\n",
        "#             os.makedirs(destination_dir)\n",
        "\n",
        "#         new_img_path = os.path.join(destination_dir, f'undersampled_{idx}.jpg')\n",
        "\n",
        "#         # Only copy if the new path is different from the original path\n",
        "#         if new_img_path != original_img_path:\n",
        "#             copy2(original_img_path, new_img_path)\n"
      ],
      "metadata": {
        "id": "vKkVoMY1XT85"
      },
      "id": "vKkVoMY1XT85",
      "execution_count": 9,
      "outputs": []
    },
    {
      "cell_type": "code",
      "source": [
        "# oversampling\n",
        "\n",
        "from imblearn.over_sampling import SMOTE\n",
        "import os\n",
        "from shutil import copy2\n",
        "import numpy as np\n",
        "from PIL import Image\n",
        "\n",
        "# Hypothetical feature extraction function\n",
        "def extract_features(image_path):\n",
        "    try:\n",
        "        # Open the image\n",
        "        with Image.open(image_path) as img:\n",
        "            # Convert the image to grayscale\n",
        "            img = img.convert('L')\n",
        "            # Resize the image to a fixed size\n",
        "            img = img.resize((224, 224))\n",
        "            # Flatten the image to a 1D array\n",
        "            features = np.array(img).flatten()\n",
        "            return features\n",
        "    except Exception as e:\n",
        "        print(f\"Error processing image {image_path}: {e}\")\n",
        "        return None\n",
        "\n",
        "# Initialize SMOTE\n",
        "smote = SMOTE()\n",
        "\n",
        "# Define classes and training directory\n",
        "train_dir = '/content/train'\n",
        "classes = ['Batik Bali', 'Batik Betawi', 'Batik Celup', 'Batik Cendrawasih', 'Batik Dayak', 'Batik Geblek Renteng', 'Batik Insang', 'Batik Kawung',\n",
        "           'Batik Lasem', 'Batik Mega Mendung', 'Batik Pala', 'Batik Parang', 'Batik Poleng', 'Batik Sekar Jagad', 'Batik Tambal']\n",
        "\n",
        "# Check if the training directory exists\n",
        "if not os.path.exists(train_dir):\n",
        "    print(f\"Training directory '{train_dir}' does not exist.\")\n",
        "else:\n",
        "    # Collect all training images and labels from all classes\n",
        "    X_train = []\n",
        "    y_train = []\n",
        "    image_paths = []\n",
        "\n",
        "    for cls in classes:\n",
        "        train_cls_dir = os.path.join(train_dir, cls)\n",
        "        if not os.path.exists(train_cls_dir):\n",
        "            print(f\"Class directory '{train_cls_dir}' does not exist.\")\n",
        "            continue  # Skip this class if the directory does not exist\n",
        "\n",
        "        train_imgs = os.listdir(train_cls_dir)\n",
        "        for img in train_imgs:\n",
        "            img_path = os.path.join(train_cls_dir, img)\n",
        "            features = extract_features(img_path)\n",
        "            if features is not None:\n",
        "                X_train.append(features)\n",
        "                y_train.append(cls)\n",
        "                image_paths.append(img_path)\n",
        "\n",
        "    if len(X_train) == 0:\n",
        "        print(\"No images found for any class. Please check your directories and try again.\")\n",
        "    else:\n",
        "        # Convert to numpy arrays\n",
        "        X_train = np.array(X_train)\n",
        "        y_train = np.array(y_train)\n",
        "\n",
        "        # Perform oversampling on the entire training dataset\n",
        "        X_train_resampled, y_train_resampled = smote.fit_resample(X_train, y_train)\n",
        "\n",
        "        # Copy images to the training directory with the oversampled dataset\n",
        "        for idx, (features, label) in enumerate(zip(X_train_resampled, y_train_resampled)):\n",
        "            original_idx = idx % len(image_paths)\n",
        "            original_img_path = image_paths[original_idx]\n",
        "            class_name = label\n",
        "            destination_dir = os.path.join(train_dir, class_name)\n",
        "\n",
        "            if not os.path.exists(destination_dir):\n",
        "                os.makedirs(destination_dir)\n",
        "\n",
        "            new_img_path = os.path.join(destination_dir, f'oversampled_{idx}.jpg')\n",
        "\n",
        "            # Only copy if the new path is different from the original path\n",
        "            if new_img_path != original_img_path:\n",
        "                copy2(original_img_path, new_img_path)\n",
        "\n",
        "        print(\"Oversampling completed successfully.\")"
      ],
      "metadata": {
        "id": "g1SU_OvQXW9h",
        "colab": {
          "base_uri": "https://localhost:8080/"
        },
        "outputId": "f6a4fb6d-4eb3-4e00-d8c4-62d67b0e603e"
      },
      "id": "g1SU_OvQXW9h",
      "execution_count": 10,
      "outputs": [
        {
          "output_type": "stream",
          "name": "stdout",
          "text": [
            "Oversampling completed successfully.\n"
          ]
        }
      ]
    },
    {
      "cell_type": "code",
      "execution_count": 11,
      "id": "bddee79b",
      "metadata": {
        "id": "bddee79b",
        "colab": {
          "base_uri": "https://localhost:8080/"
        },
        "outputId": "810f6353-bd92-47fa-c1a3-5dbb4d2870b3"
      },
      "outputs": [
        {
          "output_type": "stream",
          "name": "stdout",
          "text": [
            "Found 8464 images belonging to 15 classes.\n",
            "Found 501 images belonging to 15 classes.\n",
            "Found 512 images belonging to 15 classes.\n"
          ]
        }
      ],
      "source": [
        "TRAINING_DIR = r'/content/train'\n",
        "train_datagen = ImageDataGenerator(\n",
        "                    rescale = 1.0 / 255.0,\n",
        "                    rotation_range = 40,\n",
        "                    width_shift_range=0.2,\n",
        "                    height_shift_range=0.2,\n",
        "                    horizontal_flip=True,\n",
        "                    shear_range = 0.2,\n",
        "                    zoom_range= 0.2,\n",
        "                    fill_mode = 'nearest')\n",
        "\n",
        "train_generator = train_datagen.flow_from_directory(\n",
        "    TRAINING_DIR,\n",
        "    target_size=(224, 224),\n",
        "    class_mode='categorical',\n",
        "    batch_size=128\n",
        ")\n",
        "\n",
        "VALIDATION_DIR = r'/content/val'\n",
        "val_datagen = ImageDataGenerator(rescale = 1.0 / 255.0)\n",
        "\n",
        "validation_generator = val_datagen.flow_from_directory(\n",
        "    VALIDATION_DIR,\n",
        "    target_size=(224, 224),\n",
        "    class_mode='categorical',\n",
        "    batch_size=128\n",
        ")\n",
        "\n",
        "TESTING_DIR = r'/content/test'\n",
        "test_datagen = ImageDataGenerator(rescale = 1.0 / 255.0)\n",
        "\n",
        "testing_generator = test_datagen.flow_from_directory(\n",
        "    TESTING_DIR,\n",
        "    target_size=(224, 224),\n",
        "    class_mode='categorical',\n",
        "    batch_size=128\n",
        ")"
      ]
    },
    {
      "cell_type": "markdown",
      "id": "x0WSzv9ujSzU",
      "metadata": {
        "id": "x0WSzv9ujSzU"
      },
      "source": [
        "# CNN"
      ]
    },
    {
      "cell_type": "code",
      "execution_count": null,
      "id": "8b3207e8",
      "metadata": {
        "id": "8b3207e8"
      },
      "outputs": [],
      "source": [
        "# Transfer Learning\n",
        "\n",
        "# base_model = tf.keras.applications.VGG16(include_top=False,\n",
        "#                                          weights='imagenet',\n",
        "#                                          input_shape=(380, 380, 3))\n",
        "# base_model.trainable = False"
      ]
    },
    {
      "cell_type": "markdown",
      "id": "G0joIpe7jVmY",
      "metadata": {
        "id": "G0joIpe7jVmY"
      },
      "source": [
        "Pembuatan model CNN pada keras mirip dengan pembuatan model Multi Layer Perceptron (MLP) yang dibahas pada modul sebelumnya. Perbedaannya terdapat pada empat lapis layer konvolusi dan max pooling."
      ]
    },
    {
      "cell_type": "code",
      "execution_count": null,
      "id": "eCOL_TUdtC_P",
      "metadata": {
        "collapsed": true,
        "id": "eCOL_TUdtC_P"
      },
      "outputs": [],
      "source": [
        "# num_classes = 15  # ada 15 class\n",
        "\n",
        "# model = tf.keras.models.Sequential([\n",
        "#     tf.keras.layers.Conv2D(32, (3, 3), 1, activation='relu', input_shape=(380, 380, 3)),\n",
        "#     tf.keras.layers.MaxPooling2D(2, 2),\n",
        "\n",
        "#     tf.keras.layers.Conv2D(32, (3, 3), 1, activation='relu'),\n",
        "#     tf.keras.layers.MaxPooling2D(2, 2),\n",
        "\n",
        "#     tf.keras.layers.Conv2D(64, (3, 3), 1, activation='relu'),\n",
        "#     tf.keras.layers.MaxPooling2D(2, 2),\n",
        "\n",
        "#     tf.keras.layers.Conv2D(256, (3, 3), 1, activation='relu'),\n",
        "#     tf.keras.layers.MaxPooling2D(2, 2),\n",
        "\n",
        "#     tf.keras.layers.Flatten(),\n",
        "#     tf.keras.layers.Dropout(0.5),\n",
        "\n",
        "#     tf.keras.layers.Dense(256, activation=\"relu\"),\n",
        "#     tf.keras.layers.Dense(num_classes, activation='softmax')  # num_classes should be > 1 for multi-class classification\n",
        "# ])\n",
        "\n",
        "# model.summary()"
      ]
    },
    {
      "cell_type": "markdown",
      "source": [
        "# Transfer Learning"
      ],
      "metadata": {
        "id": "Ft6jttPKsq0x"
      },
      "id": "Ft6jttPKsq0x"
    },
    {
      "cell_type": "code",
      "execution_count": 12,
      "id": "ARtccKF9GOd1",
      "metadata": {
        "collapsed": true,
        "id": "ARtccKF9GOd1"
      },
      "outputs": [],
      "source": [
        "# # VERSI 1\n",
        "# # jumlah kelas\n",
        "# num_classes = 15\n",
        "\n",
        "# # ukuran input shape\n",
        "# input_shape = (224, 224, 3)  # Assuming you're using VGG16 which requires 224x224 images\n",
        "\n",
        "# # Load the pre-trained VGG16 model (include_top=False to exclude the fully connected layers)\n",
        "# base_model = tf.keras.applications.VGG16(include_top=False,\n",
        "#                                          weights='imagenet',\n",
        "#                                          input_shape=(224, 224, 3))\n",
        "# base_model = vgg16.VGG16(weights='imagenet', include_top=False, input_shape=input_shape)\n",
        "\n",
        "# # Freeze the pre-trained layers so they're not updated during training\n",
        "# for layer in base_model.layers:\n",
        "#     layer.trainable = False\n",
        "\n",
        "# # Unfreeze beberapa lapisan terakhir\n",
        "# # for layer in base_model.layers[-4:]:  # Membuka freeze 4 lapisan terakhir\n",
        "# #     layer.trainable = True\n",
        "\n",
        "# # Global Average Pooling layer can be used instead of Flatten\n",
        "# # x = GlobalAveragePooling2D()(x)\n",
        "\n",
        "# # ------------------------------------------------------------MODEL 1-----------------------------------------------------------------------------------------------\n",
        "# # Add new fully connected layers on top of the pre-trained layers\n",
        "# x = base_model.output\n",
        "# x = Conv2D(512, (3, 3), activation='relu')(x)\n",
        "# # x = MaxPooling2D((2, 2))(x)\n",
        "# x = Flatten()(x)\n",
        "# x = Dense(1024, activation = \"relu\")(x)\n",
        "# x = Dropout(0.2)(x)\n",
        "# predictions = Dense(num_classes, activation='softmax')(x)\n",
        "\n",
        "# # ------------------------------------------------------------MODEL 2-----------------------------------------------------------------------------------------------\n",
        "# # model = tf.keras.Sequential([\n",
        "# #     base_model,\n",
        "# #     tf.keras.layers.Conv2D(128, (3, 3), padding = 'same', activation = 'relu'),\n",
        "# #     tf.keras.layers.MaxPooling2D(2, 2),\n",
        "# #     tf.keras.layers.Conv2D(256, (3, 3), padding = 'same', activation = 'relu'),\n",
        "# #     tf.keras.layers.MaxPooling2D(2, 2),\n",
        "# #     tf.keras.layers.Flatten(),\n",
        "# #     tf.keras.layers.GlobalAveragePooling2D(),\n",
        "# #     tf.keras.layers.Dropout(0.2),\n",
        "# #     tf.keras.layers.Dense(num_classes, activation='softmax')\n",
        "# # ])\n",
        "\n",
        "# # Create the final model\n",
        "# model = Model(inputs=base_model.input, outputs=predictions)\n",
        "\n",
        "# # Callbacks\n",
        "# from tensorflow.keras.callbacks import ModelCheckpoint, EarlyStopping, ReduceLROnPlateau\n",
        "\n",
        "# callbacks = [\n",
        "#     ModelCheckpoint('best_model.h5', save_best_only=True, monitor='val_loss', mode='min'),\n",
        "#     EarlyStopping(monitor='val_loss', patience=10, mode='min', restore_best_weights=True),\n",
        "#     ReduceLROnPlateau(monitor='val_loss', factor=0.1, patience=5, mode='min')\n",
        "# ]"
      ]
    },
    {
      "cell_type": "code",
      "source": [
        "# VERSI 2\n",
        "\n",
        "import tensorflow as tf\n",
        "from tensorflow.keras.models import Model\n",
        "from tensorflow.keras.applications import VGG16\n",
        "\n",
        "# jumlah kelas\n",
        "num_classes = 15\n",
        "\n",
        "# ukuran input shape\n",
        "input_shape = (224, 224, 3)  # Assuming you're using VGG16 which requires 224x224 images\n",
        "\n",
        "# Load the pre-trained VGG16 model (include_top=False to exclude the fully connected layers)\n",
        "base_model = VGG16(weights='imagenet', include_top=False, input_shape=input_shape)\n",
        "\n",
        "# Freeze the pre-trained layers so they're not updated during training\n",
        "for layer in base_model.layers:\n",
        "    layer.trainable = False\n",
        "\n",
        "# Define your top layers\n",
        "x = tf.keras.layers.Conv2D(512, (3, 3), padding='same', activation='relu')(base_model.output)\n",
        "# x = tf.keras.layers.MaxPooling2D(2, 2)(x)\n",
        "# x = tf.keras.layers.Conv2D(32, (3, 3), padding='same', activation='relu')(x)\n",
        "# x = tf.keras.layers.MaxPooling2D(2, 2)(x)\n",
        "# x = tf.keras.layers.Conv2D(64, (3, 3), padding='same', activation='relu')(x)\n",
        "# x = tf.keras.layers.MaxPooling2D(2, 2)(x)\n",
        "# x = tf.keras.layers.Conv2D(64, (3, 3), padding='same', activation='relu')(x)\n",
        "# x = tf.keras.layers.MaxPooling2D(2, 2)(x)\n",
        "x = tf.keras.layers.Flatten()(x)\n",
        "x = tf.keras.layers.Dense(1024, activation='relu')(x)\n",
        "# x = tf.keras.layers.GlobalAveragePooling2D()(x)\n",
        "x = tf.keras.layers.Dropout(0.5)(x) # atau 0.2\n",
        "predictions = tf.keras.layers.Dense(num_classes, activation='softmax')(x)\n",
        "\n",
        "# Create the final model\n",
        "model = Model(inputs=base_model.input, outputs=predictions)\n",
        "model.summary()\n",
        "\n",
        "# Callbacks\n",
        "from tensorflow.keras.callbacks import ModelCheckpoint, EarlyStopping, ReduceLROnPlateau\n",
        "\n",
        "callbacks = [\n",
        "    ModelCheckpoint('best_model.keras', save_best_only=True, monitor='val_loss', mode='min'),\n",
        "    EarlyStopping(monitor='val_loss', patience=10, mode='min', restore_best_weights=True),\n",
        "    ReduceLROnPlateau(monitor='val_loss', factor=0.1, patience=5, mode='min')\n",
        "]"
      ],
      "metadata": {
        "id": "D165YI2_Wp8s",
        "colab": {
          "base_uri": "https://localhost:8080/"
        },
        "outputId": "f26472f5-fca6-474b-ebd4-49f310d64395"
      },
      "id": "D165YI2_Wp8s",
      "execution_count": 13,
      "outputs": [
        {
          "output_type": "stream",
          "name": "stdout",
          "text": [
            "Downloading data from https://storage.googleapis.com/tensorflow/keras-applications/vgg16/vgg16_weights_tf_dim_ordering_tf_kernels_notop.h5\n",
            "58889256/58889256 [==============================] - 3s 0us/step\n",
            "Model: \"model\"\n",
            "_________________________________________________________________\n",
            " Layer (type)                Output Shape              Param #   \n",
            "=================================================================\n",
            " input_1 (InputLayer)        [(None, 224, 224, 3)]     0         \n",
            "                                                                 \n",
            " block1_conv1 (Conv2D)       (None, 224, 224, 64)      1792      \n",
            "                                                                 \n",
            " block1_conv2 (Conv2D)       (None, 224, 224, 64)      36928     \n",
            "                                                                 \n",
            " block1_pool (MaxPooling2D)  (None, 112, 112, 64)      0         \n",
            "                                                                 \n",
            " block2_conv1 (Conv2D)       (None, 112, 112, 128)     73856     \n",
            "                                                                 \n",
            " block2_conv2 (Conv2D)       (None, 112, 112, 128)     147584    \n",
            "                                                                 \n",
            " block2_pool (MaxPooling2D)  (None, 56, 56, 128)       0         \n",
            "                                                                 \n",
            " block3_conv1 (Conv2D)       (None, 56, 56, 256)       295168    \n",
            "                                                                 \n",
            " block3_conv2 (Conv2D)       (None, 56, 56, 256)       590080    \n",
            "                                                                 \n",
            " block3_conv3 (Conv2D)       (None, 56, 56, 256)       590080    \n",
            "                                                                 \n",
            " block3_pool (MaxPooling2D)  (None, 28, 28, 256)       0         \n",
            "                                                                 \n",
            " block4_conv1 (Conv2D)       (None, 28, 28, 512)       1180160   \n",
            "                                                                 \n",
            " block4_conv2 (Conv2D)       (None, 28, 28, 512)       2359808   \n",
            "                                                                 \n",
            " block4_conv3 (Conv2D)       (None, 28, 28, 512)       2359808   \n",
            "                                                                 \n",
            " block4_pool (MaxPooling2D)  (None, 14, 14, 512)       0         \n",
            "                                                                 \n",
            " block5_conv1 (Conv2D)       (None, 14, 14, 512)       2359808   \n",
            "                                                                 \n",
            " block5_conv2 (Conv2D)       (None, 14, 14, 512)       2359808   \n",
            "                                                                 \n",
            " block5_conv3 (Conv2D)       (None, 14, 14, 512)       2359808   \n",
            "                                                                 \n",
            " block5_pool (MaxPooling2D)  (None, 7, 7, 512)         0         \n",
            "                                                                 \n",
            " conv2d (Conv2D)             (None, 7, 7, 512)         2359808   \n",
            "                                                                 \n",
            " flatten (Flatten)           (None, 25088)             0         \n",
            "                                                                 \n",
            " dense (Dense)               (None, 1024)              25691136  \n",
            "                                                                 \n",
            " dropout (Dropout)           (None, 1024)              0         \n",
            "                                                                 \n",
            " dense_1 (Dense)             (None, 15)                15375     \n",
            "                                                                 \n",
            "=================================================================\n",
            "Total params: 42781007 (163.20 MB)\n",
            "Trainable params: 28066319 (107.06 MB)\n",
            "Non-trainable params: 14714688 (56.13 MB)\n",
            "_________________________________________________________________\n"
          ]
        }
      ]
    },
    {
      "cell_type": "code",
      "source": [
        "# # VERSI 3\n",
        "\n",
        "# import tensorflow as tf\n",
        "# from tensorflow.keras.models import Model\n",
        "# from tensorflow.keras.applications import EfficientNetV2M\n",
        "\n",
        "# # jumlah kelas\n",
        "# num_classes = 15\n",
        "# input_shape = (224, 224, 3)\n",
        "\n",
        "# base_model = EfficientNetV2M(weights='imagenet', include_top=False, input_shape=input_shape)\n",
        "\n",
        "# for layer in base_model.layers:\n",
        "#     layer.trainable = False\n",
        "\n",
        "# # Define your top layers\n",
        "# x = tf.keras.layers.Conv2D(256, (3, 3), padding='same', activation='relu')(base_model.output)\n",
        "# x = tf.keras.layers.MaxPooling2D(2, 2)(x)\n",
        "# x = tf.keras.layers.Conv2D(512, (3, 3), padding='same', activation='relu')(x)\n",
        "# x = tf.keras.layers.MaxPooling2D(2, 2)(x)\n",
        "# x = tf.keras.layers.Flatten()(x)\n",
        "# # x = tf.keras.layers.GlobalAveragePooling2D()(x)\n",
        "# x = tf.keras.layers.Dropout(0.5)(x) # atau 0.2\n",
        "# predictions = tf.keras.layers.Dense(num_classes, activation='softmax')(x)\n",
        "\n",
        "# # Create the final model\n",
        "# model = Model(inputs=base_model.input, outputs=predictions)\n",
        "# model.summary()\n",
        "\n",
        "# # Callbacks\n",
        "# from tensorflow.keras.callbacks import ModelCheckpoint, EarlyStopping, ReduceLROnPlateau\n",
        "\n",
        "# callbacks = [\n",
        "#     ModelCheckpoint('best_model.keras', save_best_only=True, monitor='val_loss', mode='min'),\n",
        "#     EarlyStopping(monitor='val_loss', patience=10, mode='min', restore_best_weights=True),\n",
        "#     ReduceLROnPlateau(monitor='val_loss', factor=0.1, patience=5, mode='min')\n",
        "# ]"
      ],
      "metadata": {
        "id": "d-4bZA_P18Jk"
      },
      "id": "d-4bZA_P18Jk",
      "execution_count": 14,
      "outputs": []
    },
    {
      "cell_type": "markdown",
      "source": [
        "kalo param gede mbnya mungkin,\n",
        "Regularisasi: Menggunakan teknik regularisasi seperti dropout, L2 regularization, atau early stopping untuk mengurangi risiko overfitting.\n",
        "\n",
        "Data Augmentation: Meningkatkan ukuran dan keragaman dataset dengan teknik data augmentation untuk membantu model generalisasi lebih baik.\n",
        "\n",
        "Model Compression:Menggunakan teknik kompresi model seperti pruning, quantization, atau distillation untuk mengurangi ukuran model tanpa mengorbankan performa secara signifikan."
      ],
      "metadata": {
        "id": "S_uL4mTjr718"
      },
      "id": "S_uL4mTjr718"
    },
    {
      "cell_type": "code",
      "execution_count": 15,
      "id": "d65366d7",
      "metadata": {
        "id": "d65366d7"
      },
      "outputs": [],
      "source": [
        "'''\n",
        "tahap selanjutnya adalah melakukan compile model tersebut menggunakan fungsi compile(). Pada tahap ini, kita juga menentukan loss function serta optimizer yang akan digunakan.\n",
        "Selain itu, optimizer yang digunakan  pada kasus ini adalah \"Adam optimizer\".\n",
        "Adam optimizer dipilih karena mudah diterapkan, lebih efisien secara komputasi dan kebutuhan memori yang lebih kecil.\n",
        "'''\n",
        "from keras.optimizers import Adam\n",
        "model.compile(loss = 'categorical_crossentropy',\n",
        "              optimizer = tf.keras.optimizers.Adam(learning_rate=0.0001), # atau 0.0005\n",
        "              metrics = ['accuracy'])\n"
      ]
    },
    {
      "cell_type": "code",
      "execution_count": 16,
      "id": "TPLwpqnSuEl9",
      "metadata": {
        "id": "TPLwpqnSuEl9",
        "colab": {
          "base_uri": "https://localhost:8080/"
        },
        "outputId": "89ce3679-aa37-4008-8f21-7bd4919b5ae3"
      },
      "outputs": [
        {
          "output_type": "stream",
          "name": "stdout",
          "text": [
            "Steps per epoch: 66\n",
            "Validation steps: 3\n"
          ]
        }
      ],
      "source": [
        "# menghitung step per epochnya\n",
        "\n",
        "steps_per_epoch = train_generator.samples // train_generator.batch_size\n",
        "validation_steps = validation_generator.samples // validation_generator.batch_size\n",
        "\n",
        "print(f\"Steps per epoch: {steps_per_epoch}\")\n",
        "print(f\"Validation steps: {validation_steps}\")"
      ]
    },
    {
      "cell_type": "code",
      "execution_count": 17,
      "id": "cd2f37f0",
      "metadata": {
        "id": "cd2f37f0",
        "colab": {
          "base_uri": "https://localhost:8080/"
        },
        "outputId": "52d414fe-920d-4421-c84d-ae54d62d7f22"
      },
      "outputs": [
        {
          "output_type": "stream",
          "name": "stdout",
          "text": [
            "Epoch 1/20\n",
            "66/66 [==============================] - 173s 2s/step - loss: 2.1407 - accuracy: 0.3277 - val_loss: 1.4704 - val_accuracy: 0.5182 - lr: 1.0000e-04\n",
            "Epoch 2/20\n",
            "66/66 [==============================] - 145s 2s/step - loss: 1.4559 - accuracy: 0.5446 - val_loss: 1.1129 - val_accuracy: 0.6354 - lr: 1.0000e-04\n",
            "Epoch 3/20\n",
            "66/66 [==============================] - 143s 2s/step - loss: 1.2422 - accuracy: 0.6195 - val_loss: 1.0706 - val_accuracy: 0.6641 - lr: 1.0000e-04\n",
            "Epoch 4/20\n",
            "66/66 [==============================] - 146s 2s/step - loss: 1.1081 - accuracy: 0.6672 - val_loss: 0.8617 - val_accuracy: 0.7292 - lr: 1.0000e-04\n",
            "Epoch 5/20\n",
            "66/66 [==============================] - 153s 2s/step - loss: 0.9663 - accuracy: 0.7103 - val_loss: 0.8306 - val_accuracy: 0.7630 - lr: 1.0000e-04\n",
            "Epoch 6/20\n",
            "66/66 [==============================] - 142s 2s/step - loss: 0.8973 - accuracy: 0.7362 - val_loss: 0.6912 - val_accuracy: 0.8125 - lr: 1.0000e-04\n",
            "Epoch 7/20\n",
            "66/66 [==============================] - 140s 2s/step - loss: 0.8036 - accuracy: 0.7721 - val_loss: 0.7752 - val_accuracy: 0.7839 - lr: 1.0000e-04\n",
            "Epoch 8/20\n",
            "66/66 [==============================] - 145s 2s/step - loss: 0.7384 - accuracy: 0.7935 - val_loss: 0.6401 - val_accuracy: 0.8125 - lr: 1.0000e-04\n",
            "Epoch 9/20\n",
            "66/66 [==============================] - 146s 2s/step - loss: 0.7165 - accuracy: 0.7965 - val_loss: 0.5973 - val_accuracy: 0.8281 - lr: 1.0000e-04\n",
            "Epoch 10/20\n",
            "66/66 [==============================] - 146s 2s/step - loss: 0.6536 - accuracy: 0.8135 - val_loss: 0.5617 - val_accuracy: 0.8255 - lr: 1.0000e-04\n",
            "Epoch 11/20\n",
            "66/66 [==============================] - 139s 2s/step - loss: 0.6161 - accuracy: 0.8241 - val_loss: 0.5794 - val_accuracy: 0.8411 - lr: 1.0000e-04\n",
            "Epoch 12/20\n",
            "66/66 [==============================] - 150s 2s/step - loss: 0.5850 - accuracy: 0.8382 - val_loss: 0.4821 - val_accuracy: 0.8490 - lr: 1.0000e-04\n",
            "Epoch 13/20\n",
            "66/66 [==============================] - 137s 2s/step - loss: 0.5501 - accuracy: 0.8470 - val_loss: 0.4958 - val_accuracy: 0.8594 - lr: 1.0000e-04\n",
            "Epoch 14/20\n",
            "66/66 [==============================] - 148s 2s/step - loss: 0.5118 - accuracy: 0.8577 - val_loss: 0.4265 - val_accuracy: 0.8776 - lr: 1.0000e-04\n",
            "Epoch 15/20\n",
            "66/66 [==============================] - 140s 2s/step - loss: 0.4988 - accuracy: 0.8661 - val_loss: 0.4482 - val_accuracy: 0.8698 - lr: 1.0000e-04\n",
            "Epoch 16/20\n",
            "66/66 [==============================] - 139s 2s/step - loss: 0.4595 - accuracy: 0.8763 - val_loss: 0.5061 - val_accuracy: 0.8620 - lr: 1.0000e-04\n",
            "Epoch 17/20\n",
            "66/66 [==============================] - 136s 2s/step - loss: 0.4489 - accuracy: 0.8732 - val_loss: 0.4658 - val_accuracy: 0.8594 - lr: 1.0000e-04\n",
            "Epoch 18/20\n",
            "66/66 [==============================] - 140s 2s/step - loss: 0.4241 - accuracy: 0.8844 - val_loss: 0.4431 - val_accuracy: 0.8724 - lr: 1.0000e-04\n",
            "Epoch 19/20\n",
            "66/66 [==============================] - 150s 2s/step - loss: 0.4015 - accuracy: 0.8917 - val_loss: 0.4209 - val_accuracy: 0.8698 - lr: 1.0000e-04\n",
            "Epoch 20/20\n",
            "66/66 [==============================] - 150s 2s/step - loss: 0.3833 - accuracy: 0.8949 - val_loss: 0.3715 - val_accuracy: 0.8932 - lr: 1.0000e-04\n"
          ]
        }
      ],
      "source": [
        "# latih model dengan model.fit\n",
        "# logdir = \"logs\"\n",
        "# tensorflow_callback = tf.keras.callbacks.TensorBoard(log_dir = logdir)\n",
        "\n",
        "history = model.fit(\n",
        "    train_generator,\n",
        "    steps_per_epoch=train_generator.samples // train_generator.batch_size,\n",
        "    epochs=20,\n",
        "    validation_data=validation_generator,\n",
        "    validation_steps=validation_generator.samples // validation_generator.batch_size,\n",
        "    callbacks=callbacks\n",
        ")"
      ]
    },
    {
      "cell_type": "markdown",
      "source": [
        "# Import ke Tflite, Json, H5, tfjs"
      ],
      "metadata": {
        "id": "zU7SGTHcsyTx"
      },
      "id": "zU7SGTHcsyTx"
    },
    {
      "cell_type": "code",
      "source": [
        "# import ke h5\n",
        "\n",
        "model.save(\"model.h5\")"
      ],
      "metadata": {
        "id": "yazWw695dpiU"
      },
      "id": "yazWw695dpiU",
      "execution_count": null,
      "outputs": []
    },
    {
      "cell_type": "code",
      "execution_count": null,
      "id": "Ps8M9ZXLR-0E",
      "metadata": {
        "id": "Ps8M9ZXLR-0E"
      },
      "outputs": [],
      "source": [
        "# import ke tflite\n",
        "model = tf.keras.models.load_model(\"model.h5\")\n",
        "\n",
        "# Convert the model to TensorFlow Lite format\n",
        "converter = tf.lite.TFLiteConverter.from_keras_model(model)\n",
        "model_tflite = converter.convert()\n",
        "\n",
        "# Save the converted model to a .tflite file\n",
        "with open(\"CNN_TransferLearningModel.tflite\", \"wb\") as f:\n",
        "    f.write(model_tflite)"
      ]
    },
    {
      "cell_type": "code",
      "execution_count": null,
      "id": "eHZc4LShWPsJ",
      "metadata": {
        "id": "eHZc4LShWPsJ"
      },
      "outputs": [],
      "source": [
        "# import ke json\n",
        "\n",
        "import json\n",
        "\n",
        "model = tf.keras.models.load_model(\"model.h5\")\n",
        "\n",
        "# Save the model architecture to a JSON file\n",
        "model_json = model.to_json()\n",
        "with open(\"model.json\", \"w\") as json_file:\n",
        "    json_file.write(model_json)"
      ]
    },
    {
      "cell_type": "code",
      "source": [
        "!pip install tensorflowjs"
      ],
      "metadata": {
        "id": "naGCWiYWt3Je"
      },
      "id": "naGCWiYWt3Je",
      "execution_count": null,
      "outputs": []
    },
    {
      "cell_type": "code",
      "source": [
        "# import ke tfjs\n",
        "\n",
        "model = tf.keras.models.load_model(\"model.h5\")\n",
        "\n",
        "!tensorflowjs_converter --input_format=keras {saved_model_path} ./\n",
        "!zip filebin.zip *.bin model.json"
      ],
      "metadata": {
        "id": "mTO_RuOJBgFU"
      },
      "id": "mTO_RuOJBgFU",
      "execution_count": null,
      "outputs": []
    },
    {
      "cell_type": "markdown",
      "source": [
        "# Cek Grafik"
      ],
      "metadata": {
        "id": "orpm539Gs46d"
      },
      "id": "orpm539Gs46d"
    },
    {
      "cell_type": "code",
      "execution_count": 18,
      "id": "1f962a98",
      "metadata": {
        "id": "1f962a98",
        "colab": {
          "base_uri": "https://localhost:8080/",
          "height": 887
        },
        "outputId": "a097d567-1296-48d4-d89f-2fe0f0146705"
      },
      "outputs": [
        {
          "output_type": "display_data",
          "data": {
            "text/plain": [
              "<Figure size 640x480 with 1 Axes>"
            ],
            "image/png": "[encoded data removed]"
          },
          "metadata": {}
        },
        {
          "output_type": "display_data",
          "data": {
            "text/plain": [
              "<Figure size 640x480 with 1 Axes>"
            ],
            "image/png": "[encoded data removed]"
          },
          "metadata": {}
        }
      ],
      "source": [
        "# Plot the chart for accuracy and loss on both training and validation\n",
        "acc = history.history['accuracy']\n",
        "val_acc = history.history['val_accuracy']\n",
        "loss = history.history['loss']\n",
        "val_loss = history.history['val_loss']\n",
        "\n",
        "epochs = range(len(acc))\n",
        "\n",
        "plt.plot(epochs, acc, 'r', label='Training accuracy')\n",
        "plt.plot(epochs, val_acc, 'b', label='Validation accuracy')\n",
        "plt.title('Training and validation accuracy')\n",
        "plt.legend()\n",
        "plt.figure()\n",
        "\n",
        "plt.plot(epochs, loss, 'r', label='Training Loss')\n",
        "plt.plot(epochs, val_loss, 'b', label='Validation Loss')\n",
        "plt.title('Training and validation loss')\n",
        "plt.legend()\n",
        "\n",
        "plt.show()"
      ]
    },
    {
      "cell_type": "markdown",
      "source": [
        "# Tes Prediksi"
      ],
      "metadata": {
        "id": "RkJKBcm2s7_i"
      },
      "id": "RkJKBcm2s7_i"
    },
    {
      "cell_type": "code",
      "execution_count": 19,
      "id": "cca1e041",
      "metadata": {
        "id": "cca1e041",
        "colab": {
          "base_uri": "https://localhost:8080/"
        },
        "outputId": "139de76f-4091-4bce-e0ac-875c9998a004"
      },
      "outputs": [
        {
          "output_type": "stream",
          "name": "stdout",
          "text": [
            "4/4 [==============================] - 3s 740ms/step\n",
            "4/4 [==============================] - 3s 738ms/step - loss: 0.4652 - accuracy: 0.8730\n",
            "Test accuracy: 0.873046875\n",
            "4/4 [==============================] - 2s 632ms/step\n"
          ]
        }
      ],
      "source": [
        "# Melakukan Prediksi\n",
        "testing_steps = testing_generator.samples // testing_generator.batch_size\n",
        "predictions = model.predict(testing_generator, steps=testing_steps)\n",
        "\n",
        "# Evaluasi model pada dataset testing\n",
        "test_loss, test_acc = model.evaluate(testing_generator, steps=testing_generator.samples // testing_generator.batch_size)\n",
        "print(f'Test accuracy: {test_acc}')\n",
        "\n",
        "# Atau jika Anda hanya ingin melakukan prediksi pada dataset testing\n",
        "predictions = model.predict(testing_generator, steps=testing_generator.samples // testing_generator.batch_size)\n"
      ]
    },
    {
      "cell_type": "code",
      "source": [
        "motives_dict = train_generator.class_indices\n",
        "print(motives_dict)"
      ],
      "metadata": {
        "colab": {
          "base_uri": "https://localhost:8080/"
        },
        "id": "ZaRuEG-385lp",
        "outputId": "60cff24f-5e8d-4621-d970-5c4977dad80e"
      },
      "id": "ZaRuEG-385lp",
      "execution_count": 23,
      "outputs": [
        {
          "output_type": "stream",
          "name": "stdout",
          "text": [
            "{'Batik Bali': 0, 'Batik Betawi': 1, 'Batik Celup': 2, 'Batik Cendrawasih': 3, 'Batik Dayak': 4, 'Batik Geblek Renteng': 5, 'Batik Insang': 6, 'Batik Kawung': 7, 'Batik Lasem': 8, 'Batik Mega Mendung': 9, 'Batik Pala': 10, 'Batik Parang': 11, 'Batik Poleng': 12, 'Batik Sekar Jagad': 13, 'Batik Tambal': 14}\n"
          ]
        }
      ]
    },
    {
      "cell_type": "code",
      "source": [
        "import os\n",
        "import numpy as np\n",
        "import tensorflow as tf\n",
        "from tensorflow.keras.preprocessing.image import load_img, img_to_array\n",
        "\n",
        "test_dir = '/content/test'\n",
        "\n",
        "for motive in motives_dict.keys():\n",
        "    images_list = os.listdir(os.path.join(test_dir, motive))\n",
        "    correct_count = 0\n",
        "\n",
        "    for image in images_list:\n",
        "        img_path = os.path.join(test_dir, motive, image)\n",
        "        img = load_img(img_path, target_size=(224, 224))\n",
        "\n",
        "        img_array = img_to_array(img)\n",
        "        img_array = tf.expand_dims(img_array, 0)\n",
        "\n",
        "        motives_list = list(motives_dict.keys())\n",
        "        prediction = model(img_array)\n",
        "        pred_idx = np.argmax(prediction)\n",
        "        pred_motive = motives_list[pred_idx]\n",
        "        pred_confidence = prediction[0][pred_idx] * 100\n",
        "\n",
        "        if pred_motive == motive:\n",
        "            correct_count += 1\n",
        "\n",
        "    total_images = len(images_list)\n",
        "    print(f'{motive} Predictions --> {correct_count}/{total_images} correct')"
      ],
      "metadata": {
        "colab": {
          "base_uri": "https://localhost:8080/"
        },
        "id": "ZhOQV03w8vLk",
        "outputId": "c3cafb91-f2e4-4675-ca78-ac0175174619"
      },
      "id": "ZhOQV03w8vLk",
      "execution_count": 33,
      "outputs": [
        {
          "output_type": "stream",
          "name": "stdout",
          "text": [
            "Batik Bali Predictions --> 11/34 correct\n",
            "Batik Betawi Predictions --> 7/35 correct\n",
            "Batik Celup Predictions --> 31/38 correct\n",
            "Batik Cendrawasih Predictions --> 6/34 correct\n",
            "Batik Dayak Predictions --> 12/34 correct\n",
            "Batik Geblek Renteng Predictions --> 12/34 correct\n",
            "Batik Insang Predictions --> 6/34 correct\n",
            "Batik Kawung Predictions --> 18/34 correct\n",
            "Batik Lasem Predictions --> 12/35 correct\n",
            "Batik Mega Mendung Predictions --> 33/35 correct\n",
            "Batik Pala Predictions --> 23/33 correct\n",
            "Batik Parang Predictions --> 12/34 correct\n",
            "Batik Poleng Predictions --> 27/31 correct\n",
            "Batik Sekar Jagad Predictions --> 25/33 correct\n",
            "Batik Tambal Predictions --> 15/34 correct\n"
          ]
        }
      ]
    },
    {
      "cell_type": "markdown",
      "source": [
        "# Evaluasi Model"
      ],
      "metadata": {
        "id": "2W8s7RxhtACR"
      },
      "id": "2W8s7RxhtACR"
    },
    {
      "cell_type": "code",
      "source": [
        "import os\n",
        "import numpy as np\n",
        "import tensorflow as tf\n",
        "from tensorflow.keras.preprocessing.image import load_img, img_to_array\n",
        "from sklearn.metrics import confusion_matrix, ConfusionMatrixDisplay\n",
        "import matplotlib.pyplot as plt\n",
        "\n",
        "test_dir = '/content/test'\n",
        "motives_list = list(motives_dict.keys())\n",
        "\n",
        "true_labels = []\n",
        "pred_labels = []\n",
        "\n",
        "for motive in motives_dict.keys():\n",
        "    images_list = os.listdir(os.path.join(test_dir, motive))\n",
        "\n",
        "    for image in images_list:\n",
        "        img_path = os.path.join(test_dir, motive, image)\n",
        "        img = load_img(img_path, target_size=(224, 224))\n",
        "\n",
        "        img_array = img_to_array(img)\n",
        "        img_array = tf.expand_dims(img_array, 0)\n",
        "\n",
        "        prediction = model(img_array)\n",
        "        pred_idx = np.argmax(prediction)\n",
        "        pred_motive = motives_list[pred_idx]\n",
        "\n",
        "        true_labels.append(motive)\n",
        "        pred_labels.append(pred_motive)\n",
        "\n",
        "# Calculate confusion matrix\n",
        "cm = confusion_matrix(true_labels, pred_labels, labels=motives_list)\n",
        "\n",
        "# Display confusion matrix\n",
        "plt.figure(figsize=(10, 8))\n",
        "sns.heatmap(cm, annot=True, fmt='d', cmap='Blues', xticklabels=motives_list, yticklabels=motives_list)\n",
        "plt.xlabel('Predicted')\n",
        "plt.ylabel('True')\n",
        "plt.title('Confusion Matrix')\n",
        "plt.show()\n"
      ],
      "metadata": {
        "colab": {
          "base_uri": "https://localhost:8080/",
          "height": 855
        },
        "id": "8MeBOd0T9yuM",
        "outputId": "19c47980-6525-4e45-956a-f363435e9eb5"
      },
      "id": "8MeBOd0T9yuM",
      "execution_count": 36,
      "outputs": [
        {
          "output_type": "display_data",
          "data": {
            "text/plain": [
              "<Figure size 1000x800 with 2 Axes>"
            ],
            "image/png": "[encoded data removed]"
          },
          "metadata": {}
        }
      ]
    },
    {
      "cell_type": "code",
      "source": [
        "# Calculate F1 score\n",
        "f1 = f1_score(true_labels, pred_labels, labels=motives_list, average='weighted')\n",
        "print(f'Weighted F1 Score: {f1:.2f}')\n",
        "\n",
        "# Display classification report\n",
        "report = classification_report(true_labels, pred_labels, target_names=motives_list)\n",
        "print('Classification Report:')\n",
        "print(report)"
      ],
      "metadata": {
        "colab": {
          "base_uri": "https://localhost:8080/"
        },
        "id": "07qmtZZTAjZJ",
        "outputId": "2b87dc94-a714-4c87-d138-6817468c7038"
      },
      "id": "07qmtZZTAjZJ",
      "execution_count": 37,
      "outputs": [
        {
          "output_type": "stream",
          "name": "stdout",
          "text": [
            "Weighted F1 Score: 0.46\n",
            "Classification Report:\n",
            "                      precision    recall  f1-score   support\n",
            "\n",
            "          Batik Bali       0.41      0.32      0.36        34\n",
            "        Batik Betawi       0.37      0.20      0.26        35\n",
            "         Batik Celup       0.35      0.82      0.49        38\n",
            "   Batik Cendrawasih       0.75      0.18      0.29        34\n",
            "         Batik Dayak       0.50      0.35      0.41        34\n",
            "Batik Geblek Renteng       0.71      0.35      0.47        34\n",
            "        Batik Insang       1.00      0.18      0.30        34\n",
            "        Batik Kawung       0.47      0.53      0.50        34\n",
            "         Batik Lasem       0.60      0.34      0.44        35\n",
            "  Batik Mega Mendung       0.66      0.94      0.78        35\n",
            "          Batik Pala       0.36      0.70      0.47        33\n",
            "        Batik Parang       0.86      0.35      0.50        34\n",
            "        Batik Poleng       0.40      0.87      0.55        31\n",
            "   Batik Sekar Jagad       0.57      0.76      0.65        33\n",
            "        Batik Tambal       0.60      0.44      0.51        34\n",
            "\n",
            "            accuracy                           0.49       512\n",
            "           macro avg       0.57      0.49      0.46       512\n",
            "        weighted avg       0.57      0.49      0.46       512\n",
            "\n"
          ]
        }
      ]
    },
    {
      "cell_type": "markdown",
      "source": [
        "# Config"
      ],
      "metadata": {
        "id": "NTuqYGnOtD4b"
      },
      "id": "NTuqYGnOtD4b"
    },
    {
      "cell_type": "code",
      "execution_count": null,
      "id": "7Uq2ugQj6kZU",
      "metadata": {
        "id": "7Uq2ugQj6kZU"
      },
      "outputs": [],
      "source": [
        "# model config pake h5\n",
        "import h5py\n",
        "\n",
        "# Replace 'your_model_name' with the actual file name of your HDF5 file\n",
        "file_name = 'model.h5'\n",
        "\n",
        "# Open the HDF5 file in read mode\n",
        "with h5py.File(file_name, 'r') as f:\n",
        "    # Retrieve the 'model_config' attribute\n",
        "    model_config = f.attrs.get('model_config')\n",
        "\n",
        "# Print the model configuration\n",
        "print(model_config)"
      ]
    }
  ],
  "metadata": {
    "accelerator": "GPU",
    "colab": {
      "gpuType": "T4",
      "provenance": [],
      "collapsed_sections": [
        "0aOawH-QvSZA",
        "x0WSzv9ujSzU",
        "zU7SGTHcsyTx",
        "NTuqYGnOtD4b"
      ]
    },
    "kernelspec": {
      "display_name": "Python 3",
      "name": "python3"
    },
    "language_info": {
      "codemirror_mode": {
        "name": "ipython",
        "version": 3
      },
      "file_extension": ".py",
      "mimetype": "text/x-python",
      "name": "python",
      "nbconvert_exporter": "python",
      "pygments_lexer": "ipython3",
      "version": "3.11.5"
    }
  },
  "nbformat": 4,
  "nbformat_minor": 5
}