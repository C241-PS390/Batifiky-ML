{
  "cells": [
    {
      "cell_type": "markdown",
      "id": "0aOawH-QvSZA",
      "metadata": {
        "id": "0aOawH-QvSZA"
      },
      "source": [
        "# Intro"
      ]
    },
    {
      "cell_type": "code",
      "execution_count": 1,
      "id": "taPbNY-fu2E3",
      "metadata": {
        "colab": {
          "base_uri": "https://localhost:8080/"
        },
        "collapsed": true,
        "id": "taPbNY-fu2E3",
        "outputId": "cb8c1643-ecf7-4d90-d088-ff50e8db7a32"
      },
      "outputs": [
        {
          "output_type": "stream",
          "name": "stdout",
          "text": [
            "Requirement already satisfied: tensorflow in /usr/local/lib/python3.10/dist-packages (2.15.0)\n",
            "Requirement already satisfied: absl-py>=1.0.0 in /usr/local/lib/python3.10/dist-packages (from tensorflow) (1.4.0)\n",
            "Requirement already satisfied: astunparse>=1.6.0 in /usr/local/lib/python3.10/dist-packages (from tensorflow) (1.6.3)\n",
            "Requirement already satisfied: flatbuffers>=23.5.26 in /usr/local/lib/python3.10/dist-packages (from tensorflow) (24.3.25)\n",
            "Requirement already satisfied: gast!=0.5.0,!=0.5.1,!=0.5.2,>=0.2.1 in /usr/local/lib/python3.10/dist-packages (from tensorflow) (0.5.4)\n",
            "Requirement already satisfied: google-pasta>=0.1.1 in /usr/local/lib/python3.10/dist-packages (from tensorflow) (0.2.0)\n",
            "Requirement already satisfied: h5py>=2.9.0 in /usr/local/lib/python3.10/dist-packages (from tensorflow) (3.11.0)\n",
            "Requirement already satisfied: libclang>=13.0.0 in /usr/local/lib/python3.10/dist-packages (from tensorflow) (18.1.1)\n",
            "Requirement already satisfied: ml-dtypes~=0.2.0 in /usr/local/lib/python3.10/dist-packages (from tensorflow) (0.2.0)\n",
            "Requirement already satisfied: numpy<2.0.0,>=1.23.5 in /usr/local/lib/python3.10/dist-packages (from tensorflow) (1.25.2)\n",
            "Requirement already satisfied: opt-einsum>=2.3.2 in /usr/local/lib/python3.10/dist-packages (from tensorflow) (3.3.0)\n",
            "Requirement already satisfied: packaging in /usr/local/lib/python3.10/dist-packages (from tensorflow) (24.1)\n",
            "Requirement already satisfied: protobuf!=4.21.0,!=4.21.1,!=4.21.2,!=4.21.3,!=4.21.4,!=4.21.5,<5.0.0dev,>=3.20.3 in /usr/local/lib/python3.10/dist-packages (from tensorflow) (3.20.3)\n",
            "Requirement already satisfied: setuptools in /usr/local/lib/python3.10/dist-packages (from tensorflow) (67.7.2)\n",
            "Requirement already satisfied: six>=1.12.0 in /usr/local/lib/python3.10/dist-packages (from tensorflow) (1.16.0)\n",
            "Requirement already satisfied: termcolor>=1.1.0 in /usr/local/lib/python3.10/dist-packages (from tensorflow) (2.4.0)\n",
            "Requirement already satisfied: typing-extensions>=3.6.6 in /usr/local/lib/python3.10/dist-packages (from tensorflow) (4.12.2)\n",
            "Requirement already satisfied: wrapt<1.15,>=1.11.0 in /usr/local/lib/python3.10/dist-packages (from tensorflow) (1.14.1)\n",
            "Requirement already satisfied: tensorflow-io-gcs-filesystem>=0.23.1 in /usr/local/lib/python3.10/dist-packages (from tensorflow) (0.37.0)\n",
            "Requirement already satisfied: grpcio<2.0,>=1.24.3 in /usr/local/lib/python3.10/dist-packages (from tensorflow) (1.64.1)\n",
            "Requirement already satisfied: tensorboard<2.16,>=2.15 in /usr/local/lib/python3.10/dist-packages (from tensorflow) (2.15.2)\n",
            "Requirement already satisfied: tensorflow-estimator<2.16,>=2.15.0 in /usr/local/lib/python3.10/dist-packages (from tensorflow) (2.15.0)\n",
            "Requirement already satisfied: keras<2.16,>=2.15.0 in /usr/local/lib/python3.10/dist-packages (from tensorflow) (2.15.0)\n",
            "Requirement already satisfied: wheel<1.0,>=0.23.0 in /usr/local/lib/python3.10/dist-packages (from astunparse>=1.6.0->tensorflow) (0.43.0)\n",
            "Requirement already satisfied: google-auth<3,>=1.6.3 in /usr/local/lib/python3.10/dist-packages (from tensorboard<2.16,>=2.15->tensorflow) (2.27.0)\n",
            "Requirement already satisfied: google-auth-oauthlib<2,>=0.5 in /usr/local/lib/python3.10/dist-packages (from tensorboard<2.16,>=2.15->tensorflow) (1.2.0)\n",
            "Requirement already satisfied: markdown>=2.6.8 in /usr/local/lib/python3.10/dist-packages (from tensorboard<2.16,>=2.15->tensorflow) (3.6)\n",
            "Requirement already satisfied: requests<3,>=2.21.0 in /usr/local/lib/python3.10/dist-packages (from tensorboard<2.16,>=2.15->tensorflow) (2.31.0)\n",
            "Requirement already satisfied: tensorboard-data-server<0.8.0,>=0.7.0 in /usr/local/lib/python3.10/dist-packages (from tensorboard<2.16,>=2.15->tensorflow) (0.7.2)\n",
            "Requirement already satisfied: werkzeug>=1.0.1 in /usr/local/lib/python3.10/dist-packages (from tensorboard<2.16,>=2.15->tensorflow) (3.0.3)\n",
            "Requirement already satisfied: cachetools<6.0,>=2.0.0 in /usr/local/lib/python3.10/dist-packages (from google-auth<3,>=1.6.3->tensorboard<2.16,>=2.15->tensorflow) (5.3.3)\n",
            "Requirement already satisfied: pyasn1-modules>=0.2.1 in /usr/local/lib/python3.10/dist-packages (from google-auth<3,>=1.6.3->tensorboard<2.16,>=2.15->tensorflow) (0.4.0)\n",
            "Requirement already satisfied: rsa<5,>=3.1.4 in /usr/local/lib/python3.10/dist-packages (from google-auth<3,>=1.6.3->tensorboard<2.16,>=2.15->tensorflow) (4.9)\n",
            "Requirement already satisfied: requests-oauthlib>=0.7.0 in /usr/local/lib/python3.10/dist-packages (from google-auth-oauthlib<2,>=0.5->tensorboard<2.16,>=2.15->tensorflow) (2.0.0)\n",
            "Requirement already satisfied: charset-normalizer<4,>=2 in /usr/local/lib/python3.10/dist-packages (from requests<3,>=2.21.0->tensorboard<2.16,>=2.15->tensorflow) (3.3.2)\n",
            "Requirement already satisfied: idna<4,>=2.5 in /usr/local/lib/python3.10/dist-packages (from requests<3,>=2.21.0->tensorboard<2.16,>=2.15->tensorflow) (3.7)\n",
            "Requirement already satisfied: urllib3<3,>=1.21.1 in /usr/local/lib/python3.10/dist-packages (from requests<3,>=2.21.0->tensorboard<2.16,>=2.15->tensorflow) (2.0.7)\n",
            "Requirement already satisfied: certifi>=2017.4.17 in /usr/local/lib/python3.10/dist-packages (from requests<3,>=2.21.0->tensorboard<2.16,>=2.15->tensorflow) (2024.6.2)\n",
            "Requirement already satisfied: MarkupSafe>=2.1.1 in /usr/local/lib/python3.10/dist-packages (from werkzeug>=1.0.1->tensorboard<2.16,>=2.15->tensorflow) (2.1.5)\n",
            "Requirement already satisfied: pyasn1<0.7.0,>=0.4.6 in /usr/local/lib/python3.10/dist-packages (from pyasn1-modules>=0.2.1->google-auth<3,>=1.6.3->tensorboard<2.16,>=2.15->tensorflow) (0.6.0)\n",
            "Requirement already satisfied: oauthlib>=3.0.0 in /usr/local/lib/python3.10/dist-packages (from requests-oauthlib>=0.7.0->google-auth-oauthlib<2,>=0.5->tensorboard<2.16,>=2.15->tensorflow) (3.2.2)\n"
          ]
        }
      ],
      "source": [
        "!pip install tensorflow"
      ]
    },
    {
      "cell_type": "code",
      "execution_count": 2,
      "id": "zGvAbjS1CBxc",
      "metadata": {
        "colab": {
          "base_uri": "https://localhost:8080/"
        },
        "collapsed": true,
        "id": "zGvAbjS1CBxc",
        "outputId": "885fbd2f-8b9a-4854-d495-2dd78ccb4362"
      },
      "outputs": [
        {
          "output_type": "stream",
          "name": "stdout",
          "text": [
            "Requirement already satisfied: joblib in /usr/local/lib/python3.10/dist-packages (1.4.2)\n"
          ]
        }
      ],
      "source": [
        "!pip install joblib"
      ]
    },
    {
      "cell_type": "code",
      "execution_count": 3,
      "id": "19316a06",
      "metadata": {
        "id": "19316a06"
      },
      "outputs": [],
      "source": [
        "import os\n",
        "import random\n",
        "import tensorflow as tf\n",
        "import matplotlib.pyplot as plt\n",
        "import matplotlib.image as mpimg\n",
        "import numpy as np\n",
        "\n",
        "from PIL import Image\n",
        "from shutil import copy2\n",
        "from sklearn.model_selection import train_test_split\n",
        "\n",
        "from tensorflow.keras.utils import load_img, img_to_array\n",
        "from tensorflow.keras.preprocessing.image import ImageDataGenerator\n",
        "from tensorflow.keras.models import Sequential\n",
        "\n",
        "from tensorflow.keras.applications import vgg16\n",
        "from tensorflow.keras.layers import Flatten, Dense, Dropout, Conv2D, MaxPooling2D, BatchNormalization\n",
        "from tensorflow.keras.models import Model\n",
        "\n",
        "from sklearn.metrics import confusion_matrix, f1_score"
      ]
    },
    {
      "cell_type": "code",
      "execution_count": 4,
      "id": "et1lkIkaMGOe",
      "metadata": {
        "colab": {
          "base_uri": "https://localhost:8080/"
        },
        "id": "et1lkIkaMGOe",
        "outputId": "56e500ed-4249-4e42-ac27-338956b0979a"
      },
      "outputs": [
        {
          "output_type": "stream",
          "name": "stderr",
          "text": [
            "Downloading...\n",
            "From (original): https://drive.google.com/uc?export=download&id=1yjuT0USeyqQmhoIuboWg9QWVoLgQkgjS\n",
            "From (redirected): https://drive.google.com/uc?export=download&id=1yjuT0USeyqQmhoIuboWg9QWVoLgQkgjS&confirm=t&uuid=6b3584d4-7fb6-49a5-a497-c319647d68c8\n",
            "To: /content/Motif_Batik_Dataset.zip\n",
            "100%|██████████| 397M/397M [00:08<00:00, 48.0MB/s]\n"
          ]
        }
      ],
      "source": [
        "# pake zip dataset drive\n",
        "import zipfile\n",
        "import gdown\n",
        "\n",
        "url = \"https://drive.google.com/uc?export=download&id=1yjuT0USeyqQmhoIuboWg9QWVoLgQkgjS\"\n",
        "output = \"Motif_Batik_Dataset.zip\"\n",
        "gdown.download(url, output, quiet=False)\n",
        "\n",
        "zip_ref = zipfile.ZipFile(\"/content/Motif_Batik_Dataset.zip\", 'r')\n",
        "zip_ref.extractall(\"dataset\")\n",
        "zip_ref.close()"
      ]
    },
    {
      "cell_type": "markdown",
      "id": "xNzW0A7mFiSc",
      "metadata": {
        "id": "xNzW0A7mFiSc"
      },
      "source": [
        "# Split data train val test"
      ]
    },
    {
      "cell_type": "code",
      "execution_count": 5,
      "id": "8f9f119b",
      "metadata": {
        "id": "8f9f119b"
      },
      "outputs": [],
      "source": [
        "train_dir = r'/content/dataset/data/train'\n",
        "def check_image_shapes(directory):\n",
        "    shapes = []\n",
        "    for root, _, files in os.walk(directory):\n",
        "        for file in files:\n",
        "            if file.endswith(('jpg', 'jpeg', 'png', 'bmp', 'gif')):\n",
        "                file_path = os.path.join(root, file)\n",
        "                with Image.open(file_path) as img:\n",
        "                    shapes.append(img.size)\n",
        "    return shapes\n",
        "\n",
        "# Fungsi untuk menghitung jumlah gambar dalam direktori tertentu\n",
        "def count_images(directory):\n",
        "    count = 0\n",
        "    for root, _, files in os.walk(directory):\n",
        "        count += len([file for file in files if file.endswith(('jpg', 'jpeg', 'png', 'bmp', 'gif'))])\n",
        "    return count"
      ]
    },
    {
      "cell_type": "code",
      "execution_count": 6,
      "id": "177c3197",
      "metadata": {
        "colab": {
          "base_uri": "https://localhost:8080/"
        },
        "id": "177c3197",
        "outputId": "31108445-56fc-47a0-b90a-202e2618b133",
        "scrolled": true
      },
      "outputs": [
        {
          "output_type": "stream",
          "name": "stdout",
          "text": [
            "Shape gambar dalam training set: (640, 640)\n"
          ]
        }
      ],
      "source": [
        "# Mengecek shape gambar di training set\n",
        "train_shapes = check_image_shapes(train_dir)\n",
        "\n",
        "# Menampilkan shape gambar dalam training set\n",
        "print(f\"Shape gambar dalam training set: {train_shapes[0]}\")"
      ]
    },
    {
      "cell_type": "code",
      "execution_count": 7,
      "id": "bddee79b",
      "metadata": {
        "colab": {
          "base_uri": "https://localhost:8080/"
        },
        "id": "bddee79b",
        "outputId": "4f792f62-28c8-444e-a392-324d9a52623c"
      },
      "outputs": [
        {
          "output_type": "stream",
          "name": "stdout",
          "text": [
            "Found 4311 images belonging to 15 classes.\n",
            "Found 696 images belonging to 15 classes.\n",
            "Found 259 images belonging to 15 classes.\n"
          ]
        }
      ],
      "source": [
        "TRAINING_DIR = r'/content/dataset/data/train'\n",
        "train_datagen = ImageDataGenerator(\n",
        "                    rescale = 1.0 / 255.0,\n",
        "                    rotation_range = 20,\n",
        "                    width_shift_range=0.2,\n",
        "                    height_shift_range=0.2,\n",
        "                    horizontal_flip=True,\n",
        "                    shear_range = 0.2,\n",
        "                    zoom_range= 0.2,\n",
        "                    fill_mode = 'nearest')\n",
        "\n",
        "train_generator = train_datagen.flow_from_directory(\n",
        "    TRAINING_DIR,\n",
        "    target_size=(224, 224),\n",
        "    class_mode='categorical',\n",
        "    batch_size=64\n",
        ")\n",
        "\n",
        "VALIDATION_DIR = r'/content/dataset/data/val'\n",
        "val_datagen = ImageDataGenerator(rescale = 1.0 / 255.0)\n",
        "\n",
        "validation_generator = val_datagen.flow_from_directory(\n",
        "    VALIDATION_DIR,\n",
        "    target_size=(224, 224),\n",
        "    class_mode='categorical',\n",
        "    batch_size=64\n",
        ")\n",
        "\n",
        "TESTING_DIR = r'/content/dataset/data/test'\n",
        "test_datagen = ImageDataGenerator(rescale = 1.0 / 255.0)\n",
        "\n",
        "testing_generator = test_datagen.flow_from_directory(\n",
        "    TESTING_DIR,\n",
        "    target_size=(224, 224),\n",
        "    class_mode='categorical',\n",
        "    batch_size=64\n",
        ")"
      ]
    },
    {
      "cell_type": "markdown",
      "id": "Ft6jttPKsq0x",
      "metadata": {
        "id": "Ft6jttPKsq0x"
      },
      "source": [
        "# Transfer Learning w CNN"
      ]
    },
    {
      "cell_type": "code",
      "execution_count": 8,
      "id": "D165YI2_Wp8s",
      "metadata": {
        "id": "D165YI2_Wp8s",
        "colab": {
          "base_uri": "https://localhost:8080/"
        },
        "outputId": "68f8dea2-91e9-45a2-e4dd-258ea0f5d29f"
      },
      "outputs": [
        {
          "output_type": "stream",
          "name": "stdout",
          "text": [
            "Downloading data from https://storage.googleapis.com/tensorflow/keras-applications/vgg16/vgg16_weights_tf_dim_ordering_tf_kernels_notop.h5\n",
            "58889256/58889256 [==============================] - 0s 0us/step\n",
            "Model: \"model\"\n",
            "_________________________________________________________________\n",
            " Layer (type)                Output Shape              Param #   \n",
            "=================================================================\n",
            " input_1 (InputLayer)        [(None, 224, 224, 3)]     0         \n",
            "                                                                 \n",
            " block1_conv1 (Conv2D)       (None, 224, 224, 64)      1792      \n",
            "                                                                 \n",
            " block1_conv2 (Conv2D)       (None, 224, 224, 64)      36928     \n",
            "                                                                 \n",
            " block1_pool (MaxPooling2D)  (None, 112, 112, 64)      0         \n",
            "                                                                 \n",
            " block2_conv1 (Conv2D)       (None, 112, 112, 128)     73856     \n",
            "                                                                 \n",
            " block2_conv2 (Conv2D)       (None, 112, 112, 128)     147584    \n",
            "                                                                 \n",
            " block2_pool (MaxPooling2D)  (None, 56, 56, 128)       0         \n",
            "                                                                 \n",
            " block3_conv1 (Conv2D)       (None, 56, 56, 256)       295168    \n",
            "                                                                 \n",
            " block3_conv2 (Conv2D)       (None, 56, 56, 256)       590080    \n",
            "                                                                 \n",
            " block3_conv3 (Conv2D)       (None, 56, 56, 256)       590080    \n",
            "                                                                 \n",
            " block3_pool (MaxPooling2D)  (None, 28, 28, 256)       0         \n",
            "                                                                 \n",
            " block4_conv1 (Conv2D)       (None, 28, 28, 512)       1180160   \n",
            "                                                                 \n",
            " block4_conv2 (Conv2D)       (None, 28, 28, 512)       2359808   \n",
            "                                                                 \n",
            " block4_conv3 (Conv2D)       (None, 28, 28, 512)       2359808   \n",
            "                                                                 \n",
            " block4_pool (MaxPooling2D)  (None, 14, 14, 512)       0         \n",
            "                                                                 \n",
            " block5_conv1 (Conv2D)       (None, 14, 14, 512)       2359808   \n",
            "                                                                 \n",
            " block5_conv2 (Conv2D)       (None, 14, 14, 512)       2359808   \n",
            "                                                                 \n",
            " block5_conv3 (Conv2D)       (None, 14, 14, 512)       2359808   \n",
            "                                                                 \n",
            " block5_pool (MaxPooling2D)  (None, 7, 7, 512)         0         \n",
            "                                                                 \n",
            " conv2d (Conv2D)             (None, 7, 7, 1024)        4719616   \n",
            "                                                                 \n",
            " batch_normalization (Batch  (None, 7, 7, 1024)        4096      \n",
            " Normalization)                                                  \n",
            "                                                                 \n",
            " max_pooling2d (MaxPooling2  (None, 3, 3, 1024)        0         \n",
            " D)                                                              \n",
            "                                                                 \n",
            " flatten (Flatten)           (None, 9216)              0         \n",
            "                                                                 \n",
            " dense (Dense)               (None, 1024)              9438208   \n",
            "                                                                 \n",
            " dropout (Dropout)           (None, 1024)              0         \n",
            "                                                                 \n",
            " dense_1 (Dense)             (None, 15)                15375     \n",
            "                                                                 \n",
            "=================================================================\n",
            "Total params: 28891983 (110.21 MB)\n",
            "Trainable params: 14175247 (54.07 MB)\n",
            "Non-trainable params: 14716736 (56.14 MB)\n",
            "_________________________________________________________________\n"
          ]
        }
      ],
      "source": [
        "from tensorflow.keras.applications import VGG16\n",
        "\n",
        "# jumlah kelas\n",
        "num_classes = 15\n",
        "input_shape = (224, 224, 3)\n",
        "\n",
        "# Load the pre-trained VGG16 model (include_top=False to exclude the fully connected layers)\n",
        "base_model = VGG16(weights='imagenet', include_top=False, input_shape=input_shape)\n",
        "\n",
        "# Freeze the pre-trained layers so they're not updated during training\n",
        "for layer in base_model.layers:\n",
        "    layer.trainable = False\n",
        "\n",
        "x = tf.keras.layers.Conv2D(1024, (3, 3), padding='same', activation='relu')(base_model.output)\n",
        "x = tf.keras.layers.BatchNormalization()(x)\n",
        "x = tf.keras.layers.MaxPooling2D(2, 2)(x)\n",
        "x = tf.keras.layers.Flatten()(x)\n",
        "x = tf.keras.layers.Dense(1024, activation='relu')(x)\n",
        "x = tf.keras.layers.Dropout(0.5)(x)\n",
        "predictions = tf.keras.layers.Dense(num_classes, activation='softmax')(x)\n",
        "\n",
        "# Create the final model\n",
        "model = Model(inputs=base_model.input, outputs=predictions)\n",
        "model.summary()\n",
        "\n",
        "# Callbacks\n",
        "from tensorflow.keras.callbacks import ModelCheckpoint, EarlyStopping, ReduceLROnPlateau\n",
        "\n",
        "callbacks = [\n",
        "    ModelCheckpoint('best_model.keras', save_best_only=True, monitor='val_loss', mode='min'),\n",
        "    EarlyStopping(monitor='val_loss', patience=10, mode='min', restore_best_weights=True),\n",
        "    ReduceLROnPlateau(monitor='val_loss', factor=0.1, patience=5, mode='min')\n",
        "]"
      ]
    },
    {
      "cell_type": "markdown",
      "id": "S_uL4mTjr718",
      "metadata": {
        "id": "S_uL4mTjr718"
      },
      "source": [
        "kalo param gede mbnya mungkin,\n",
        "Regularisasi: Menggunakan teknik regularisasi seperti dropout, L2 regularization, atau early stopping untuk mengurangi risiko overfitting.\n",
        "\n",
        "Data Augmentation: Meningkatkan ukuran dan keragaman dataset dengan teknik data augmentation untuk membantu model generalisasi lebih baik.\n",
        "\n",
        "Model Compression:Menggunakan teknik kompresi model seperti pruning, quantization, atau distillation untuk mengurangi ukuran model tanpa mengorbankan performa secara signifikan."
      ]
    },
    {
      "cell_type": "code",
      "execution_count": 10,
      "id": "d65366d7",
      "metadata": {
        "id": "d65366d7"
      },
      "outputs": [],
      "source": [
        "'''\n",
        "tahap selanjutnya adalah melakukan compile model tersebut menggunakan fungsi compile(). Pada tahap ini, kita juga menentukan loss function serta optimizer yang akan digunakan.\n",
        "Selain itu, optimizer yang digunakan  pada kasus ini adalah \"Adam optimizer\".\n",
        "Adam optimizer dipilih karena mudah diterapkan, lebih efisien secara komputasi dan kebutuhan memori yang lebih kecil.\n",
        "'''\n",
        "from keras.optimizers import Adam\n",
        "model.compile(loss = 'categorical_crossentropy',\n",
        "              optimizer = tf.keras.optimizers.Adam(learning_rate=0.0001), # atau 0.0005 / 0.0003 / 0.001\n",
        "              metrics = ['accuracy'])\n"
      ]
    },
    {
      "cell_type": "code",
      "execution_count": 11,
      "id": "TPLwpqnSuEl9",
      "metadata": {
        "id": "TPLwpqnSuEl9",
        "colab": {
          "base_uri": "https://localhost:8080/"
        },
        "outputId": "b2d9979a-d2fd-483d-fae0-2930db148e8a"
      },
      "outputs": [
        {
          "output_type": "stream",
          "name": "stdout",
          "text": [
            "Steps per epoch: 67\n",
            "Validation steps: 10\n"
          ]
        }
      ],
      "source": [
        "# menghitung step per epochnya\n",
        "\n",
        "steps_per_epoch = train_generator.samples // train_generator.batch_size\n",
        "validation_steps = validation_generator.samples // validation_generator.batch_size\n",
        "\n",
        "print(f\"Steps per epoch: {steps_per_epoch}\")\n",
        "print(f\"Validation steps: {validation_steps}\")"
      ]
    },
    {
      "cell_type": "code",
      "execution_count": 12,
      "id": "cd2f37f0",
      "metadata": {
        "id": "cd2f37f0",
        "colab": {
          "base_uri": "https://localhost:8080/"
        },
        "outputId": "10eb4beb-a5bd-4359-b138-ad47ae9c4277"
      },
      "outputs": [
        {
          "output_type": "stream",
          "name": "stdout",
          "text": [
            "Epoch 1/30\n",
            "67/67 [==============================] - 111s 2s/step - loss: 2.2162 - accuracy: 0.3676 - val_loss: 2.1455 - val_accuracy: 0.4703 - lr: 1.0000e-04\n",
            "Epoch 2/30\n",
            "67/67 [==============================] - 110s 2s/step - loss: 1.4024 - accuracy: 0.5505 - val_loss: 1.7012 - val_accuracy: 0.6156 - lr: 1.0000e-04\n",
            "Epoch 3/30\n",
            "67/67 [==============================] - 109s 2s/step - loss: 1.1520 - accuracy: 0.6299 - val_loss: 1.3205 - val_accuracy: 0.6797 - lr: 1.0000e-04\n",
            "Epoch 4/30\n",
            "67/67 [==============================] - 110s 2s/step - loss: 1.0114 - accuracy: 0.6734 - val_loss: 1.0850 - val_accuracy: 0.7141 - lr: 1.0000e-04\n",
            "Epoch 5/30\n",
            "67/67 [==============================] - 110s 2s/step - loss: 0.9243 - accuracy: 0.6932 - val_loss: 0.8806 - val_accuracy: 0.7375 - lr: 1.0000e-04\n",
            "Epoch 6/30\n",
            "67/67 [==============================] - 109s 2s/step - loss: 0.7933 - accuracy: 0.7393 - val_loss: 0.7350 - val_accuracy: 0.7781 - lr: 1.0000e-04\n",
            "Epoch 7/30\n",
            "67/67 [==============================] - 110s 2s/step - loss: 0.7175 - accuracy: 0.7645 - val_loss: 0.6930 - val_accuracy: 0.7906 - lr: 1.0000e-04\n",
            "Epoch 8/30\n",
            "67/67 [==============================] - 109s 2s/step - loss: 0.6642 - accuracy: 0.7871 - val_loss: 0.7021 - val_accuracy: 0.7891 - lr: 1.0000e-04\n",
            "Epoch 9/30\n",
            "67/67 [==============================] - 110s 2s/step - loss: 0.5852 - accuracy: 0.8088 - val_loss: 0.6062 - val_accuracy: 0.8000 - lr: 1.0000e-04\n",
            "Epoch 10/30\n",
            "67/67 [==============================] - 110s 2s/step - loss: 0.5248 - accuracy: 0.8298 - val_loss: 0.5064 - val_accuracy: 0.8313 - lr: 1.0000e-04\n",
            "Epoch 11/30\n",
            "67/67 [==============================] - 109s 2s/step - loss: 0.4770 - accuracy: 0.8446 - val_loss: 0.5212 - val_accuracy: 0.8219 - lr: 1.0000e-04\n",
            "Epoch 12/30\n",
            "67/67 [==============================] - 110s 2s/step - loss: 0.4396 - accuracy: 0.8533 - val_loss: 0.5298 - val_accuracy: 0.8172 - lr: 1.0000e-04\n",
            "Epoch 13/30\n",
            "67/67 [==============================] - 109s 2s/step - loss: 0.4303 - accuracy: 0.8550 - val_loss: 0.4856 - val_accuracy: 0.8438 - lr: 1.0000e-04\n",
            "Epoch 14/30\n",
            "67/67 [==============================] - 110s 2s/step - loss: 0.3821 - accuracy: 0.8729 - val_loss: 0.4541 - val_accuracy: 0.8578 - lr: 1.0000e-04\n",
            "Epoch 15/30\n",
            "67/67 [==============================] - 109s 2s/step - loss: 0.3653 - accuracy: 0.8773 - val_loss: 0.5339 - val_accuracy: 0.8313 - lr: 1.0000e-04\n",
            "Epoch 16/30\n",
            "67/67 [==============================] - 110s 2s/step - loss: 0.3174 - accuracy: 0.8940 - val_loss: 0.4500 - val_accuracy: 0.8672 - lr: 1.0000e-04\n",
            "Epoch 17/30\n",
            "67/67 [==============================] - 109s 2s/step - loss: 0.3147 - accuracy: 0.8964 - val_loss: 0.4061 - val_accuracy: 0.8781 - lr: 1.0000e-04\n",
            "Epoch 18/30\n",
            "67/67 [==============================] - 109s 2s/step - loss: 0.3034 - accuracy: 0.8969 - val_loss: 0.4587 - val_accuracy: 0.8594 - lr: 1.0000e-04\n",
            "Epoch 19/30\n",
            "67/67 [==============================] - 109s 2s/step - loss: 0.2929 - accuracy: 0.9049 - val_loss: 0.4131 - val_accuracy: 0.8719 - lr: 1.0000e-04\n",
            "Epoch 20/30\n",
            "67/67 [==============================] - 109s 2s/step - loss: 0.2774 - accuracy: 0.9072 - val_loss: 0.3723 - val_accuracy: 0.8875 - lr: 1.0000e-04\n",
            "Epoch 21/30\n",
            "67/67 [==============================] - 109s 2s/step - loss: 0.2436 - accuracy: 0.9174 - val_loss: 0.5962 - val_accuracy: 0.8375 - lr: 1.0000e-04\n",
            "Epoch 22/30\n",
            "67/67 [==============================] - 110s 2s/step - loss: 0.2360 - accuracy: 0.9214 - val_loss: 0.3305 - val_accuracy: 0.9000 - lr: 1.0000e-04\n",
            "Epoch 23/30\n",
            "67/67 [==============================] - 109s 2s/step - loss: 0.2053 - accuracy: 0.9343 - val_loss: 0.3144 - val_accuracy: 0.9031 - lr: 1.0000e-04\n",
            "Epoch 24/30\n",
            "67/67 [==============================] - 109s 2s/step - loss: 0.2071 - accuracy: 0.9312 - val_loss: 0.3933 - val_accuracy: 0.9031 - lr: 1.0000e-04\n",
            "Epoch 25/30\n",
            "67/67 [==============================] - 110s 2s/step - loss: 0.2094 - accuracy: 0.9303 - val_loss: 0.2856 - val_accuracy: 0.9172 - lr: 1.0000e-04\n",
            "Epoch 26/30\n",
            "67/67 [==============================] - 109s 2s/step - loss: 0.1926 - accuracy: 0.9383 - val_loss: 0.3869 - val_accuracy: 0.8859 - lr: 1.0000e-04\n",
            "Epoch 27/30\n",
            "67/67 [==============================] - 109s 2s/step - loss: 0.1819 - accuracy: 0.9360 - val_loss: 0.4198 - val_accuracy: 0.8797 - lr: 1.0000e-04\n",
            "Epoch 28/30\n",
            "67/67 [==============================] - 108s 2s/step - loss: 0.1692 - accuracy: 0.9466 - val_loss: 0.3778 - val_accuracy: 0.8953 - lr: 1.0000e-04\n",
            "Epoch 29/30\n",
            "67/67 [==============================] - 108s 2s/step - loss: 0.1639 - accuracy: 0.9501 - val_loss: 0.3467 - val_accuracy: 0.9094 - lr: 1.0000e-04\n",
            "Epoch 30/30\n",
            "67/67 [==============================] - 108s 2s/step - loss: 0.1466 - accuracy: 0.9517 - val_loss: 0.3899 - val_accuracy: 0.9062 - lr: 1.0000e-04\n"
          ]
        }
      ],
      "source": [
        "# from tensorflow.keras.callbacks import ReduceLROnPlateau\n",
        "\n",
        "# reduce_lr = ReduceLROnPlateau(monitor='val_loss', factor=0.2, patience=3, min_lr=0.00001)\n",
        "\n",
        "history = model.fit(\n",
        "    train_generator,\n",
        "    steps_per_epoch=train_generator.samples // train_generator.batch_size,\n",
        "    epochs=30,\n",
        "    validation_data=validation_generator,\n",
        "    validation_steps=validation_generator.samples // validation_generator.batch_size,\n",
        "    callbacks=[callbacks]\n",
        ")"
      ]
    },
    {
      "cell_type": "markdown",
      "id": "orpm539Gs46d",
      "metadata": {
        "id": "orpm539Gs46d"
      },
      "source": [
        "# Cek Grafik Accuracy & Loss"
      ]
    },
    {
      "cell_type": "code",
      "execution_count": 13,
      "id": "1f962a98",
      "metadata": {
        "id": "1f962a98",
        "colab": {
          "base_uri": "https://localhost:8080/",
          "height": 887
        },
        "outputId": "f8acf5aa-ef51-4c32-db13-c463e843db60"
      },
      "outputs": [
        {
          "output_type": "display_data",
          "data": {
            "text/plain": [
              "<Figure size 640x480 with 1 Axes>"
            ],
            "image/png": "[encoded data removed]"
          },
          "metadata": {}
        },
        {
          "output_type": "display_data",
          "data": {
            "text/plain": [
              "<Figure size 640x480 with 1 Axes>"
            ],
            "image/png": "[encoded data removed]"
          },
          "metadata": {}
        }
      ],
      "source": [
        "# Plot the chart for accuracy and loss on both training and validation\n",
        "acc = history.history['accuracy']\n",
        "val_acc = history.history['val_accuracy']\n",
        "loss = history.history['loss']\n",
        "val_loss = history.history['val_loss']\n",
        "\n",
        "epochs = range(len(acc))\n",
        "\n",
        "plt.plot(epochs, acc, 'r', label='Training accuracy')\n",
        "plt.plot(epochs, val_acc, 'b', label='Validation accuracy')\n",
        "plt.title('Training and validation accuracy')\n",
        "plt.legend()\n",
        "plt.figure()\n",
        "\n",
        "plt.plot(epochs, loss, 'r', label='Training Loss')\n",
        "plt.plot(epochs, val_loss, 'b', label='Validation Loss')\n",
        "plt.title('Training and validation loss')\n",
        "plt.legend()\n",
        "\n",
        "plt.show()"
      ]
    },
    {
      "cell_type": "markdown",
      "id": "RkJKBcm2s7_i",
      "metadata": {
        "id": "RkJKBcm2s7_i"
      },
      "source": [
        "# Testing Prediksi"
      ]
    },
    {
      "cell_type": "code",
      "source": [
        "from tensorflow.keras.models import load_model\n",
        "\n",
        "# Load the best model saved during training\n",
        "model = load_model('best_model.keras')"
      ],
      "metadata": {
        "id": "bcJz7QNOkCaK"
      },
      "id": "bcJz7QNOkCaK",
      "execution_count": 17,
      "outputs": []
    },
    {
      "cell_type": "code",
      "source": [
        "from tensorflow.keras.models import load_model\n",
        "from tensorflow.keras.preprocessing.image import ImageDataGenerator\n",
        "\n",
        "# Path to the test dataset\n",
        "TESTING_DIR = r'/content/dataset/data/test'\n",
        "\n",
        "# Create test data generator\n",
        "test_datagen = ImageDataGenerator(rescale=1.0 / 255.0)\n",
        "\n",
        "# Create test data generator\n",
        "testing_generator = test_datagen.flow_from_directory(\n",
        "    TESTING_DIR,\n",
        "    target_size=(224, 224),\n",
        "    class_mode='categorical',\n",
        "    batch_size=64,\n",
        "    shuffle=False  # Important to not shuffle for evaluation\n",
        ")\n",
        "\n",
        "# Load the best model saved during training\n",
        "model = load_model('best_model.keras')\n",
        "\n",
        "# Make predictions\n",
        "predictions = model.predict(testing_generator)\n",
        "\n",
        "# Get the class indices\n",
        "predicted_classes = np.argmax(predictions, axis=1)\n",
        "\n",
        "# Get the true labels\n",
        "true_classes = testing_generator.classes\n",
        "\n",
        "# Get the class labels\n",
        "class_labels = list(testing_generator.class_indices.keys())\n",
        "\n",
        "# Display results\n",
        "print(\"Predicted classes:\", predicted_classes)\n",
        "print(\"True classes:\", true_classes)\n",
        "print(\"Class labels:\", class_labels)"
      ],
      "metadata": {
        "colab": {
          "base_uri": "https://localhost:8080/"
        },
        "id": "1lv0yXhSkRQ9",
        "outputId": "b10003c4-52a4-4223-e2b9-a0c9bacb76d6"
      },
      "id": "1lv0yXhSkRQ9",
      "execution_count": 18,
      "outputs": [
        {
          "output_type": "stream",
          "name": "stdout",
          "text": [
            "Found 259 images belonging to 15 classes.\n",
            "5/5 [==============================] - 5s 838ms/step\n",
            "Predicted classes: [ 0  0  0  0  0  0  0  0  3  8  0  0  0  0  0  0  0  1  1  1  1  1  4  8\n",
            "  2 10  1  1  1  1  1  1  1  1  8  2  2  2  2  2  2  2  2  2  2  2  2  2\n",
            "  2  1  2  2  2  0  3  3  3  3  3  3  3  3  3  3  3  3  3  3  3  3  8  4\n",
            "  4  4  4  9  4  4  4  4  4  4  4  4  4  4  4  4  5  3  5  5  5  5  5  5\n",
            "  5  5  5  5  5  5  5  5  5  6  6  6  6  6  6  6  6  6  6  6  6  6  6  6\n",
            "  6  6  7  7  7  7  7  7  7  7  7  7  7  7  7  7  7  7  7  1  8  8  8  8\n",
            "  8  8  8  8  1  8  8  8  8  8  8  8  8  9  9  9  9  9  9  9  9  9  9  9\n",
            "  9  9  9  9  9  9  9 10 10 10 10 10 10 10 10 10 10 10 10 10 10 10 10 10\n",
            " 11 11 11 11 11 11 11 11 11 11 11 11 11 11 11 11 11 12 12 12 12 12 12 12\n",
            " 12 12 12 12 12 12 12 12 12  9 13 13 13 13 13 13 13 13 13 13 13 13 13 13\n",
            " 13 13 14 14 14 14 13 14 14 14 14 14 14  1 14 14 14 14 14]\n",
            "True classes: [ 0  0  0  0  0  0  0  0  0  0  0  0  0  0  0  0  0  1  1  1  1  1  1  1\n",
            "  1  1  1  1  1  1  1  1  1  1  1  2  2  2  2  2  2  2  2  2  2  2  2  2\n",
            "  2  2  2  2  2  2  3  3  3  3  3  3  3  3  3  3  3  3  3  3  3  3  3  4\n",
            "  4  4  4  4  4  4  4  4  4  4  4  4  4  4  4  4  5  5  5  5  5  5  5  5\n",
            "  5  5  5  5  5  5  5  5  5  6  6  6  6  6  6  6  6  6  6  6  6  6  6  6\n",
            "  6  6  7  7  7  7  7  7  7  7  7  7  7  7  7  7  7  7  7  8  8  8  8  8\n",
            "  8  8  8  8  8  8  8  8  8  8  8  8  8  9  9  9  9  9  9  9  9  9  9  9\n",
            "  9  9  9  9  9  9  9 10 10 10 10 10 10 10 10 10 10 10 10 10 10 10 10 10\n",
            " 11 11 11 11 11 11 11 11 11 11 11 11 11 11 11 11 11 12 12 12 12 12 12 12\n",
            " 12 12 12 12 12 12 12 12 12 13 13 13 13 13 13 13 13 13 13 13 13 13 13 13\n",
            " 13 13 14 14 14 14 14 14 14 14 14 14 14 14 14 14 14 14 14]\n",
            "Class labels: ['Batik Bali', 'Batik Betawi', 'Batik Celup', 'Batik Cendrawasih', 'Batik Dayak', 'Batik Geblek Renteng', 'Batik Insang', 'Batik Kawung', 'Batik Lasem', 'Batik Mega Mendung', 'Batik Pala', 'Batik Parang', 'Batik Poleng', 'Batik Sekar Jagad', 'Batik Tambal']\n"
          ]
        }
      ]
    },
    {
      "cell_type": "code",
      "source": [
        "test_loss, test_accuracy = model.evaluate(testing_generator)\n",
        "print(f'Test loss: {test_loss}')\n",
        "print(f'Test accuracy: {test_accuracy}')"
      ],
      "metadata": {
        "colab": {
          "base_uri": "https://localhost:8080/"
        },
        "id": "60zXr0xOkcQG",
        "outputId": "17e2dc32-cb0f-4245-9750-17942b6ffadb"
      },
      "id": "60zXr0xOkcQG",
      "execution_count": 19,
      "outputs": [
        {
          "output_type": "stream",
          "name": "stdout",
          "text": [
            "5/5 [==============================] - 5s 850ms/step - loss: 0.1885 - accuracy: 0.9344\n",
            "Test loss: 0.18847623467445374\n",
            "Test accuracy: 0.9343629479408264\n"
          ]
        }
      ]
    },
    {
      "cell_type": "code",
      "source": [
        "from tensorflow.keras.preprocessing.image import load_img, img_to_array\n",
        "import sys\n",
        "import contextlib\n",
        "\n",
        "# Path to the test dataset\n",
        "test_dir = '/content/dataset/data/test'\n",
        "\n",
        "# List of classes\n",
        "classes = [\n",
        "    'Batik Bali', 'Batik Betawi', 'Batik Celup', 'Batik Cendrawasih', 'Batik Dayak', 'Batik Geblek Renteng',\n",
        "    'Batik Insang', 'Batik Kawung', 'Batik Lasem', 'Batik Mega Mendung', 'Batik Pala', 'Batik Parang',\n",
        "    'Batik Poleng', 'Batik Sekar Jagad', 'Batik Tambal'\n",
        "]\n",
        "\n",
        "# Load the best model saved during training\n",
        "model = tf.keras.models.load_model('best_model.keras')\n",
        "\n",
        "@contextlib.contextmanager\n",
        "def suppress_stdout():\n",
        "    with open(os.devnull, 'w') as devnull:\n",
        "        old_stdout = sys.stdout\n",
        "        sys.stdout = devnull\n",
        "        try:\n",
        "            yield\n",
        "        finally:\n",
        "            sys.stdout = old_stdout\n",
        "\n",
        "# Initialize lists to store true labels and predictions\n",
        "true_labels = []\n",
        "pred_labels = []\n",
        "\n",
        "# Iterate through each class directory in the test dataset\n",
        "for motive in classes:\n",
        "    images_list = os.listdir(os.path.join(test_dir, motive))\n",
        "    correct_count = 0\n",
        "\n",
        "    for image in images_list:\n",
        "        img_path = os.path.join(test_dir, motive, image)\n",
        "        img = load_img(img_path, target_size=(224, 224))\n",
        "\n",
        "        # Preprocess the image\n",
        "        img_array = img_to_array(img)\n",
        "        img_array = np.expand_dims(img_array, axis=0)  # Add batch dimension\n",
        "        img_array = img_array / 255.0  # Normalize the image\n",
        "\n",
        "        # Make prediction\n",
        "        with suppress_stdout():\n",
        "            prediction = model.predict(img_array)\n",
        "        pred_idx = np.argmax(prediction)\n",
        "        pred_motive = classes[pred_idx]\n",
        "        pred_confidence = prediction[0][pred_idx] * 100\n",
        "\n",
        "        # Store true and predicted labels\n",
        "        true_labels.append(classes.index(motive))\n",
        "        pred_labels.append(pred_idx)\n",
        "\n",
        "        if pred_motive == motive:\n",
        "            correct_count += 1\n",
        "\n",
        "    total_images = len(images_list)\n",
        "    print(f'{motive} Predictions --> {correct_count}/{total_images} correct')"
      ],
      "metadata": {
        "colab": {
          "base_uri": "https://localhost:8080/"
        },
        "id": "kGVl-CN5ktr-",
        "outputId": "e1116d9b-fa15-4f33-e230-e2edf3945449"
      },
      "id": "kGVl-CN5ktr-",
      "execution_count": 28,
      "outputs": [
        {
          "output_type": "stream",
          "name": "stdout",
          "text": [
            "Batik Bali Predictions --> 15/17 correct\n",
            "Batik Betawi Predictions --> 13/18 correct\n",
            "Batik Celup Predictions --> 17/19 correct\n",
            "Batik Cendrawasih Predictions --> 16/17 correct\n",
            "Batik Dayak Predictions --> 16/17 correct\n",
            "Batik Geblek Renteng Predictions --> 16/17 correct\n",
            "Batik Insang Predictions --> 17/17 correct\n",
            "Batik Kawung Predictions --> 17/17 correct\n",
            "Batik Lasem Predictions --> 16/18 correct\n",
            "Batik Mega Mendung Predictions --> 18/18 correct\n",
            "Batik Pala Predictions --> 17/17 correct\n",
            "Batik Parang Predictions --> 17/17 correct\n",
            "Batik Poleng Predictions --> 16/16 correct\n",
            "Batik Sekar Jagad Predictions --> 16/17 correct\n",
            "Batik Tambal Predictions --> 15/17 correct\n"
          ]
        }
      ]
    },
    {
      "cell_type": "markdown",
      "id": "2W8s7RxhtACR",
      "metadata": {
        "id": "2W8s7RxhtACR"
      },
      "source": [
        "# Evaluasi Model"
      ]
    },
    {
      "cell_type": "code",
      "source": [
        "from sklearn.metrics import confusion_matrix, classification_report, f1_score\n",
        "import itertools\n",
        "import seaborn as sns\n",
        "\n",
        "# Calculate confusion matrix\n",
        "cm = confusion_matrix(true_labels, pred_labels)\n",
        "\n",
        "# Plot confusion matrix\n",
        "plt.figure(figsize=(10, 8))\n",
        "sns.heatmap(cm, annot=True, fmt='d', xticklabels=classes, yticklabels=classes, cmap='Blues')\n",
        "plt.xlabel('Predicted')\n",
        "plt.ylabel('True')\n",
        "plt.title('Confusion Matrix')\n",
        "plt.show()"
      ],
      "metadata": {
        "colab": {
          "base_uri": "https://localhost:8080/",
          "height": 855
        },
        "id": "YnDOEG0JlszL",
        "outputId": "92e6d3e9-ff2b-4db0-e492-810931da90f5"
      },
      "id": "YnDOEG0JlszL",
      "execution_count": 29,
      "outputs": [
        {
          "output_type": "display_data",
          "data": {
            "text/plain": [
              "<Figure size 1000x800 with 2 Axes>"
            ],
            "image/png": "[encoded data removed]"
          },
          "metadata": {}
        }
      ]
    },
    {
      "cell_type": "code",
      "source": [
        "# Calculate precision, recall, F1-score and support\n",
        "# Generate classification report\n",
        "report = classification_report(true_labels, pred_labels, target_names=classes)\n",
        "\n",
        "# Print classification report\n",
        "print('Classification Report:')\n",
        "print(report)\n",
        "\n",
        "# Parse lines to calculate weighted F1-score\n",
        "lines = report.split('\\n')\n",
        "weighted_f1_score = 0.0\n",
        "for line in lines[2:-5]:  # Skip header and footer lines\n",
        "    if line.strip() != '':\n",
        "        weighted_f1_score += float(line.split()[3])\n",
        "\n",
        "# Calculate final weighted F1-score\n",
        "weighted_f1_score /= len(lines[2:-5])\n",
        "\n",
        "# Print weighted F1-score\n",
        "print(f'Weighted F1 Score: {weighted_f1_score:.2f}')"
      ],
      "metadata": {
        "colab": {
          "base_uri": "https://localhost:8080/"
        },
        "id": "SoUHPCaQn8LB",
        "outputId": "051431da-6c7f-4311-fcf3-f9de2e231b01"
      },
      "id": "SoUHPCaQn8LB",
      "execution_count": 35,
      "outputs": [
        {
          "output_type": "stream",
          "name": "stdout",
          "text": [
            "Classification Report:\n",
            "                      precision    recall  f1-score   support\n",
            "\n",
            "          Batik Bali       0.94      0.88      0.91        17\n",
            "        Batik Betawi       0.76      0.72      0.74        18\n",
            "         Batik Celup       0.94      0.89      0.92        19\n",
            "   Batik Cendrawasih       0.89      0.94      0.91        17\n",
            "         Batik Dayak       0.94      0.94      0.94        17\n",
            "Batik Geblek Renteng       1.00      0.94      0.97        17\n",
            "        Batik Insang       1.00      1.00      1.00        17\n",
            "        Batik Kawung       1.00      1.00      1.00        17\n",
            "         Batik Lasem       0.80      0.89      0.84        18\n",
            "  Batik Mega Mendung       0.90      1.00      0.95        18\n",
            "          Batik Pala       0.94      1.00      0.97        17\n",
            "        Batik Parang       1.00      1.00      1.00        17\n",
            "        Batik Poleng       1.00      1.00      1.00        16\n",
            "   Batik Sekar Jagad       0.94      0.94      0.94        17\n",
            "        Batik Tambal       1.00      0.88      0.94        17\n",
            "\n",
            "            accuracy                           0.93       259\n",
            "           macro avg       0.94      0.94      0.94       259\n",
            "        weighted avg       0.94      0.93      0.93       259\n",
            "\n",
            "Weighted F1 Score: 0.93\n"
          ]
        }
      ]
    },
    {
      "cell_type": "markdown",
      "id": "zU7SGTHcsyTx",
      "metadata": {
        "id": "zU7SGTHcsyTx"
      },
      "source": [
        "# Import ke Tflite, Json, H5, Tfjs"
      ]
    },
    {
      "cell_type": "code",
      "execution_count": null,
      "id": "yazWw695dpiU",
      "metadata": {
        "id": "yazWw695dpiU"
      },
      "outputs": [],
      "source": [
        "# import ke h5\n",
        "\n",
        "model.save(\"model.h5\")"
      ]
    },
    {
      "cell_type": "code",
      "execution_count": null,
      "id": "Ps8M9ZXLR-0E",
      "metadata": {
        "id": "Ps8M9ZXLR-0E"
      },
      "outputs": [],
      "source": [
        "# import ke tflite\n",
        "model = tf.keras.models.load_model(\"model.h5\")\n",
        "\n",
        "# Convert the model to TensorFlow Lite format\n",
        "converter = tf.lite.TFLiteConverter.from_keras_model(model)\n",
        "model_tflite = converter.convert()\n",
        "\n",
        "# Save the converted model to a .tflite file\n",
        "with open(\"CNN_TransferLearningModel.tflite\", \"wb\") as f:\n",
        "    f.write(model_tflite)"
      ]
    },
    {
      "cell_type": "code",
      "execution_count": null,
      "id": "eHZc4LShWPsJ",
      "metadata": {
        "id": "eHZc4LShWPsJ"
      },
      "outputs": [],
      "source": [
        "# import ke json\n",
        "\n",
        "import json\n",
        "\n",
        "model = tf.keras.models.load_model(\"model.h5\")\n",
        "\n",
        "# Save the model architecture to a JSON file\n",
        "model_json = model.to_json()\n",
        "with open(\"model.json\", \"w\") as json_file:\n",
        "    json_file.write(model_json)"
      ]
    },
    {
      "cell_type": "code",
      "execution_count": null,
      "id": "naGCWiYWt3Je",
      "metadata": {
        "id": "naGCWiYWt3Je"
      },
      "outputs": [],
      "source": [
        "!pip install tensorflowjs"
      ]
    },
    {
      "cell_type": "code",
      "execution_count": null,
      "id": "mTO_RuOJBgFU",
      "metadata": {
        "id": "mTO_RuOJBgFU"
      },
      "outputs": [],
      "source": [
        "# import ke tfjs\n",
        "\n",
        "model = tf.keras.models.load_model(\"model.h5\")\n",
        "\n",
        "!tensorflowjs_converter --input_format=keras {saved_model_path} ./\n",
        "!zip filebin.zip *.bin model.json"
      ]
    },
    {
      "cell_type": "markdown",
      "id": "NTuqYGnOtD4b",
      "metadata": {
        "id": "NTuqYGnOtD4b"
      },
      "source": [
        "# Config"
      ]
    },
    {
      "cell_type": "code",
      "execution_count": null,
      "id": "7Uq2ugQj6kZU",
      "metadata": {
        "id": "7Uq2ugQj6kZU"
      },
      "outputs": [],
      "source": [
        "# model config pake h5\n",
        "import h5py\n",
        "\n",
        "# Replace 'your_model_name' with the actual file name of your HDF5 file\n",
        "file_name = 'model.h5'\n",
        "\n",
        "# Open the HDF5 file in read mode\n",
        "with h5py.File(file_name, 'r') as f:\n",
        "    # Retrieve the 'model_config' attribute\n",
        "    model_config = f.attrs.get('model_config')\n",
        "\n",
        "# Print the model configuration\n",
        "print(model_config)"
      ]
    }
  ],
  "metadata": {
    "accelerator": "TPU",
    "colab": {
      "collapsed_sections": [
        "0aOawH-QvSZA",
        "xNzW0A7mFiSc",
        "Ft6jttPKsq0x",
        "orpm539Gs46d",
        "RkJKBcm2s7_i",
        "2W8s7RxhtACR",
        "zU7SGTHcsyTx",
        "NTuqYGnOtD4b"
      ],
      "gpuType": "V28",
      "provenance": []
    },
    "kernelspec": {
      "display_name": "Python 3",
      "name": "python3"
    },
    "language_info": {
      "codemirror_mode": {
        "name": "ipython",
        "version": 3
      },
      "file_extension": ".py",
      "mimetype": "text/x-python",
      "name": "python",
      "nbconvert_exporter": "python",
      "pygments_lexer": "ipython3",
      "version": "3.11.5"
    }
  },
  "nbformat": 4,
  "nbformat_minor": 5
}