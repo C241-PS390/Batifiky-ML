{
  "cells": [
    {
      "cell_type": "markdown",
      "id": "0aOawH-QvSZA",
      "metadata": {
        "id": "0aOawH-QvSZA"
      },
      "source": [
        "# Intro"
      ]
    },
    {
      "cell_type": "code",
      "execution_count": 1,
      "id": "taPbNY-fu2E3",
      "metadata": {
        "colab": {
          "base_uri": "https://localhost:8080/"
        },
        "collapsed": true,
        "id": "taPbNY-fu2E3",
        "outputId": "1b310b10-deb7-4744-88af-0144f9f97a89"
      },
      "outputs": [
        {
          "output_type": "stream",
          "name": "stdout",
          "text": [
            "Requirement already satisfied: tensorflow in /usr/local/lib/python3.10/dist-packages (2.15.0)\n",
            "Requirement already satisfied: absl-py>=1.0.0 in /usr/local/lib/python3.10/dist-packages (from tensorflow) (1.4.0)\n",
            "Requirement already satisfied: astunparse>=1.6.0 in /usr/local/lib/python3.10/dist-packages (from tensorflow) (1.6.3)\n",
            "Requirement already satisfied: flatbuffers>=23.5.26 in /usr/local/lib/python3.10/dist-packages (from tensorflow) (24.3.25)\n",
            "Requirement already satisfied: gast!=0.5.0,!=0.5.1,!=0.5.2,>=0.2.1 in /usr/local/lib/python3.10/dist-packages (from tensorflow) (0.5.4)\n",
            "Requirement already satisfied: google-pasta>=0.1.1 in /usr/local/lib/python3.10/dist-packages (from tensorflow) (0.2.0)\n",
            "Requirement already satisfied: h5py>=2.9.0 in /usr/local/lib/python3.10/dist-packages (from tensorflow) (3.11.0)\n",
            "Requirement already satisfied: libclang>=13.0.0 in /usr/local/lib/python3.10/dist-packages (from tensorflow) (18.1.1)\n",
            "Requirement already satisfied: ml-dtypes~=0.2.0 in /usr/local/lib/python3.10/dist-packages (from tensorflow) (0.2.0)\n",
            "Requirement already satisfied: numpy<2.0.0,>=1.23.5 in /usr/local/lib/python3.10/dist-packages (from tensorflow) (1.25.2)\n",
            "Requirement already satisfied: opt-einsum>=2.3.2 in /usr/local/lib/python3.10/dist-packages (from tensorflow) (3.3.0)\n",
            "Requirement already satisfied: packaging in /usr/local/lib/python3.10/dist-packages (from tensorflow) (24.1)\n",
            "Requirement already satisfied: protobuf!=4.21.0,!=4.21.1,!=4.21.2,!=4.21.3,!=4.21.4,!=4.21.5,<5.0.0dev,>=3.20.3 in /usr/local/lib/python3.10/dist-packages (from tensorflow) (3.20.3)\n",
            "Requirement already satisfied: setuptools in /usr/local/lib/python3.10/dist-packages (from tensorflow) (67.7.2)\n",
            "Requirement already satisfied: six>=1.12.0 in /usr/local/lib/python3.10/dist-packages (from tensorflow) (1.16.0)\n",
            "Requirement already satisfied: termcolor>=1.1.0 in /usr/local/lib/python3.10/dist-packages (from tensorflow) (2.4.0)\n",
            "Requirement already satisfied: typing-extensions>=3.6.6 in /usr/local/lib/python3.10/dist-packages (from tensorflow) (4.12.2)\n",
            "Requirement already satisfied: wrapt<1.15,>=1.11.0 in /usr/local/lib/python3.10/dist-packages (from tensorflow) (1.14.1)\n",
            "Requirement already satisfied: tensorflow-io-gcs-filesystem>=0.23.1 in /usr/local/lib/python3.10/dist-packages (from tensorflow) (0.37.0)\n",
            "Requirement already satisfied: grpcio<2.0,>=1.24.3 in /usr/local/lib/python3.10/dist-packages (from tensorflow) (1.64.1)\n",
            "Requirement already satisfied: tensorboard<2.16,>=2.15 in /usr/local/lib/python3.10/dist-packages (from tensorflow) (2.15.2)\n",
            "Requirement already satisfied: tensorflow-estimator<2.16,>=2.15.0 in /usr/local/lib/python3.10/dist-packages (from tensorflow) (2.15.0)\n",
            "Requirement already satisfied: keras<2.16,>=2.15.0 in /usr/local/lib/python3.10/dist-packages (from tensorflow) (2.15.0)\n",
            "Requirement already satisfied: wheel<1.0,>=0.23.0 in /usr/local/lib/python3.10/dist-packages (from astunparse>=1.6.0->tensorflow) (0.43.0)\n",
            "Requirement already satisfied: google-auth<3,>=1.6.3 in /usr/local/lib/python3.10/dist-packages (from tensorboard<2.16,>=2.15->tensorflow) (2.27.0)\n",
            "Requirement already satisfied: google-auth-oauthlib<2,>=0.5 in /usr/local/lib/python3.10/dist-packages (from tensorboard<2.16,>=2.15->tensorflow) (1.2.0)\n",
            "Requirement already satisfied: markdown>=2.6.8 in /usr/local/lib/python3.10/dist-packages (from tensorboard<2.16,>=2.15->tensorflow) (3.6)\n",
            "Requirement already satisfied: requests<3,>=2.21.0 in /usr/local/lib/python3.10/dist-packages (from tensorboard<2.16,>=2.15->tensorflow) (2.31.0)\n",
            "Requirement already satisfied: tensorboard-data-server<0.8.0,>=0.7.0 in /usr/local/lib/python3.10/dist-packages (from tensorboard<2.16,>=2.15->tensorflow) (0.7.2)\n",
            "Requirement already satisfied: werkzeug>=1.0.1 in /usr/local/lib/python3.10/dist-packages (from tensorboard<2.16,>=2.15->tensorflow) (3.0.3)\n",
            "Requirement already satisfied: cachetools<6.0,>=2.0.0 in /usr/local/lib/python3.10/dist-packages (from google-auth<3,>=1.6.3->tensorboard<2.16,>=2.15->tensorflow) (5.3.3)\n",
            "Requirement already satisfied: pyasn1-modules>=0.2.1 in /usr/local/lib/python3.10/dist-packages (from google-auth<3,>=1.6.3->tensorboard<2.16,>=2.15->tensorflow) (0.4.0)\n",
            "Requirement already satisfied: rsa<5,>=3.1.4 in /usr/local/lib/python3.10/dist-packages (from google-auth<3,>=1.6.3->tensorboard<2.16,>=2.15->tensorflow) (4.9)\n",
            "Requirement already satisfied: requests-oauthlib>=0.7.0 in /usr/local/lib/python3.10/dist-packages (from google-auth-oauthlib<2,>=0.5->tensorboard<2.16,>=2.15->tensorflow) (2.0.0)\n",
            "Requirement already satisfied: charset-normalizer<4,>=2 in /usr/local/lib/python3.10/dist-packages (from requests<3,>=2.21.0->tensorboard<2.16,>=2.15->tensorflow) (3.3.2)\n",
            "Requirement already satisfied: idna<4,>=2.5 in /usr/local/lib/python3.10/dist-packages (from requests<3,>=2.21.0->tensorboard<2.16,>=2.15->tensorflow) (3.7)\n",
            "Requirement already satisfied: urllib3<3,>=1.21.1 in /usr/local/lib/python3.10/dist-packages (from requests<3,>=2.21.0->tensorboard<2.16,>=2.15->tensorflow) (2.0.7)\n",
            "Requirement already satisfied: certifi>=2017.4.17 in /usr/local/lib/python3.10/dist-packages (from requests<3,>=2.21.0->tensorboard<2.16,>=2.15->tensorflow) (2024.6.2)\n",
            "Requirement already satisfied: MarkupSafe>=2.1.1 in /usr/local/lib/python3.10/dist-packages (from werkzeug>=1.0.1->tensorboard<2.16,>=2.15->tensorflow) (2.1.5)\n",
            "Requirement already satisfied: pyasn1<0.7.0,>=0.4.6 in /usr/local/lib/python3.10/dist-packages (from pyasn1-modules>=0.2.1->google-auth<3,>=1.6.3->tensorboard<2.16,>=2.15->tensorflow) (0.6.0)\n",
            "Requirement already satisfied: oauthlib>=3.0.0 in /usr/local/lib/python3.10/dist-packages (from requests-oauthlib>=0.7.0->google-auth-oauthlib<2,>=0.5->tensorboard<2.16,>=2.15->tensorflow) (3.2.2)\n"
          ]
        }
      ],
      "source": [
        "!pip install tensorflow"
      ]
    },
    {
      "cell_type": "code",
      "execution_count": 2,
      "id": "19316a06",
      "metadata": {
        "id": "19316a06"
      },
      "outputs": [],
      "source": [
        "import os\n",
        "import random\n",
        "import tensorflow as tf\n",
        "import matplotlib.pyplot as plt\n",
        "import matplotlib.image as mpimg\n",
        "import numpy as np\n",
        "\n",
        "from PIL import Image\n",
        "from shutil import copy2\n",
        "from sklearn.model_selection import train_test_split\n",
        "\n",
        "from tensorflow.keras.utils import load_img, img_to_array\n",
        "from tensorflow.keras.preprocessing.image import ImageDataGenerator\n",
        "from tensorflow.keras.models import Sequential\n",
        "\n",
        "from tensorflow.keras.applications import vgg16\n",
        "from tensorflow.keras.layers import Flatten, Dense, Dropout, Conv2D, MaxPooling2D, BatchNormalization\n",
        "from tensorflow.keras.models import Model\n",
        "\n",
        "from sklearn.metrics import confusion_matrix, f1_score"
      ]
    },
    {
      "cell_type": "code",
      "execution_count": 3,
      "id": "et1lkIkaMGOe",
      "metadata": {
        "colab": {
          "base_uri": "https://localhost:8080/"
        },
        "id": "et1lkIkaMGOe",
        "outputId": "52f20080-5eed-4ea6-f7fc-77eef14992c8"
      },
      "outputs": [
        {
          "output_type": "stream",
          "name": "stderr",
          "text": [
            "Downloading...\n",
            "From (original): https://drive.google.com/uc?export=download&id=1yjuT0USeyqQmhoIuboWg9QWVoLgQkgjS\n",
            "From (redirected): https://drive.google.com/uc?export=download&id=1yjuT0USeyqQmhoIuboWg9QWVoLgQkgjS&confirm=t&uuid=599191e4-b7bd-4167-a12a-cef1ddc0330f\n",
            "To: /content/Motif_Batik_Dataset.zip\n",
            "100%|██████████| 397M/397M [00:01<00:00, 229MB/s]\n"
          ]
        }
      ],
      "source": [
        "# pake zip dataset drive\n",
        "import zipfile\n",
        "import gdown\n",
        "\n",
        "url = \"https://drive.google.com/uc?export=download&id=1yjuT0USeyqQmhoIuboWg9QWVoLgQkgjS\"\n",
        "output = \"Motif_Batik_Dataset.zip\"\n",
        "gdown.download(url, output, quiet=False)\n",
        "\n",
        "zip_ref = zipfile.ZipFile(\"/content/Motif_Batik_Dataset.zip\", 'r')\n",
        "zip_ref.extractall(\"dataset\")\n",
        "zip_ref.close()"
      ]
    },
    {
      "cell_type": "markdown",
      "id": "xNzW0A7mFiSc",
      "metadata": {
        "id": "xNzW0A7mFiSc"
      },
      "source": [
        "# Split data train val test"
      ]
    },
    {
      "cell_type": "code",
      "execution_count": 4,
      "id": "8f9f119b",
      "metadata": {
        "id": "8f9f119b"
      },
      "outputs": [],
      "source": [
        "train_dir = r'/content/dataset/data/train'\n",
        "def check_image_shapes(directory):\n",
        "    shapes = []\n",
        "    for root, _, files in os.walk(directory):\n",
        "        for file in files:\n",
        "            if file.endswith(('jpg', 'jpeg', 'png', 'bmp', 'gif')):\n",
        "                file_path = os.path.join(root, file)\n",
        "                with Image.open(file_path) as img:\n",
        "                    shapes.append(img.size)\n",
        "    return shapes\n",
        "\n",
        "# Fungsi untuk menghitung jumlah gambar dalam direktori tertentu\n",
        "def count_images(directory):\n",
        "    count = 0\n",
        "    for root, _, files in os.walk(directory):\n",
        "        count += len([file for file in files if file.endswith(('jpg', 'jpeg', 'png', 'bmp', 'gif'))])\n",
        "    return count"
      ]
    },
    {
      "cell_type": "code",
      "execution_count": 5,
      "id": "177c3197",
      "metadata": {
        "colab": {
          "base_uri": "https://localhost:8080/"
        },
        "id": "177c3197",
        "outputId": "b093286e-c933-4ee3-f81a-1a12aa944ed7",
        "scrolled": true
      },
      "outputs": [
        {
          "output_type": "stream",
          "name": "stdout",
          "text": [
            "Shape gambar dalam training set: (640, 640)\n"
          ]
        }
      ],
      "source": [
        "# Mengecek shape gambar di training set\n",
        "train_shapes = check_image_shapes(train_dir)\n",
        "\n",
        "# Menampilkan shape gambar dalam training set\n",
        "print(f\"Shape gambar dalam training set: {train_shapes[0]}\")"
      ]
    },
    {
      "cell_type": "code",
      "execution_count": 6,
      "id": "bddee79b",
      "metadata": {
        "colab": {
          "base_uri": "https://localhost:8080/"
        },
        "id": "bddee79b",
        "outputId": "745fc40b-0e5f-40d9-c8b3-832623231e97"
      },
      "outputs": [
        {
          "output_type": "stream",
          "name": "stdout",
          "text": [
            "Found 4311 images belonging to 15 classes.\n",
            "Found 696 images belonging to 15 classes.\n",
            "Found 259 images belonging to 15 classes.\n"
          ]
        }
      ],
      "source": [
        "TRAINING_DIR = r'/content/dataset/data/train'\n",
        "train_datagen = ImageDataGenerator(\n",
        "                    rescale = 1.0 / 255.0,\n",
        "                    rotation_range = 20,\n",
        "                    width_shift_range=0.2,\n",
        "                    height_shift_range=0.2,\n",
        "                    horizontal_flip=True,\n",
        "                    shear_range = 0.2,\n",
        "                    zoom_range= 0.2,\n",
        "                    fill_mode = 'nearest')\n",
        "\n",
        "train_generator = train_datagen.flow_from_directory(\n",
        "    TRAINING_DIR,\n",
        "    target_size=(224, 224),\n",
        "    class_mode='categorical',\n",
        "    batch_size=64\n",
        ")\n",
        "\n",
        "VALIDATION_DIR = r'/content/dataset/data/val'\n",
        "val_datagen = ImageDataGenerator(rescale = 1.0 / 255.0)\n",
        "\n",
        "validation_generator = val_datagen.flow_from_directory(\n",
        "    VALIDATION_DIR,\n",
        "    target_size=(224, 224),\n",
        "    class_mode='categorical',\n",
        "    batch_size=64\n",
        ")\n",
        "\n",
        "TESTING_DIR = r'/content/dataset/data/test'\n",
        "test_datagen = ImageDataGenerator(rescale = 1.0 / 255.0)\n",
        "\n",
        "testing_generator = test_datagen.flow_from_directory(\n",
        "    TESTING_DIR,\n",
        "    target_size=(224, 224),\n",
        "    class_mode='categorical',\n",
        "    batch_size=64\n",
        ")"
      ]
    },
    {
      "cell_type": "markdown",
      "id": "Ft6jttPKsq0x",
      "metadata": {
        "id": "Ft6jttPKsq0x"
      },
      "source": [
        "# Transfer Learning w CNN"
      ]
    },
    {
      "cell_type": "code",
      "execution_count": 7,
      "id": "D165YI2_Wp8s",
      "metadata": {
        "id": "D165YI2_Wp8s",
        "colab": {
          "base_uri": "https://localhost:8080/"
        },
        "outputId": "7ff4cc12-baa5-4798-9ffa-9219323f3065"
      },
      "outputs": [
        {
          "output_type": "stream",
          "name": "stdout",
          "text": [
            "Downloading data from https://storage.googleapis.com/tensorflow/keras-applications/vgg16/vgg16_weights_tf_dim_ordering_tf_kernels_notop.h5\n",
            "58889256/58889256 [==============================] - 0s 0us/step\n",
            "Model: \"model\"\n",
            "_________________________________________________________________\n",
            " Layer (type)                Output Shape              Param #   \n",
            "=================================================================\n",
            " input_1 (InputLayer)        [(None, 224, 224, 3)]     0         \n",
            "                                                                 \n",
            " block1_conv1 (Conv2D)       (None, 224, 224, 64)      1792      \n",
            "                                                                 \n",
            " block1_conv2 (Conv2D)       (None, 224, 224, 64)      36928     \n",
            "                                                                 \n",
            " block1_pool (MaxPooling2D)  (None, 112, 112, 64)      0         \n",
            "                                                                 \n",
            " block2_conv1 (Conv2D)       (None, 112, 112, 128)     73856     \n",
            "                                                                 \n",
            " block2_conv2 (Conv2D)       (None, 112, 112, 128)     147584    \n",
            "                                                                 \n",
            " block2_pool (MaxPooling2D)  (None, 56, 56, 128)       0         \n",
            "                                                                 \n",
            " block3_conv1 (Conv2D)       (None, 56, 56, 256)       295168    \n",
            "                                                                 \n",
            " block3_conv2 (Conv2D)       (None, 56, 56, 256)       590080    \n",
            "                                                                 \n",
            " block3_conv3 (Conv2D)       (None, 56, 56, 256)       590080    \n",
            "                                                                 \n",
            " block3_pool (MaxPooling2D)  (None, 28, 28, 256)       0         \n",
            "                                                                 \n",
            " block4_conv1 (Conv2D)       (None, 28, 28, 512)       1180160   \n",
            "                                                                 \n",
            " block4_conv2 (Conv2D)       (None, 28, 28, 512)       2359808   \n",
            "                                                                 \n",
            " block4_conv3 (Conv2D)       (None, 28, 28, 512)       2359808   \n",
            "                                                                 \n",
            " block4_pool (MaxPooling2D)  (None, 14, 14, 512)       0         \n",
            "                                                                 \n",
            " block5_conv1 (Conv2D)       (None, 14, 14, 512)       2359808   \n",
            "                                                                 \n",
            " block5_conv2 (Conv2D)       (None, 14, 14, 512)       2359808   \n",
            "                                                                 \n",
            " block5_conv3 (Conv2D)       (None, 14, 14, 512)       2359808   \n",
            "                                                                 \n",
            " block5_pool (MaxPooling2D)  (None, 7, 7, 512)         0         \n",
            "                                                                 \n",
            " conv2d (Conv2D)             (None, 7, 7, 1024)        4719616   \n",
            "                                                                 \n",
            " batch_normalization (Batch  (None, 7, 7, 1024)        4096      \n",
            " Normalization)                                                  \n",
            "                                                                 \n",
            " max_pooling2d (MaxPooling2  (None, 3, 3, 1024)        0         \n",
            " D)                                                              \n",
            "                                                                 \n",
            " flatten (Flatten)           (None, 9216)              0         \n",
            "                                                                 \n",
            " dense (Dense)               (None, 2048)              18876416  \n",
            "                                                                 \n",
            " dropout (Dropout)           (None, 2048)              0         \n",
            "                                                                 \n",
            " dense_1 (Dense)             (None, 15)                30735     \n",
            "                                                                 \n",
            "=================================================================\n",
            "Total params: 38345551 (146.28 MB)\n",
            "Trainable params: 23628815 (90.14 MB)\n",
            "Non-trainable params: 14716736 (56.14 MB)\n",
            "_________________________________________________________________\n"
          ]
        }
      ],
      "source": [
        "from tensorflow.keras.applications import VGG16\n",
        "\n",
        "# jumlah kelas\n",
        "num_classes = 15\n",
        "input_shape = (224, 224, 3)\n",
        "\n",
        "# Load the pre-trained VGG16 model (include_top=False to exclude the fully connected layers)\n",
        "base_model = VGG16(weights='imagenet', include_top=False, input_shape=input_shape)\n",
        "\n",
        "# Freeze the pre-trained layers so they're not updated during training\n",
        "for layer in base_model.layers:\n",
        "    layer.trainable = False\n",
        "\n",
        "x = tf.keras.layers.Conv2D(1024, (3, 3), padding='same', activation='relu')(base_model.output)\n",
        "x = tf.keras.layers.BatchNormalization()(x)\n",
        "x = tf.keras.layers.MaxPooling2D(2, 2)(x)\n",
        "x = tf.keras.layers.Flatten()(x)\n",
        "x = tf.keras.layers.Dense(2048, activation='relu')(x)\n",
        "x = tf.keras.layers.Dropout(0.5)(x)\n",
        "predictions = tf.keras.layers.Dense(num_classes, activation='softmax')(x)\n",
        "\n",
        "# Create the final model\n",
        "model = Model(inputs=base_model.input, outputs=predictions)\n",
        "model.summary()\n",
        "\n",
        "# Callbacks\n",
        "from tensorflow.keras.callbacks import ModelCheckpoint, EarlyStopping, ReduceLROnPlateau\n",
        "\n",
        "callbacks = [\n",
        "    ModelCheckpoint('best_model.keras', save_best_only=True, monitor='val_loss', mode='min'),\n",
        "    EarlyStopping(monitor='val_loss', patience=10, mode='min', restore_best_weights=True),\n",
        "    ReduceLROnPlateau(monitor='val_loss', factor=0.1, patience=5, mode='min')\n",
        "]"
      ]
    },
    {
      "cell_type": "markdown",
      "id": "S_uL4mTjr718",
      "metadata": {
        "id": "S_uL4mTjr718"
      },
      "source": [
        "kalo param gede mbnya mungkin,\n",
        "Regularisasi: Menggunakan teknik regularisasi seperti dropout, L2 regularization, atau early stopping untuk mengurangi risiko overfitting.\n",
        "\n",
        "Data Augmentation: Meningkatkan ukuran dan keragaman dataset dengan teknik data augmentation untuk membantu model generalisasi lebih baik.\n",
        "\n",
        "Model Compression:Menggunakan teknik kompresi model seperti pruning, quantization, atau distillation untuk mengurangi ukuran model tanpa mengorbankan performa secara signifikan."
      ]
    },
    {
      "cell_type": "code",
      "execution_count": 8,
      "id": "d65366d7",
      "metadata": {
        "id": "d65366d7"
      },
      "outputs": [],
      "source": [
        "'''\n",
        "tahap selanjutnya adalah melakukan compile model tersebut menggunakan fungsi compile(). Pada tahap ini, kita juga menentukan loss function serta optimizer yang akan digunakan.\n",
        "Selain itu, optimizer yang digunakan  pada kasus ini adalah \"Adam optimizer\".\n",
        "Adam optimizer dipilih karena mudah diterapkan, lebih efisien secara komputasi dan kebutuhan memori yang lebih kecil.\n",
        "'''\n",
        "from keras.optimizers import Adam\n",
        "model.compile(loss = 'categorical_crossentropy',\n",
        "              optimizer = tf.keras.optimizers.Adam(learning_rate=0.0001), # atau 0.0005 / 0.0003 / 0.001\n",
        "              metrics = ['accuracy'])\n"
      ]
    },
    {
      "cell_type": "code",
      "execution_count": 9,
      "id": "TPLwpqnSuEl9",
      "metadata": {
        "id": "TPLwpqnSuEl9",
        "colab": {
          "base_uri": "https://localhost:8080/"
        },
        "outputId": "d5fc7134-f259-4091-a7c8-887b8edad918"
      },
      "outputs": [
        {
          "output_type": "stream",
          "name": "stdout",
          "text": [
            "Steps per epoch: 67\n",
            "Validation steps: 10\n"
          ]
        }
      ],
      "source": [
        "# menghitung step per epochnya\n",
        "\n",
        "steps_per_epoch = train_generator.samples // train_generator.batch_size\n",
        "validation_steps = validation_generator.samples // validation_generator.batch_size\n",
        "\n",
        "print(f\"Steps per epoch: {steps_per_epoch}\")\n",
        "print(f\"Validation steps: {validation_steps}\")"
      ]
    },
    {
      "cell_type": "code",
      "execution_count": 10,
      "id": "cd2f37f0",
      "metadata": {
        "id": "cd2f37f0",
        "colab": {
          "base_uri": "https://localhost:8080/"
        },
        "outputId": "5034090b-bb4b-4adc-fe41-db12c14b870c"
      },
      "outputs": [
        {
          "output_type": "stream",
          "name": "stdout",
          "text": [
            "Epoch 1/30\n",
            "67/67 [==============================] - 113s 2s/step - loss: 2.3120 - accuracy: 0.3843 - val_loss: 2.0527 - val_accuracy: 0.5125 - lr: 1.0000e-04\n",
            "Epoch 2/30\n",
            "67/67 [==============================] - 111s 2s/step - loss: 1.3317 - accuracy: 0.5743 - val_loss: 1.7136 - val_accuracy: 0.5813 - lr: 1.0000e-04\n",
            "Epoch 3/30\n",
            "67/67 [==============================] - 112s 2s/step - loss: 1.1103 - accuracy: 0.6454 - val_loss: 1.3608 - val_accuracy: 0.6297 - lr: 1.0000e-04\n",
            "Epoch 4/30\n",
            "67/67 [==============================] - 111s 2s/step - loss: 0.9355 - accuracy: 0.6927 - val_loss: 1.0408 - val_accuracy: 0.7172 - lr: 1.0000e-04\n",
            "Epoch 5/30\n",
            "67/67 [==============================] - 112s 2s/step - loss: 0.8214 - accuracy: 0.7313 - val_loss: 0.8422 - val_accuracy: 0.7563 - lr: 1.0000e-04\n",
            "Epoch 6/30\n",
            "67/67 [==============================] - 111s 2s/step - loss: 0.7170 - accuracy: 0.7641 - val_loss: 0.7211 - val_accuracy: 0.7672 - lr: 1.0000e-04\n",
            "Epoch 7/30\n",
            "67/67 [==============================] - 112s 2s/step - loss: 0.6230 - accuracy: 0.7947 - val_loss: 0.6400 - val_accuracy: 0.7922 - lr: 1.0000e-04\n",
            "Epoch 8/30\n",
            "67/67 [==============================] - 110s 2s/step - loss: 0.5811 - accuracy: 0.8090 - val_loss: 0.5760 - val_accuracy: 0.8234 - lr: 1.0000e-04\n",
            "Epoch 9/30\n",
            "67/67 [==============================] - 112s 2s/step - loss: 0.4998 - accuracy: 0.8368 - val_loss: 0.5141 - val_accuracy: 0.8391 - lr: 1.0000e-04\n",
            "Epoch 10/30\n",
            "67/67 [==============================] - 110s 2s/step - loss: 0.4530 - accuracy: 0.8503 - val_loss: 0.5241 - val_accuracy: 0.8547 - lr: 1.0000e-04\n",
            "Epoch 11/30\n",
            "67/67 [==============================] - 109s 2s/step - loss: 0.4243 - accuracy: 0.8590 - val_loss: 0.5551 - val_accuracy: 0.8328 - lr: 1.0000e-04\n",
            "Epoch 12/30\n",
            "67/67 [==============================] - 109s 2s/step - loss: 0.3562 - accuracy: 0.8853 - val_loss: 0.6189 - val_accuracy: 0.8281 - lr: 1.0000e-04\n",
            "Epoch 13/30\n",
            "67/67 [==============================] - 110s 2s/step - loss: 0.3682 - accuracy: 0.8785 - val_loss: 0.4475 - val_accuracy: 0.8797 - lr: 1.0000e-04\n",
            "Epoch 14/30\n",
            "67/67 [==============================] - 109s 2s/step - loss: 0.3301 - accuracy: 0.8919 - val_loss: 0.5271 - val_accuracy: 0.8453 - lr: 1.0000e-04\n",
            "Epoch 15/30\n",
            "67/67 [==============================] - 110s 2s/step - loss: 0.3207 - accuracy: 0.8929 - val_loss: 0.4424 - val_accuracy: 0.8766 - lr: 1.0000e-04\n",
            "Epoch 16/30\n",
            "67/67 [==============================] - 109s 2s/step - loss: 0.2820 - accuracy: 0.9072 - val_loss: 0.4676 - val_accuracy: 0.8687 - lr: 1.0000e-04\n",
            "Epoch 17/30\n",
            "67/67 [==============================] - 109s 2s/step - loss: 0.2580 - accuracy: 0.9098 - val_loss: 0.4931 - val_accuracy: 0.8781 - lr: 1.0000e-04\n",
            "Epoch 18/30\n",
            "67/67 [==============================] - 111s 2s/step - loss: 0.2394 - accuracy: 0.9190 - val_loss: 0.3755 - val_accuracy: 0.8969 - lr: 1.0000e-04\n",
            "Epoch 19/30\n",
            "67/67 [==============================] - 108s 2s/step - loss: 0.2061 - accuracy: 0.9305 - val_loss: 0.4286 - val_accuracy: 0.8797 - lr: 1.0000e-04\n",
            "Epoch 20/30\n",
            "67/67 [==============================] - 109s 2s/step - loss: 0.1952 - accuracy: 0.9341 - val_loss: 0.3867 - val_accuracy: 0.8953 - lr: 1.0000e-04\n",
            "Epoch 21/30\n",
            "67/67 [==============================] - 108s 2s/step - loss: 0.1967 - accuracy: 0.9317 - val_loss: 0.4523 - val_accuracy: 0.8828 - lr: 1.0000e-04\n",
            "Epoch 22/30\n",
            "67/67 [==============================] - 109s 2s/step - loss: 0.1976 - accuracy: 0.9303 - val_loss: 0.4073 - val_accuracy: 0.8906 - lr: 1.0000e-04\n",
            "Epoch 23/30\n",
            "67/67 [==============================] - 109s 2s/step - loss: 0.1794 - accuracy: 0.9383 - val_loss: 0.3795 - val_accuracy: 0.9016 - lr: 1.0000e-04\n",
            "Epoch 24/30\n",
            "67/67 [==============================] - 111s 2s/step - loss: 0.1475 - accuracy: 0.9555 - val_loss: 0.3135 - val_accuracy: 0.9187 - lr: 1.0000e-05\n",
            "Epoch 25/30\n",
            "67/67 [==============================] - 110s 2s/step - loss: 0.1244 - accuracy: 0.9628 - val_loss: 0.2966 - val_accuracy: 0.9156 - lr: 1.0000e-05\n",
            "Epoch 26/30\n",
            "67/67 [==============================] - 109s 2s/step - loss: 0.1122 - accuracy: 0.9642 - val_loss: 0.3000 - val_accuracy: 0.9266 - lr: 1.0000e-05\n",
            "Epoch 27/30\n",
            "67/67 [==============================] - 110s 2s/step - loss: 0.1129 - accuracy: 0.9673 - val_loss: 0.2932 - val_accuracy: 0.9219 - lr: 1.0000e-05\n",
            "Epoch 28/30\n",
            "67/67 [==============================] - 109s 2s/step - loss: 0.1074 - accuracy: 0.9670 - val_loss: 0.2980 - val_accuracy: 0.9219 - lr: 1.0000e-05\n",
            "Epoch 29/30\n",
            "67/67 [==============================] - 110s 2s/step - loss: 0.0966 - accuracy: 0.9703 - val_loss: 0.2929 - val_accuracy: 0.9344 - lr: 1.0000e-05\n",
            "Epoch 30/30\n",
            "67/67 [==============================] - 111s 2s/step - loss: 0.0836 - accuracy: 0.9748 - val_loss: 0.2590 - val_accuracy: 0.9391 - lr: 1.0000e-05\n"
          ]
        }
      ],
      "source": [
        "history = model.fit(\n",
        "    train_generator,\n",
        "    steps_per_epoch=train_generator.samples // train_generator.batch_size,\n",
        "    epochs=30,\n",
        "    validation_data=validation_generator,\n",
        "    validation_steps=validation_generator.samples // validation_generator.batch_size,\n",
        "    callbacks=[callbacks]\n",
        ")"
      ]
    },
    {
      "cell_type": "markdown",
      "id": "orpm539Gs46d",
      "metadata": {
        "id": "orpm539Gs46d"
      },
      "source": [
        "# Cek Grafik Accuracy & Loss"
      ]
    },
    {
      "cell_type": "code",
      "execution_count": 11,
      "id": "1f962a98",
      "metadata": {
        "id": "1f962a98",
        "colab": {
          "base_uri": "https://localhost:8080/",
          "height": 887
        },
        "outputId": "a70189d4-1b4b-4acb-e3f0-228b58cb98da"
      },
      "outputs": [
        {
          "output_type": "display_data",
          "data": {
            "text/plain": [
              "<Figure size 640x480 with 1 Axes>"
            ],
            "image/png": "[encoded data removed]"
          },
          "metadata": {}
        },
        {
          "output_type": "display_data",
          "data": {
            "text/plain": [
              "<Figure size 640x480 with 1 Axes>"
            ],
            "image/png": "[encoded data removed]"
          },
          "metadata": {}
        }
      ],
      "source": [
        "# Plot the chart for accuracy and loss on both training and validation\n",
        "acc = history.history['accuracy']\n",
        "val_acc = history.history['val_accuracy']\n",
        "loss = history.history['loss']\n",
        "val_loss = history.history['val_loss']\n",
        "\n",
        "epochs = range(len(acc))\n",
        "\n",
        "plt.plot(epochs, acc, 'r', label='Training accuracy')\n",
        "plt.plot(epochs, val_acc, 'b', label='Validation accuracy')\n",
        "plt.title('Training and validation accuracy')\n",
        "plt.legend()\n",
        "plt.figure()\n",
        "\n",
        "plt.plot(epochs, loss, 'r', label='Training Loss')\n",
        "plt.plot(epochs, val_loss, 'b', label='Validation Loss')\n",
        "plt.title('Training and validation loss')\n",
        "plt.legend()\n",
        "\n",
        "plt.show()"
      ]
    },
    {
      "cell_type": "markdown",
      "id": "RkJKBcm2s7_i",
      "metadata": {
        "id": "RkJKBcm2s7_i"
      },
      "source": [
        "# Testing Prediksi"
      ]
    },
    {
      "cell_type": "code",
      "source": [
        "from tensorflow.keras.models import load_model\n",
        "\n",
        "# Load the best model saved during training\n",
        "model = load_model('best_model.keras')"
      ],
      "metadata": {
        "id": "bcJz7QNOkCaK"
      },
      "id": "bcJz7QNOkCaK",
      "execution_count": 12,
      "outputs": []
    },
    {
      "cell_type": "code",
      "source": [
        "from tensorflow.keras.models import load_model\n",
        "from tensorflow.keras.preprocessing.image import ImageDataGenerator\n",
        "\n",
        "# Path to the test dataset\n",
        "TESTING_DIR = r'/content/dataset/data/test'\n",
        "\n",
        "# Create test data generator\n",
        "test_datagen = ImageDataGenerator(rescale=1.0 / 255.0)\n",
        "\n",
        "# Create test data generator\n",
        "testing_generator = test_datagen.flow_from_directory(\n",
        "    TESTING_DIR,\n",
        "    target_size=(224, 224),\n",
        "    class_mode='categorical',\n",
        "    batch_size=64,\n",
        "    shuffle=False  # Important to not shuffle for evaluation\n",
        ")\n",
        "\n",
        "# Load the best model saved during training\n",
        "model = load_model('best_model.keras')\n",
        "\n",
        "# Make predictions\n",
        "predictions = model.predict(testing_generator)\n",
        "\n",
        "# Get the class indices\n",
        "predicted_classes = np.argmax(predictions, axis=1)\n",
        "\n",
        "# Get the true labels\n",
        "true_classes = testing_generator.classes\n",
        "\n",
        "# Get the class labels\n",
        "class_labels = list(testing_generator.class_indices.keys())\n",
        "\n",
        "# Display results\n",
        "print(\"Predicted classes:\", predicted_classes)\n",
        "print(\"True classes:\", true_classes)\n",
        "print(\"Class labels:\", class_labels)"
      ],
      "metadata": {
        "colab": {
          "base_uri": "https://localhost:8080/"
        },
        "id": "1lv0yXhSkRQ9",
        "outputId": "ef829538-3aa8-429f-e417-36ec666ea3c1"
      },
      "id": "1lv0yXhSkRQ9",
      "execution_count": 13,
      "outputs": [
        {
          "output_type": "stream",
          "name": "stdout",
          "text": [
            "Found 259 images belonging to 15 classes.\n",
            "5/5 [==============================] - 5s 873ms/step\n",
            "Predicted classes: [ 0  0  0  0  0  0  0  0  0  0  0  0  4  0  0  0  0  1  1  1  1  1  4  1\n",
            "  2  1  1  1  1  1  1  1  1  1  1  2  2  2  2  2  2  2  2  2  2  2  2  2\n",
            "  2  1  2  2  2  2  3  3  3  3  3  3  3  3  4  3  3  3  3  3  3  3  3  4\n",
            "  4  4  4  4  4  4  4  4  4  4  4  4  4  4  4  4  5  5  5  5  5  5  5  5\n",
            "  5  5  5  5  5  5  5  5  5  6  6  6  6  6  6  6  6  6  6  6  6  6  6  6\n",
            "  6  6  7  7  7  7  7  7  7  7  7  7  7  7  7  7  7  7  7  8  8  8  8  8\n",
            "  8  8  8  8  1  8  8  8  8  8  8  8 14  9  9  9  9  9  9  9  9  9  9  9\n",
            "  9  9  9  9  9  9  9 10 10 10 10 10  0 10 10 10 10 10 10 10 10 10 10 10\n",
            " 11 11 11 11 11 11 11 11 11 11 11 11 11 11 11 11 11 12 12 12 12 12 12 12\n",
            " 12 12 12 12 12 12 12 12 12 13 13 13 13  0 13 13 13 13 13 13 13 13  0 13\n",
            " 13 13 14 14 14 14  1 14 14 14 14 14 14 14 14 14 14 14 14]\n",
            "True classes: [ 0  0  0  0  0  0  0  0  0  0  0  0  0  0  0  0  0  1  1  1  1  1  1  1\n",
            "  1  1  1  1  1  1  1  1  1  1  1  2  2  2  2  2  2  2  2  2  2  2  2  2\n",
            "  2  2  2  2  2  2  3  3  3  3  3  3  3  3  3  3  3  3  3  3  3  3  3  4\n",
            "  4  4  4  4  4  4  4  4  4  4  4  4  4  4  4  4  5  5  5  5  5  5  5  5\n",
            "  5  5  5  5  5  5  5  5  5  6  6  6  6  6  6  6  6  6  6  6  6  6  6  6\n",
            "  6  6  7  7  7  7  7  7  7  7  7  7  7  7  7  7  7  7  7  8  8  8  8  8\n",
            "  8  8  8  8  8  8  8  8  8  8  8  8  8  9  9  9  9  9  9  9  9  9  9  9\n",
            "  9  9  9  9  9  9  9 10 10 10 10 10 10 10 10 10 10 10 10 10 10 10 10 10\n",
            " 11 11 11 11 11 11 11 11 11 11 11 11 11 11 11 11 11 12 12 12 12 12 12 12\n",
            " 12 12 12 12 12 12 12 12 12 13 13 13 13 13 13 13 13 13 13 13 13 13 13 13\n",
            " 13 13 14 14 14 14 14 14 14 14 14 14 14 14 14 14 14 14 14]\n",
            "Class labels: ['Batik Bali', 'Batik Betawi', 'Batik Celup', 'Batik Cendrawasih', 'Batik Dayak', 'Batik Geblek Renteng', 'Batik Insang', 'Batik Kawung', 'Batik Lasem', 'Batik Mega Mendung', 'Batik Pala', 'Batik Parang', 'Batik Poleng', 'Batik Sekar Jagad', 'Batik Tambal']\n"
          ]
        }
      ]
    },
    {
      "cell_type": "code",
      "source": [
        "test_loss, test_accuracy = model.evaluate(testing_generator)\n",
        "print(f'Test loss: {test_loss}')\n",
        "print(f'Test accuracy: {test_accuracy}')"
      ],
      "metadata": {
        "colab": {
          "base_uri": "https://localhost:8080/"
        },
        "id": "60zXr0xOkcQG",
        "outputId": "e33b8ef7-50e6-4eef-d324-449e0b2f16d8"
      },
      "id": "60zXr0xOkcQG",
      "execution_count": 14,
      "outputs": [
        {
          "output_type": "stream",
          "name": "stdout",
          "text": [
            "5/5 [==============================] - 5s 845ms/step - loss: 0.1258 - accuracy: 0.9575\n",
            "Test loss: 0.1257569044828415\n",
            "Test accuracy: 0.9575289487838745\n"
          ]
        }
      ]
    },
    {
      "cell_type": "code",
      "source": [
        "from tensorflow.keras.preprocessing.image import load_img, img_to_array\n",
        "import sys\n",
        "import contextlib\n",
        "\n",
        "# Path to the test dataset\n",
        "test_dir = '/content/dataset/data/test'\n",
        "\n",
        "# List of classes\n",
        "classes = [\n",
        "    'Batik Bali', 'Batik Betawi', 'Batik Celup', 'Batik Cendrawasih', 'Batik Dayak', 'Batik Geblek Renteng',\n",
        "    'Batik Insang', 'Batik Kawung', 'Batik Lasem', 'Batik Mega Mendung', 'Batik Pala', 'Batik Parang',\n",
        "    'Batik Poleng', 'Batik Sekar Jagad', 'Batik Tambal'\n",
        "]\n",
        "\n",
        "# Load the best model saved during training\n",
        "model = tf.keras.models.load_model('best_model.keras')\n",
        "\n",
        "@contextlib.contextmanager\n",
        "def suppress_stdout():\n",
        "    with open(os.devnull, 'w') as devnull:\n",
        "        old_stdout = sys.stdout\n",
        "        sys.stdout = devnull\n",
        "        try:\n",
        "            yield\n",
        "        finally:\n",
        "            sys.stdout = old_stdout\n",
        "\n",
        "# Initialize lists to store true labels and predictions\n",
        "true_labels = []\n",
        "pred_labels = []\n",
        "\n",
        "# Iterate through each class directory in the test dataset\n",
        "for motive in classes:\n",
        "    images_list = os.listdir(os.path.join(test_dir, motive))\n",
        "    correct_count = 0\n",
        "\n",
        "    for image in images_list:\n",
        "        img_path = os.path.join(test_dir, motive, image)\n",
        "        img = load_img(img_path, target_size=(224, 224))\n",
        "\n",
        "        # Preprocess the image\n",
        "        img_array = img_to_array(img)\n",
        "        img_array = np.expand_dims(img_array, axis=0)  # Add batch dimension\n",
        "        img_array = img_array / 255.0  # Normalize the image\n",
        "\n",
        "        # Make prediction\n",
        "        with suppress_stdout():\n",
        "            prediction = model.predict(img_array)\n",
        "        pred_idx = np.argmax(prediction)\n",
        "        pred_motive = classes[pred_idx]\n",
        "        pred_confidence = prediction[0][pred_idx] * 100\n",
        "\n",
        "        # Store true and predicted labels\n",
        "        true_labels.append(classes.index(motive))\n",
        "        pred_labels.append(pred_idx)\n",
        "\n",
        "        if pred_motive == motive:\n",
        "            correct_count += 1\n",
        "\n",
        "    total_images = len(images_list)\n",
        "    print(f'{motive} Predictions --> {correct_count}/{total_images} correct')"
      ],
      "metadata": {
        "colab": {
          "base_uri": "https://localhost:8080/"
        },
        "id": "kGVl-CN5ktr-",
        "outputId": "8c237d25-60fc-48a1-a441-dbe41cd1a90a"
      },
      "id": "kGVl-CN5ktr-",
      "execution_count": 15,
      "outputs": [
        {
          "output_type": "stream",
          "name": "stdout",
          "text": [
            "Batik Bali Predictions --> 16/17 correct\n",
            "Batik Betawi Predictions --> 16/18 correct\n",
            "Batik Celup Predictions --> 18/19 correct\n",
            "Batik Cendrawasih Predictions --> 16/17 correct\n",
            "Batik Dayak Predictions --> 17/17 correct\n",
            "Batik Geblek Renteng Predictions --> 17/17 correct\n",
            "Batik Insang Predictions --> 17/17 correct\n",
            "Batik Kawung Predictions --> 17/17 correct\n",
            "Batik Lasem Predictions --> 16/18 correct\n",
            "Batik Mega Mendung Predictions --> 18/18 correct\n",
            "Batik Pala Predictions --> 16/17 correct\n",
            "Batik Parang Predictions --> 17/17 correct\n",
            "Batik Poleng Predictions --> 16/16 correct\n",
            "Batik Sekar Jagad Predictions --> 15/17 correct\n",
            "Batik Tambal Predictions --> 16/17 correct\n"
          ]
        }
      ]
    },
    {
      "cell_type": "markdown",
      "id": "2W8s7RxhtACR",
      "metadata": {
        "id": "2W8s7RxhtACR"
      },
      "source": [
        "# Evaluasi Model"
      ]
    },
    {
      "cell_type": "code",
      "source": [
        "from sklearn.metrics import confusion_matrix, classification_report, f1_score\n",
        "import itertools\n",
        "import seaborn as sns\n",
        "\n",
        "# Calculate confusion matrix\n",
        "cm = confusion_matrix(true_labels, pred_labels)\n",
        "\n",
        "# Plot confusion matrix\n",
        "plt.figure(figsize=(10, 8))\n",
        "sns.heatmap(cm, annot=True, fmt='d', xticklabels=classes, yticklabels=classes, cmap='Blues')\n",
        "plt.xlabel('Predicted')\n",
        "plt.ylabel('True')\n",
        "plt.title('Confusion Matrix')\n",
        "plt.show()"
      ],
      "metadata": {
        "colab": {
          "base_uri": "https://localhost:8080/",
          "height": 855
        },
        "id": "YnDOEG0JlszL",
        "outputId": "19e1699e-3f77-4ff0-9060-51ac3a409f13"
      },
      "id": "YnDOEG0JlszL",
      "execution_count": 16,
      "outputs": [
        {
          "output_type": "display_data",
          "data": {
            "text/plain": [
              "<Figure size 1000x800 with 2 Axes>"
            ],
            "image/png": "[encoded data removed]"
          },
          "metadata": {}
        }
      ]
    },
    {
      "cell_type": "code",
      "source": [
        "# Calculate precision, recall, F1-score and support\n",
        "# Generate classification report\n",
        "report = classification_report(true_labels, pred_labels, target_names=classes)\n",
        "\n",
        "# Print classification report\n",
        "print('Classification Report:')\n",
        "print(report)\n",
        "\n",
        "# Parse lines to calculate weighted F1-score\n",
        "lines = report.split('\\n')\n",
        "weighted_f1_score = 0.0\n",
        "for line in lines[2:-5]:  # Skip header and footer lines\n",
        "    if line.strip() != '':\n",
        "        weighted_f1_score += float(line.split()[3])\n",
        "\n",
        "# Calculate final weighted F1-score\n",
        "weighted_f1_score /= len(lines[2:-5])\n",
        "\n",
        "# Print weighted F1-score\n",
        "print(f'Weighted F1 Score: {weighted_f1_score:.2f}')"
      ],
      "metadata": {
        "colab": {
          "base_uri": "https://localhost:8080/"
        },
        "id": "SoUHPCaQn8LB",
        "outputId": "f743125a-317a-48f4-e7d2-674678337f97"
      },
      "id": "SoUHPCaQn8LB",
      "execution_count": 17,
      "outputs": [
        {
          "output_type": "stream",
          "name": "stdout",
          "text": [
            "Classification Report:\n",
            "                      precision    recall  f1-score   support\n",
            "\n",
            "          Batik Bali       0.84      0.94      0.89        17\n",
            "        Batik Betawi       0.84      0.89      0.86        18\n",
            "         Batik Celup       0.95      0.95      0.95        19\n",
            "   Batik Cendrawasih       1.00      0.94      0.97        17\n",
            "         Batik Dayak       0.85      1.00      0.92        17\n",
            "Batik Geblek Renteng       1.00      1.00      1.00        17\n",
            "        Batik Insang       1.00      1.00      1.00        17\n",
            "        Batik Kawung       1.00      1.00      1.00        17\n",
            "         Batik Lasem       1.00      0.89      0.94        18\n",
            "  Batik Mega Mendung       1.00      1.00      1.00        18\n",
            "          Batik Pala       1.00      0.94      0.97        17\n",
            "        Batik Parang       1.00      1.00      1.00        17\n",
            "        Batik Poleng       1.00      1.00      1.00        16\n",
            "   Batik Sekar Jagad       1.00      0.88      0.94        17\n",
            "        Batik Tambal       0.94      0.94      0.94        17\n",
            "\n",
            "            accuracy                           0.96       259\n",
            "           macro avg       0.96      0.96      0.96       259\n",
            "        weighted avg       0.96      0.96      0.96       259\n",
            "\n",
            "Weighted F1 Score: 0.97\n"
          ]
        }
      ]
    },
    {
      "cell_type": "markdown",
      "id": "zU7SGTHcsyTx",
      "metadata": {
        "id": "zU7SGTHcsyTx"
      },
      "source": [
        "# Import ke Tflite, Json, H5, Tfjs"
      ]
    },
    {
      "cell_type": "code",
      "execution_count": 18,
      "metadata": {
        "colab": {
          "base_uri": "https://localhost:8080/"
        },
        "id": "zGvAbjS1CBxc",
        "outputId": "12768ae5-4e8e-42c1-84cf-b5131cad738b"
      },
      "outputs": [
        {
          "output_type": "stream",
          "name": "stdout",
          "text": [
            "Requirement already satisfied: joblib in /usr/local/lib/python3.10/dist-packages (1.4.2)\n"
          ]
        }
      ],
      "source": [
        "!pip install joblib"
      ],
      "id": "zGvAbjS1CBxc"
    },
    {
      "cell_type": "code",
      "execution_count": 19,
      "id": "yazWw695dpiU",
      "metadata": {
        "id": "yazWw695dpiU",
        "colab": {
          "base_uri": "https://localhost:8080/"
        },
        "outputId": "29350cbc-e372-4013-d634-e372a8a4f6d4"
      },
      "outputs": [
        {
          "output_type": "stream",
          "name": "stderr",
          "text": [
            "/usr/local/lib/python3.10/dist-packages/keras/src/engine/training.py:3103: UserWarning: You are saving your model as an HDF5 file via `model.save()`. This file format is considered legacy. We recommend using instead the native Keras format, e.g. `model.save('my_model.keras')`.\n",
            "  saving_api.save_model(\n"
          ]
        }
      ],
      "source": [
        "# import ke h5\n",
        "\n",
        "model.save(\"model.h5\")"
      ]
    },
    {
      "cell_type": "code",
      "execution_count": 20,
      "id": "Ps8M9ZXLR-0E",
      "metadata": {
        "id": "Ps8M9ZXLR-0E"
      },
      "outputs": [],
      "source": [
        "# import ke tflite\n",
        "model = tf.keras.models.load_model(\"model.h5\")\n",
        "\n",
        "# Convert the model to TensorFlow Lite format\n",
        "converter = tf.lite.TFLiteConverter.from_keras_model(model)\n",
        "model_tflite = converter.convert()\n",
        "\n",
        "# Save the converted model to a .tflite file\n",
        "with open(\"CNN_TransferLearningModel.tflite\", \"wb\") as f:\n",
        "    f.write(model_tflite)"
      ]
    },
    {
      "cell_type": "code",
      "execution_count": null,
      "id": "eHZc4LShWPsJ",
      "metadata": {
        "id": "eHZc4LShWPsJ"
      },
      "outputs": [],
      "source": [
        "# import ke json\n",
        "\n",
        "import json\n",
        "\n",
        "model = tf.keras.models.load_model(\"model.h5\")\n",
        "\n",
        "# Save the model architecture to a JSON file\n",
        "model_json = model.to_json()\n",
        "with open(\"model.json\", \"w\") as json_file:\n",
        "    json_file.write(model_json)"
      ]
    },
    {
      "cell_type": "code",
      "source": [
        "!pip install tensorflowjs"
      ],
      "metadata": {
        "colab": {
          "base_uri": "https://localhost:8080/",
          "height": 1000
        },
        "id": "5Gi2nyt3yjux",
        "outputId": "026168b6-f6b5-44c3-9f5c-ecdefa818612"
      },
      "id": "5Gi2nyt3yjux",
      "execution_count": 22,
      "outputs": [
        {
          "output_type": "stream",
          "name": "stdout",
          "text": [
            "Collecting tensorflowjs\n",
            "  Downloading tensorflowjs-4.20.0-py3-none-any.whl (89 kB)\n",
            "\u001b[2K     \u001b[90m━━━━━━━━━━━━━━━━━━━━━━━━━━━━━━━━━━━━━━━━\u001b[0m \u001b[32m89.1/89.1 kB\u001b[0m \u001b[31m1.1 MB/s\u001b[0m eta \u001b[36m0:00:00\u001b[0m\n",
            "\u001b[?25hRequirement already satisfied: flax>=0.7.2 in /usr/local/lib/python3.10/dist-packages (from tensorflowjs) (0.8.4)\n",
            "Requirement already satisfied: importlib_resources>=5.9.0 in /usr/local/lib/python3.10/dist-packages (from tensorflowjs) (6.4.0)\n",
            "Requirement already satisfied: jax>=0.4.13 in /usr/local/lib/python3.10/dist-packages (from tensorflowjs) (0.4.26)\n",
            "Requirement already satisfied: jaxlib>=0.4.13 in /usr/local/lib/python3.10/dist-packages (from tensorflowjs) (0.4.26)\n",
            "Requirement already satisfied: tensorflow<3,>=2.13.0 in /usr/local/lib/python3.10/dist-packages (from tensorflowjs) (2.15.0)\n",
            "Requirement already satisfied: tf-keras>=2.13.0 in /usr/local/lib/python3.10/dist-packages (from tensorflowjs) (2.15.1)\n",
            "Collecting tensorflow-decision-forests>=1.5.0 (from tensorflowjs)\n",
            "  Downloading tensorflow_decision_forests-1.9.1-cp310-cp310-manylinux_2_17_x86_64.manylinux2014_x86_64.whl (15.5 MB)\n",
            "\u001b[2K     \u001b[90m━━━━━━━━━━━━━━━━━━━━━━━━━━━━━━━━━━━━━━━━\u001b[0m \u001b[32m15.5/15.5 MB\u001b[0m \u001b[31m57.7 MB/s\u001b[0m eta \u001b[36m0:00:00\u001b[0m\n",
            "\u001b[?25hRequirement already satisfied: six<2,>=1.16.0 in /usr/local/lib/python3.10/dist-packages (from tensorflowjs) (1.16.0)\n",
            "Requirement already satisfied: tensorflow-hub>=0.16.1 in /usr/local/lib/python3.10/dist-packages (from tensorflowjs) (0.16.1)\n",
            "Collecting packaging~=23.1 (from tensorflowjs)\n",
            "  Downloading packaging-23.2-py3-none-any.whl (53 kB)\n",
            "\u001b[2K     \u001b[90m━━━━━━━━━━━━━━━━━━━━━━━━━━━━━━━━━━━━━━━━\u001b[0m \u001b[32m53.0/53.0 kB\u001b[0m \u001b[31m5.6 MB/s\u001b[0m eta \u001b[36m0:00:00\u001b[0m\n",
            "\u001b[?25hRequirement already satisfied: numpy>=1.22 in /usr/local/lib/python3.10/dist-packages (from flax>=0.7.2->tensorflowjs) (1.25.2)\n",
            "Requirement already satisfied: msgpack in /usr/local/lib/python3.10/dist-packages (from flax>=0.7.2->tensorflowjs) (1.0.8)\n",
            "Requirement already satisfied: optax in /usr/local/lib/python3.10/dist-packages (from flax>=0.7.2->tensorflowjs) (0.1.9)\n",
            "Requirement already satisfied: orbax-checkpoint in /usr/local/lib/python3.10/dist-packages (from flax>=0.7.2->tensorflowjs) (0.4.4)\n",
            "Requirement already satisfied: tensorstore in /usr/local/lib/python3.10/dist-packages (from flax>=0.7.2->tensorflowjs) (0.1.45)\n",
            "Requirement already satisfied: rich>=11.1 in /usr/local/lib/python3.10/dist-packages (from flax>=0.7.2->tensorflowjs) (13.7.1)\n",
            "Requirement already satisfied: typing-extensions>=4.2 in /usr/local/lib/python3.10/dist-packages (from flax>=0.7.2->tensorflowjs) (4.12.2)\n",
            "Requirement already satisfied: PyYAML>=5.4.1 in /usr/local/lib/python3.10/dist-packages (from flax>=0.7.2->tensorflowjs) (6.0.1)\n",
            "Requirement already satisfied: ml-dtypes>=0.2.0 in /usr/local/lib/python3.10/dist-packages (from jax>=0.4.13->tensorflowjs) (0.2.0)\n",
            "Requirement already satisfied: opt-einsum in /usr/local/lib/python3.10/dist-packages (from jax>=0.4.13->tensorflowjs) (3.3.0)\n",
            "Requirement already satisfied: scipy>=1.9 in /usr/local/lib/python3.10/dist-packages (from jax>=0.4.13->tensorflowjs) (1.11.4)\n",
            "Requirement already satisfied: absl-py>=1.0.0 in /usr/local/lib/python3.10/dist-packages (from tensorflow<3,>=2.13.0->tensorflowjs) (1.4.0)\n",
            "Requirement already satisfied: astunparse>=1.6.0 in /usr/local/lib/python3.10/dist-packages (from tensorflow<3,>=2.13.0->tensorflowjs) (1.6.3)\n",
            "Requirement already satisfied: flatbuffers>=23.5.26 in /usr/local/lib/python3.10/dist-packages (from tensorflow<3,>=2.13.0->tensorflowjs) (24.3.25)\n",
            "Requirement already satisfied: gast!=0.5.0,!=0.5.1,!=0.5.2,>=0.2.1 in /usr/local/lib/python3.10/dist-packages (from tensorflow<3,>=2.13.0->tensorflowjs) (0.5.4)\n",
            "Requirement already satisfied: google-pasta>=0.1.1 in /usr/local/lib/python3.10/dist-packages (from tensorflow<3,>=2.13.0->tensorflowjs) (0.2.0)\n",
            "Requirement already satisfied: h5py>=2.9.0 in /usr/local/lib/python3.10/dist-packages (from tensorflow<3,>=2.13.0->tensorflowjs) (3.11.0)\n",
            "Requirement already satisfied: libclang>=13.0.0 in /usr/local/lib/python3.10/dist-packages (from tensorflow<3,>=2.13.0->tensorflowjs) (18.1.1)\n",
            "Requirement already satisfied: protobuf!=4.21.0,!=4.21.1,!=4.21.2,!=4.21.3,!=4.21.4,!=4.21.5,<5.0.0dev,>=3.20.3 in /usr/local/lib/python3.10/dist-packages (from tensorflow<3,>=2.13.0->tensorflowjs) (3.20.3)\n",
            "Requirement already satisfied: setuptools in /usr/local/lib/python3.10/dist-packages (from tensorflow<3,>=2.13.0->tensorflowjs) (67.7.2)\n",
            "Requirement already satisfied: termcolor>=1.1.0 in /usr/local/lib/python3.10/dist-packages (from tensorflow<3,>=2.13.0->tensorflowjs) (2.4.0)\n",
            "Requirement already satisfied: wrapt<1.15,>=1.11.0 in /usr/local/lib/python3.10/dist-packages (from tensorflow<3,>=2.13.0->tensorflowjs) (1.14.1)\n",
            "Requirement already satisfied: tensorflow-io-gcs-filesystem>=0.23.1 in /usr/local/lib/python3.10/dist-packages (from tensorflow<3,>=2.13.0->tensorflowjs) (0.37.0)\n",
            "Requirement already satisfied: grpcio<2.0,>=1.24.3 in /usr/local/lib/python3.10/dist-packages (from tensorflow<3,>=2.13.0->tensorflowjs) (1.64.1)\n",
            "Requirement already satisfied: tensorboard<2.16,>=2.15 in /usr/local/lib/python3.10/dist-packages (from tensorflow<3,>=2.13.0->tensorflowjs) (2.15.2)\n",
            "Requirement already satisfied: tensorflow-estimator<2.16,>=2.15.0 in /usr/local/lib/python3.10/dist-packages (from tensorflow<3,>=2.13.0->tensorflowjs) (2.15.0)\n",
            "Requirement already satisfied: keras<2.16,>=2.15.0 in /usr/local/lib/python3.10/dist-packages (from tensorflow<3,>=2.13.0->tensorflowjs) (2.15.0)\n",
            "Requirement already satisfied: pandas in /usr/local/lib/python3.10/dist-packages (from tensorflow-decision-forests>=1.5.0->tensorflowjs) (2.0.3)\n",
            "Collecting tensorflow<3,>=2.13.0 (from tensorflowjs)\n",
            "  Downloading tensorflow-2.16.1-cp310-cp310-manylinux_2_17_x86_64.manylinux2014_x86_64.whl (589.8 MB)\n",
            "\u001b[2K     \u001b[90m━━━━━━━━━━━━━━━━━━━━━━━━━━━━━━━━━━━━━━━━\u001b[0m \u001b[32m589.8/589.8 MB\u001b[0m \u001b[31m1.5 MB/s\u001b[0m eta \u001b[36m0:00:00\u001b[0m\n",
            "\u001b[?25hRequirement already satisfied: wheel in /usr/local/lib/python3.10/dist-packages (from tensorflow-decision-forests>=1.5.0->tensorflowjs) (0.43.0)\n",
            "Collecting wurlitzer (from tensorflow-decision-forests>=1.5.0->tensorflowjs)\n",
            "  Downloading wurlitzer-3.1.1-py3-none-any.whl (8.6 kB)\n",
            "Collecting tf-keras>=2.13.0 (from tensorflowjs)\n",
            "  Downloading tf_keras-2.16.0-py3-none-any.whl (1.7 MB)\n",
            "\u001b[2K     \u001b[90m━━━━━━━━━━━━━━━━━━━━━━━━━━━━━━━━━━━━━━━━\u001b[0m \u001b[32m1.7/1.7 MB\u001b[0m \u001b[31m58.7 MB/s\u001b[0m eta \u001b[36m0:00:00\u001b[0m\n",
            "\u001b[?25hCollecting ydf (from tensorflow-decision-forests>=1.5.0->tensorflowjs)\n",
            "  Downloading ydf-0.4.3-cp310-cp310-manylinux_2_17_x86_64.manylinux2014_x86_64.whl (9.2 MB)\n",
            "\u001b[2K     \u001b[90m━━━━━━━━━━━━━━━━━━━━━━━━━━━━━━━━━━━━━━━━\u001b[0m \u001b[32m9.2/9.2 MB\u001b[0m \u001b[31m64.0 MB/s\u001b[0m eta \u001b[36m0:00:00\u001b[0m\n",
            "\u001b[?25hCollecting ml-dtypes>=0.2.0 (from jax>=0.4.13->tensorflowjs)\n",
            "  Downloading ml_dtypes-0.3.2-cp310-cp310-manylinux_2_17_x86_64.manylinux2014_x86_64.whl (2.2 MB)\n",
            "\u001b[2K     \u001b[90m━━━━━━━━━━━━━━━━━━━━━━━━━━━━━━━━━━━━━━━━\u001b[0m \u001b[32m2.2/2.2 MB\u001b[0m \u001b[31m87.9 MB/s\u001b[0m eta \u001b[36m0:00:00\u001b[0m\n",
            "\u001b[?25hRequirement already satisfied: requests<3,>=2.21.0 in /usr/local/lib/python3.10/dist-packages (from tensorflow<3,>=2.13.0->tensorflowjs) (2.31.0)\n",
            "Collecting tensorboard<2.17,>=2.16 (from tensorflow<3,>=2.13.0->tensorflowjs)\n",
            "  Downloading tensorboard-2.16.2-py3-none-any.whl (5.5 MB)\n",
            "\u001b[2K     \u001b[90m━━━━━━━━━━━━━━━━━━━━━━━━━━━━━━━━━━━━━━━━\u001b[0m \u001b[32m5.5/5.5 MB\u001b[0m \u001b[31m77.1 MB/s\u001b[0m eta \u001b[36m0:00:00\u001b[0m\n",
            "\u001b[?25hCollecting keras>=3.0.0 (from tensorflow<3,>=2.13.0->tensorflowjs)\n",
            "  Downloading keras-3.3.3-py3-none-any.whl (1.1 MB)\n",
            "\u001b[2K     \u001b[90m━━━━━━━━━━━━━━━━━━━━━━━━━━━━━━━━━━━━━━━━\u001b[0m \u001b[32m1.1/1.1 MB\u001b[0m \u001b[31m61.0 MB/s\u001b[0m eta \u001b[36m0:00:00\u001b[0m\n",
            "\u001b[?25hCollecting namex (from keras>=3.0.0->tensorflow<3,>=2.13.0->tensorflowjs)\n",
            "  Downloading namex-0.0.8-py3-none-any.whl (5.8 kB)\n",
            "Collecting optree (from keras>=3.0.0->tensorflow<3,>=2.13.0->tensorflowjs)\n",
            "  Downloading optree-0.11.0-cp310-cp310-manylinux_2_17_x86_64.manylinux2014_x86_64.whl (311 kB)\n",
            "\u001b[2K     \u001b[90m━━━━━━━━━━━━━━━━━━━━━━━━━━━━━━━━━━━━━━━━\u001b[0m \u001b[32m311.2/311.2 kB\u001b[0m \u001b[31m31.1 MB/s\u001b[0m eta \u001b[36m0:00:00\u001b[0m\n",
            "\u001b[?25hRequirement already satisfied: charset-normalizer<4,>=2 in /usr/local/lib/python3.10/dist-packages (from requests<3,>=2.21.0->tensorflow<3,>=2.13.0->tensorflowjs) (3.3.2)\n",
            "Requirement already satisfied: idna<4,>=2.5 in /usr/local/lib/python3.10/dist-packages (from requests<3,>=2.21.0->tensorflow<3,>=2.13.0->tensorflowjs) (3.7)\n",
            "Requirement already satisfied: urllib3<3,>=1.21.1 in /usr/local/lib/python3.10/dist-packages (from requests<3,>=2.21.0->tensorflow<3,>=2.13.0->tensorflowjs) (2.0.7)\n",
            "Requirement already satisfied: certifi>=2017.4.17 in /usr/local/lib/python3.10/dist-packages (from requests<3,>=2.21.0->tensorflow<3,>=2.13.0->tensorflowjs) (2024.6.2)\n",
            "Requirement already satisfied: markdown-it-py>=2.2.0 in /usr/local/lib/python3.10/dist-packages (from rich>=11.1->flax>=0.7.2->tensorflowjs) (3.0.0)\n",
            "Requirement already satisfied: pygments<3.0.0,>=2.13.0 in /usr/local/lib/python3.10/dist-packages (from rich>=11.1->flax>=0.7.2->tensorflowjs) (2.18.0)\n",
            "Requirement already satisfied: markdown>=2.6.8 in /usr/local/lib/python3.10/dist-packages (from tensorboard<2.17,>=2.16->tensorflow<3,>=2.13.0->tensorflowjs) (3.6)\n",
            "Requirement already satisfied: tensorboard-data-server<0.8.0,>=0.7.0 in /usr/local/lib/python3.10/dist-packages (from tensorboard<2.17,>=2.16->tensorflow<3,>=2.13.0->tensorflowjs) (0.7.2)\n",
            "Requirement already satisfied: werkzeug>=1.0.1 in /usr/local/lib/python3.10/dist-packages (from tensorboard<2.17,>=2.16->tensorflow<3,>=2.13.0->tensorflowjs) (3.0.3)\n",
            "Requirement already satisfied: chex>=0.1.7 in /usr/local/lib/python3.10/dist-packages (from optax->flax>=0.7.2->tensorflowjs) (0.1.86)\n",
            "Requirement already satisfied: etils[epath,epy] in /usr/local/lib/python3.10/dist-packages (from orbax-checkpoint->flax>=0.7.2->tensorflowjs) (1.7.0)\n",
            "Requirement already satisfied: nest_asyncio in /usr/local/lib/python3.10/dist-packages (from orbax-checkpoint->flax>=0.7.2->tensorflowjs) (1.6.0)\n",
            "Requirement already satisfied: python-dateutil>=2.8.2 in /usr/local/lib/python3.10/dist-packages (from pandas->tensorflow-decision-forests>=1.5.0->tensorflowjs) (2.9.0.post0)\n",
            "Requirement already satisfied: pytz>=2020.1 in /usr/local/lib/python3.10/dist-packages (from pandas->tensorflow-decision-forests>=1.5.0->tensorflowjs) (2024.1)\n",
            "Requirement already satisfied: tzdata>=2022.1 in /usr/local/lib/python3.10/dist-packages (from pandas->tensorflow-decision-forests>=1.5.0->tensorflowjs) (2024.1)\n",
            "Requirement already satisfied: toolz>=0.9.0 in /usr/local/lib/python3.10/dist-packages (from chex>=0.1.7->optax->flax>=0.7.2->tensorflowjs) (0.12.1)\n",
            "Requirement already satisfied: mdurl~=0.1 in /usr/local/lib/python3.10/dist-packages (from markdown-it-py>=2.2.0->rich>=11.1->flax>=0.7.2->tensorflowjs) (0.1.2)\n",
            "Requirement already satisfied: MarkupSafe>=2.1.1 in /usr/local/lib/python3.10/dist-packages (from werkzeug>=1.0.1->tensorboard<2.17,>=2.16->tensorflow<3,>=2.13.0->tensorflowjs) (2.1.5)\n",
            "Requirement already satisfied: fsspec in /usr/local/lib/python3.10/dist-packages (from etils[epath,epy]->orbax-checkpoint->flax>=0.7.2->tensorflowjs) (2024.6.0)\n",
            "Requirement already satisfied: zipp in /usr/local/lib/python3.10/dist-packages (from etils[epath,epy]->orbax-checkpoint->flax>=0.7.2->tensorflowjs) (3.19.2)\n",
            "Installing collected packages: namex, ydf, wurlitzer, packaging, optree, ml-dtypes, tensorboard, keras, tensorflow, tf-keras, tensorflow-decision-forests, tensorflowjs\n",
            "  Attempting uninstall: packaging\n",
            "    Found existing installation: packaging 24.1\n",
            "    Uninstalling packaging-24.1:\n",
            "      Successfully uninstalled packaging-24.1\n",
            "  Attempting uninstall: ml-dtypes\n",
            "    Found existing installation: ml-dtypes 0.2.0\n",
            "    Uninstalling ml-dtypes-0.2.0:\n",
            "      Successfully uninstalled ml-dtypes-0.2.0\n",
            "  Attempting uninstall: tensorboard\n",
            "    Found existing installation: tensorboard 2.15.2\n",
            "    Uninstalling tensorboard-2.15.2:\n",
            "      Successfully uninstalled tensorboard-2.15.2\n",
            "  Attempting uninstall: keras\n",
            "    Found existing installation: keras 2.15.0\n",
            "    Uninstalling keras-2.15.0:\n",
            "      Successfully uninstalled keras-2.15.0\n",
            "  Attempting uninstall: tensorflow\n",
            "    Found existing installation: tensorflow 2.15.0\n",
            "    Uninstalling tensorflow-2.15.0:\n",
            "      Successfully uninstalled tensorflow-2.15.0\n",
            "  Attempting uninstall: tf-keras\n",
            "    Found existing installation: tf_keras 2.15.1\n",
            "    Uninstalling tf_keras-2.15.1:\n",
            "      Successfully uninstalled tf_keras-2.15.1\n",
            "\u001b[31mERROR: pip's dependency resolver does not currently take into account all the packages that are installed. This behaviour is the source of the following dependency conflicts.\n",
            "tensorflow-text 2.15.0 requires tensorflow<2.16,>=2.15.0; platform_machine != \"arm64\" or platform_system != \"Darwin\", but you have tensorflow 2.16.1 which is incompatible.\u001b[0m\u001b[31m\n",
            "\u001b[0mSuccessfully installed keras-3.3.3 ml-dtypes-0.3.2 namex-0.0.8 optree-0.11.0 packaging-23.2 tensorboard-2.16.2 tensorflow-2.16.1 tensorflow-decision-forests-1.9.1 tensorflowjs-4.20.0 tf-keras-2.16.0 wurlitzer-3.1.1 ydf-0.4.3\n"
          ]
        },
        {
          "output_type": "display_data",
          "data": {
            "application/vnd.colab-display-data+json": {
              "pip_warning": {
                "packages": [
                  "keras",
                  "ml_dtypes",
                  "tensorboard",
                  "tensorflow"
                ]
              },
              "id": "70420b2ee62943f093df74cfd2726f64"
            }
          },
          "metadata": {}
        }
      ]
    },
    {
      "cell_type": "code",
      "source": [
        "saved_model_path = \"./model_to_tfjs.h5\"\n",
        "model.save(saved_model_path)"
      ],
      "metadata": {
        "colab": {
          "base_uri": "https://localhost:8080/"
        },
        "id": "Sffa0CcqzEtH",
        "outputId": "38ae4f4a-d852-4193-a00c-1dffabbbd47d"
      },
      "id": "Sffa0CcqzEtH",
      "execution_count": 23,
      "outputs": [
        {
          "output_type": "stream",
          "name": "stderr",
          "text": [
            "/usr/local/lib/python3.10/dist-packages/keras/src/engine/training.py:3103: UserWarning: You are saving your model as an HDF5 file via `model.save()`. This file format is considered legacy. We recommend using instead the native Keras format, e.g. `model.save('my_model.keras')`.\n",
            "  saving_api.save_model(\n"
          ]
        }
      ]
    },
    {
      "cell_type": "code",
      "execution_count": 24,
      "id": "mTO_RuOJBgFU",
      "metadata": {
        "id": "mTO_RuOJBgFU",
        "colab": {
          "base_uri": "https://localhost:8080/"
        },
        "outputId": "f90b90b4-7aae-4c7d-9915-ebed8f77a871"
      },
      "outputs": [
        {
          "output_type": "stream",
          "name": "stdout",
          "text": [
            "2024-06-16 11:27:18.060592: W tensorflow/compiler/tf2tensorrt/utils/py_utils.cc:38] TF-TRT Warning: Could not find TensorRT\n",
            "  adding: group1-shard10of37.bin (deflated 7%)\n",
            "  adding: group1-shard11of37.bin (deflated 7%)\n",
            "  adding: group1-shard12of37.bin (deflated 7%)\n",
            "  adding: group1-shard13of37.bin (deflated 7%)\n",
            "  adding: group1-shard14of37.bin (deflated 7%)\n",
            "  adding: group1-shard15of37.bin (deflated 8%)\n",
            "  adding: group1-shard16of37.bin (deflated 8%)\n",
            "  adding: group1-shard17of37.bin (deflated 8%)\n",
            "  adding: group1-shard18of37.bin (deflated 8%)\n",
            "  adding: group1-shard19of37.bin (deflated 8%)\n",
            "  adding: group1-shard1of37.bin (deflated 7%)\n",
            "  adding: group1-shard20of37.bin (deflated 8%)\n",
            "  adding: group1-shard21of37.bin (deflated 8%)\n",
            "  adding: group1-shard22of37.bin (deflated 8%)\n",
            "  adding: group1-shard23of37.bin (deflated 8%)\n",
            "  adding: group1-shard24of37.bin (deflated 8%)\n",
            "  adding: group1-shard25of37.bin (deflated 8%)\n",
            "  adding: group1-shard26of37.bin (deflated 8%)\n",
            "  adding: group1-shard27of37.bin (deflated 8%)\n",
            "  adding: group1-shard28of37.bin (deflated 8%)\n",
            "  adding: group1-shard29of37.bin (deflated 8%)\n",
            "  adding: group1-shard2of37.bin (deflated 7%)\n",
            "  adding: group1-shard30of37.bin (deflated 8%)\n",
            "  adding: group1-shard31of37.bin (deflated 8%)\n",
            "  adding: group1-shard32of37.bin (deflated 8%)\n",
            "  adding: group1-shard33of37.bin (deflated 8%)\n",
            "  adding: group1-shard34of37.bin (deflated 8%)\n",
            "  adding: group1-shard35of37.bin (deflated 8%)\n",
            "  adding: group1-shard36of37.bin (deflated 8%)\n",
            "  adding: group1-shard37of37.bin (deflated 8%)\n",
            "  adding: group1-shard3of37.bin (deflated 7%)\n",
            "  adding: group1-shard4of37.bin (deflated 7%)\n",
            "  adding: group1-shard5of37.bin (deflated 7%)\n",
            "  adding: group1-shard6of37.bin (deflated 7%)\n",
            "  adding: group1-shard7of37.bin (deflated 7%)\n",
            "  adding: group1-shard8of37.bin (deflated 7%)\n",
            "  adding: group1-shard9of37.bin (deflated 7%)\n",
            "  adding: model.json (deflated 91%)\n"
          ]
        }
      ],
      "source": [
        "# import ke tfjs\n",
        "\n",
        "!tensorflowjs_converter --input_format=keras {saved_model_path} ./\n",
        "!zip filebin.zip *.bin model.json"
      ]
    },
    {
      "cell_type": "markdown",
      "id": "NTuqYGnOtD4b",
      "metadata": {
        "id": "NTuqYGnOtD4b"
      },
      "source": [
        "# Config"
      ]
    },
    {
      "cell_type": "code",
      "execution_count": 25,
      "id": "7Uq2ugQj6kZU",
      "metadata": {
        "id": "7Uq2ugQj6kZU",
        "colab": {
          "base_uri": "https://localhost:8080/"
        },
        "outputId": "9f9b2c5e-1bc4-4162-8b0e-eade44b642a5"
      },
      "outputs": [
        {
          "output_type": "stream",
          "name": "stdout",
          "text": [
            "{\"class_name\": \"Functional\", \"config\": {\"name\": \"model\", \"trainable\": true, \"layers\": [{\"class_name\": \"InputLayer\", \"config\": {\"batch_input_shape\": [null, 224, 224, 3], \"dtype\": \"float32\", \"sparse\": false, \"ragged\": false, \"name\": \"input_1\"}, \"name\": \"input_1\", \"inbound_nodes\": []}, {\"class_name\": \"Conv2D\", \"config\": {\"name\": \"block1_conv1\", \"trainable\": false, \"dtype\": \"float32\", \"filters\": 64, \"kernel_size\": [3, 3], \"strides\": [1, 1], \"padding\": \"same\", \"data_format\": \"channels_last\", \"dilation_rate\": [1, 1], \"groups\": 1, \"activation\": \"relu\", \"use_bias\": true, \"kernel_initializer\": {\"module\": \"keras.initializers\", \"class_name\": \"GlorotUniform\", \"config\": {\"seed\": null}, \"registered_name\": null}, \"bias_initializer\": {\"module\": \"keras.initializers\", \"class_name\": \"Zeros\", \"config\": {}, \"registered_name\": null}, \"kernel_regularizer\": null, \"bias_regularizer\": null, \"activity_regularizer\": null, \"kernel_constraint\": null, \"bias_constraint\": null}, \"name\": \"block1_conv1\", \"inbound_nodes\": [[[\"input_1\", 0, 0, {}]]]}, {\"class_name\": \"Conv2D\", \"config\": {\"name\": \"block1_conv2\", \"trainable\": false, \"dtype\": \"float32\", \"filters\": 64, \"kernel_size\": [3, 3], \"strides\": [1, 1], \"padding\": \"same\", \"data_format\": \"channels_last\", \"dilation_rate\": [1, 1], \"groups\": 1, \"activation\": \"relu\", \"use_bias\": true, \"kernel_initializer\": {\"module\": \"keras.initializers\", \"class_name\": \"GlorotUniform\", \"config\": {\"seed\": null}, \"registered_name\": null}, \"bias_initializer\": {\"module\": \"keras.initializers\", \"class_name\": \"Zeros\", \"config\": {}, \"registered_name\": null}, \"kernel_regularizer\": null, \"bias_regularizer\": null, \"activity_regularizer\": null, \"kernel_constraint\": null, \"bias_constraint\": null}, \"name\": \"block1_conv2\", \"inbound_nodes\": [[[\"block1_conv1\", 0, 0, {}]]]}, {\"class_name\": \"MaxPooling2D\", \"config\": {\"name\": \"block1_pool\", \"trainable\": false, \"dtype\": \"float32\", \"pool_size\": [2, 2], \"padding\": \"valid\", \"strides\": [2, 2], \"data_format\": \"channels_last\"}, \"name\": \"block1_pool\", \"inbound_nodes\": [[[\"block1_conv2\", 0, 0, {}]]]}, {\"class_name\": \"Conv2D\", \"config\": {\"name\": \"block2_conv1\", \"trainable\": false, \"dtype\": \"float32\", \"filters\": 128, \"kernel_size\": [3, 3], \"strides\": [1, 1], \"padding\": \"same\", \"data_format\": \"channels_last\", \"dilation_rate\": [1, 1], \"groups\": 1, \"activation\": \"relu\", \"use_bias\": true, \"kernel_initializer\": {\"module\": \"keras.initializers\", \"class_name\": \"GlorotUniform\", \"config\": {\"seed\": null}, \"registered_name\": null}, \"bias_initializer\": {\"module\": \"keras.initializers\", \"class_name\": \"Zeros\", \"config\": {}, \"registered_name\": null}, \"kernel_regularizer\": null, \"bias_regularizer\": null, \"activity_regularizer\": null, \"kernel_constraint\": null, \"bias_constraint\": null}, \"name\": \"block2_conv1\", \"inbound_nodes\": [[[\"block1_pool\", 0, 0, {}]]]}, {\"class_name\": \"Conv2D\", \"config\": {\"name\": \"block2_conv2\", \"trainable\": false, \"dtype\": \"float32\", \"filters\": 128, \"kernel_size\": [3, 3], \"strides\": [1, 1], \"padding\": \"same\", \"data_format\": \"channels_last\", \"dilation_rate\": [1, 1], \"groups\": 1, \"activation\": \"relu\", \"use_bias\": true, \"kernel_initializer\": {\"module\": \"keras.initializers\", \"class_name\": \"GlorotUniform\", \"config\": {\"seed\": null}, \"registered_name\": null}, \"bias_initializer\": {\"module\": \"keras.initializers\", \"class_name\": \"Zeros\", \"config\": {}, \"registered_name\": null}, \"kernel_regularizer\": null, \"bias_regularizer\": null, \"activity_regularizer\": null, \"kernel_constraint\": null, \"bias_constraint\": null}, \"name\": \"block2_conv2\", \"inbound_nodes\": [[[\"block2_conv1\", 0, 0, {}]]]}, {\"class_name\": \"MaxPooling2D\", \"config\": {\"name\": \"block2_pool\", \"trainable\": false, \"dtype\": \"float32\", \"pool_size\": [2, 2], \"padding\": \"valid\", \"strides\": [2, 2], \"data_format\": \"channels_last\"}, \"name\": \"block2_pool\", \"inbound_nodes\": [[[\"block2_conv2\", 0, 0, {}]]]}, {\"class_name\": \"Conv2D\", \"config\": {\"name\": \"block3_conv1\", \"trainable\": false, \"dtype\": \"float32\", \"filters\": 256, \"kernel_size\": [3, 3], \"strides\": [1, 1], \"padding\": \"same\", \"data_format\": \"channels_last\", \"dilation_rate\": [1, 1], \"groups\": 1, \"activation\": \"relu\", \"use_bias\": true, \"kernel_initializer\": {\"module\": \"keras.initializers\", \"class_name\": \"GlorotUniform\", \"config\": {\"seed\": null}, \"registered_name\": null}, \"bias_initializer\": {\"module\": \"keras.initializers\", \"class_name\": \"Zeros\", \"config\": {}, \"registered_name\": null}, \"kernel_regularizer\": null, \"bias_regularizer\": null, \"activity_regularizer\": null, \"kernel_constraint\": null, \"bias_constraint\": null}, \"name\": \"block3_conv1\", \"inbound_nodes\": [[[\"block2_pool\", 0, 0, {}]]]}, {\"class_name\": \"Conv2D\", \"config\": {\"name\": \"block3_conv2\", \"trainable\": false, \"dtype\": \"float32\", \"filters\": 256, \"kernel_size\": [3, 3], \"strides\": [1, 1], \"padding\": \"same\", \"data_format\": \"channels_last\", \"dilation_rate\": [1, 1], \"groups\": 1, \"activation\": \"relu\", \"use_bias\": true, \"kernel_initializer\": {\"module\": \"keras.initializers\", \"class_name\": \"GlorotUniform\", \"config\": {\"seed\": null}, \"registered_name\": null}, \"bias_initializer\": {\"module\": \"keras.initializers\", \"class_name\": \"Zeros\", \"config\": {}, \"registered_name\": null}, \"kernel_regularizer\": null, \"bias_regularizer\": null, \"activity_regularizer\": null, \"kernel_constraint\": null, \"bias_constraint\": null}, \"name\": \"block3_conv2\", \"inbound_nodes\": [[[\"block3_conv1\", 0, 0, {}]]]}, {\"class_name\": \"Conv2D\", \"config\": {\"name\": \"block3_conv3\", \"trainable\": false, \"dtype\": \"float32\", \"filters\": 256, \"kernel_size\": [3, 3], \"strides\": [1, 1], \"padding\": \"same\", \"data_format\": \"channels_last\", \"dilation_rate\": [1, 1], \"groups\": 1, \"activation\": \"relu\", \"use_bias\": true, \"kernel_initializer\": {\"module\": \"keras.initializers\", \"class_name\": \"GlorotUniform\", \"config\": {\"seed\": null}, \"registered_name\": null}, \"bias_initializer\": {\"module\": \"keras.initializers\", \"class_name\": \"Zeros\", \"config\": {}, \"registered_name\": null}, \"kernel_regularizer\": null, \"bias_regularizer\": null, \"activity_regularizer\": null, \"kernel_constraint\": null, \"bias_constraint\": null}, \"name\": \"block3_conv3\", \"inbound_nodes\": [[[\"block3_conv2\", 0, 0, {}]]]}, {\"class_name\": \"MaxPooling2D\", \"config\": {\"name\": \"block3_pool\", \"trainable\": false, \"dtype\": \"float32\", \"pool_size\": [2, 2], \"padding\": \"valid\", \"strides\": [2, 2], \"data_format\": \"channels_last\"}, \"name\": \"block3_pool\", \"inbound_nodes\": [[[\"block3_conv3\", 0, 0, {}]]]}, {\"class_name\": \"Conv2D\", \"config\": {\"name\": \"block4_conv1\", \"trainable\": false, \"dtype\": \"float32\", \"filters\": 512, \"kernel_size\": [3, 3], \"strides\": [1, 1], \"padding\": \"same\", \"data_format\": \"channels_last\", \"dilation_rate\": [1, 1], \"groups\": 1, \"activation\": \"relu\", \"use_bias\": true, \"kernel_initializer\": {\"module\": \"keras.initializers\", \"class_name\": \"GlorotUniform\", \"config\": {\"seed\": null}, \"registered_name\": null}, \"bias_initializer\": {\"module\": \"keras.initializers\", \"class_name\": \"Zeros\", \"config\": {}, \"registered_name\": null}, \"kernel_regularizer\": null, \"bias_regularizer\": null, \"activity_regularizer\": null, \"kernel_constraint\": null, \"bias_constraint\": null}, \"name\": \"block4_conv1\", \"inbound_nodes\": [[[\"block3_pool\", 0, 0, {}]]]}, {\"class_name\": \"Conv2D\", \"config\": {\"name\": \"block4_conv2\", \"trainable\": false, \"dtype\": \"float32\", \"filters\": 512, \"kernel_size\": [3, 3], \"strides\": [1, 1], \"padding\": \"same\", \"data_format\": \"channels_last\", \"dilation_rate\": [1, 1], \"groups\": 1, \"activation\": \"relu\", \"use_bias\": true, \"kernel_initializer\": {\"module\": \"keras.initializers\", \"class_name\": \"GlorotUniform\", \"config\": {\"seed\": null}, \"registered_name\": null}, \"bias_initializer\": {\"module\": \"keras.initializers\", \"class_name\": \"Zeros\", \"config\": {}, \"registered_name\": null}, \"kernel_regularizer\": null, \"bias_regularizer\": null, \"activity_regularizer\": null, \"kernel_constraint\": null, \"bias_constraint\": null}, \"name\": \"block4_conv2\", \"inbound_nodes\": [[[\"block4_conv1\", 0, 0, {}]]]}, {\"class_name\": \"Conv2D\", \"config\": {\"name\": \"block4_conv3\", \"trainable\": false, \"dtype\": \"float32\", \"filters\": 512, \"kernel_size\": [3, 3], \"strides\": [1, 1], \"padding\": \"same\", \"data_format\": \"channels_last\", \"dilation_rate\": [1, 1], \"groups\": 1, \"activation\": \"relu\", \"use_bias\": true, \"kernel_initializer\": {\"module\": \"keras.initializers\", \"class_name\": \"GlorotUniform\", \"config\": {\"seed\": null}, \"registered_name\": null}, \"bias_initializer\": {\"module\": \"keras.initializers\", \"class_name\": \"Zeros\", \"config\": {}, \"registered_name\": null}, \"kernel_regularizer\": null, \"bias_regularizer\": null, \"activity_regularizer\": null, \"kernel_constraint\": null, \"bias_constraint\": null}, \"name\": \"block4_conv3\", \"inbound_nodes\": [[[\"block4_conv2\", 0, 0, {}]]]}, {\"class_name\": \"MaxPooling2D\", \"config\": {\"name\": \"block4_pool\", \"trainable\": false, \"dtype\": \"float32\", \"pool_size\": [2, 2], \"padding\": \"valid\", \"strides\": [2, 2], \"data_format\": \"channels_last\"}, \"name\": \"block4_pool\", \"inbound_nodes\": [[[\"block4_conv3\", 0, 0, {}]]]}, {\"class_name\": \"Conv2D\", \"config\": {\"name\": \"block5_conv1\", \"trainable\": false, \"dtype\": \"float32\", \"filters\": 512, \"kernel_size\": [3, 3], \"strides\": [1, 1], \"padding\": \"same\", \"data_format\": \"channels_last\", \"dilation_rate\": [1, 1], \"groups\": 1, \"activation\": \"relu\", \"use_bias\": true, \"kernel_initializer\": {\"module\": \"keras.initializers\", \"class_name\": \"GlorotUniform\", \"config\": {\"seed\": null}, \"registered_name\": null}, \"bias_initializer\": {\"module\": \"keras.initializers\", \"class_name\": \"Zeros\", \"config\": {}, \"registered_name\": null}, \"kernel_regularizer\": null, \"bias_regularizer\": null, \"activity_regularizer\": null, \"kernel_constraint\": null, \"bias_constraint\": null}, \"name\": \"block5_conv1\", \"inbound_nodes\": [[[\"block4_pool\", 0, 0, {}]]]}, {\"class_name\": \"Conv2D\", \"config\": {\"name\": \"block5_conv2\", \"trainable\": false, \"dtype\": \"float32\", \"filters\": 512, \"kernel_size\": [3, 3], \"strides\": [1, 1], \"padding\": \"same\", \"data_format\": \"channels_last\", \"dilation_rate\": [1, 1], \"groups\": 1, \"activation\": \"relu\", \"use_bias\": true, \"kernel_initializer\": {\"module\": \"keras.initializers\", \"class_name\": \"GlorotUniform\", \"config\": {\"seed\": null}, \"registered_name\": null}, \"bias_initializer\": {\"module\": \"keras.initializers\", \"class_name\": \"Zeros\", \"config\": {}, \"registered_name\": null}, \"kernel_regularizer\": null, \"bias_regularizer\": null, \"activity_regularizer\": null, \"kernel_constraint\": null, \"bias_constraint\": null}, \"name\": \"block5_conv2\", \"inbound_nodes\": [[[\"block5_conv1\", 0, 0, {}]]]}, {\"class_name\": \"Conv2D\", \"config\": {\"name\": \"block5_conv3\", \"trainable\": false, \"dtype\": \"float32\", \"filters\": 512, \"kernel_size\": [3, 3], \"strides\": [1, 1], \"padding\": \"same\", \"data_format\": \"channels_last\", \"dilation_rate\": [1, 1], \"groups\": 1, \"activation\": \"relu\", \"use_bias\": true, \"kernel_initializer\": {\"module\": \"keras.initializers\", \"class_name\": \"GlorotUniform\", \"config\": {\"seed\": null}, \"registered_name\": null}, \"bias_initializer\": {\"module\": \"keras.initializers\", \"class_name\": \"Zeros\", \"config\": {}, \"registered_name\": null}, \"kernel_regularizer\": null, \"bias_regularizer\": null, \"activity_regularizer\": null, \"kernel_constraint\": null, \"bias_constraint\": null}, \"name\": \"block5_conv3\", \"inbound_nodes\": [[[\"block5_conv2\", 0, 0, {}]]]}, {\"class_name\": \"MaxPooling2D\", \"config\": {\"name\": \"block5_pool\", \"trainable\": false, \"dtype\": \"float32\", \"pool_size\": [2, 2], \"padding\": \"valid\", \"strides\": [2, 2], \"data_format\": \"channels_last\"}, \"name\": \"block5_pool\", \"inbound_nodes\": [[[\"block5_conv3\", 0, 0, {}]]]}, {\"class_name\": \"Conv2D\", \"config\": {\"name\": \"conv2d\", \"trainable\": true, \"dtype\": \"float32\", \"filters\": 1024, \"kernel_size\": [3, 3], \"strides\": [1, 1], \"padding\": \"same\", \"data_format\": \"channels_last\", \"dilation_rate\": [1, 1], \"groups\": 1, \"activation\": \"relu\", \"use_bias\": true, \"kernel_initializer\": {\"module\": \"keras.initializers\", \"class_name\": \"GlorotUniform\", \"config\": {\"seed\": null}, \"registered_name\": null}, \"bias_initializer\": {\"module\": \"keras.initializers\", \"class_name\": \"Zeros\", \"config\": {}, \"registered_name\": null}, \"kernel_regularizer\": null, \"bias_regularizer\": null, \"activity_regularizer\": null, \"kernel_constraint\": null, \"bias_constraint\": null}, \"name\": \"conv2d\", \"inbound_nodes\": [[[\"block5_pool\", 0, 0, {}]]]}, {\"class_name\": \"BatchNormalization\", \"config\": {\"name\": \"batch_normalization\", \"trainable\": true, \"dtype\": \"float32\", \"axis\": [3], \"momentum\": 0.99, \"epsilon\": 0.001, \"center\": true, \"scale\": true, \"beta_initializer\": {\"module\": \"keras.initializers\", \"class_name\": \"Zeros\", \"config\": {}, \"registered_name\": null}, \"gamma_initializer\": {\"module\": \"keras.initializers\", \"class_name\": \"Ones\", \"config\": {}, \"registered_name\": null}, \"moving_mean_initializer\": {\"module\": \"keras.initializers\", \"class_name\": \"Zeros\", \"config\": {}, \"registered_name\": null}, \"moving_variance_initializer\": {\"module\": \"keras.initializers\", \"class_name\": \"Ones\", \"config\": {}, \"registered_name\": null}, \"beta_regularizer\": null, \"gamma_regularizer\": null, \"beta_constraint\": null, \"gamma_constraint\": null}, \"name\": \"batch_normalization\", \"inbound_nodes\": [[[\"conv2d\", 0, 0, {}]]]}, {\"class_name\": \"MaxPooling2D\", \"config\": {\"name\": \"max_pooling2d\", \"trainable\": true, \"dtype\": \"float32\", \"pool_size\": [2, 2], \"padding\": \"valid\", \"strides\": [2, 2], \"data_format\": \"channels_last\"}, \"name\": \"max_pooling2d\", \"inbound_nodes\": [[[\"batch_normalization\", 0, 0, {}]]]}, {\"class_name\": \"Flatten\", \"config\": {\"name\": \"flatten\", \"trainable\": true, \"dtype\": \"float32\", \"data_format\": \"channels_last\"}, \"name\": \"flatten\", \"inbound_nodes\": [[[\"max_pooling2d\", 0, 0, {}]]]}, {\"class_name\": \"Dense\", \"config\": {\"name\": \"dense\", \"trainable\": true, \"dtype\": \"float32\", \"units\": 2048, \"activation\": \"relu\", \"use_bias\": true, \"kernel_initializer\": {\"module\": \"keras.initializers\", \"class_name\": \"GlorotUniform\", \"config\": {\"seed\": null}, \"registered_name\": null}, \"bias_initializer\": {\"module\": \"keras.initializers\", \"class_name\": \"Zeros\", \"config\": {}, \"registered_name\": null}, \"kernel_regularizer\": null, \"bias_regularizer\": null, \"activity_regularizer\": null, \"kernel_constraint\": null, \"bias_constraint\": null}, \"name\": \"dense\", \"inbound_nodes\": [[[\"flatten\", 0, 0, {}]]]}, {\"class_name\": \"Dropout\", \"config\": {\"name\": \"dropout\", \"trainable\": true, \"dtype\": \"float32\", \"rate\": 0.5, \"noise_shape\": null, \"seed\": null}, \"name\": \"dropout\", \"inbound_nodes\": [[[\"dense\", 0, 0, {}]]]}, {\"class_name\": \"Dense\", \"config\": {\"name\": \"dense_1\", \"trainable\": true, \"dtype\": \"float32\", \"units\": 15, \"activation\": \"softmax\", \"use_bias\": true, \"kernel_initializer\": {\"module\": \"keras.initializers\", \"class_name\": \"GlorotUniform\", \"config\": {\"seed\": null}, \"registered_name\": null}, \"bias_initializer\": {\"module\": \"keras.initializers\", \"class_name\": \"Zeros\", \"config\": {}, \"registered_name\": null}, \"kernel_regularizer\": null, \"bias_regularizer\": null, \"activity_regularizer\": null, \"kernel_constraint\": null, \"bias_constraint\": null}, \"name\": \"dense_1\", \"inbound_nodes\": [[[\"dropout\", 0, 0, {}]]]}], \"input_layers\": [[\"input_1\", 0, 0]], \"output_layers\": [[\"dense_1\", 0, 0]]}}\n"
          ]
        }
      ],
      "source": [
        "# model config pake h5\n",
        "import h5py\n",
        "\n",
        "# Replace 'your_model_name' with the actual file name of your HDF5 file\n",
        "file_name = 'my_model.h5'\n",
        "\n",
        "# Open the HDF5 file in read mode\n",
        "with h5py.File(file_name, 'r') as f:\n",
        "    # Retrieve the 'model_config' attribute\n",
        "    model_config = f.attrs.get('model_config')\n",
        "\n",
        "# Print the model configuration\n",
        "print(model_config)"
      ]
    }
  ],
  "metadata": {
    "accelerator": "TPU",
    "colab": {
      "collapsed_sections": [
        "0aOawH-QvSZA",
        "xNzW0A7mFiSc",
        "Ft6jttPKsq0x",
        "orpm539Gs46d",
        "RkJKBcm2s7_i",
        "2W8s7RxhtACR",
        "zU7SGTHcsyTx",
        "NTuqYGnOtD4b"
      ],
      "gpuType": "V28",
      "provenance": []
    },
    "kernelspec": {
      "display_name": "Python 3",
      "name": "python3"
    },
    "language_info": {
      "codemirror_mode": {
        "name": "ipython",
        "version": 3
      },
      "file_extension": ".py",
      "mimetype": "text/x-python",
      "name": "python",
      "nbconvert_exporter": "python",
      "pygments_lexer": "ipython3",
      "version": "3.11.5"
    }
  },
  "nbformat": 4,
  "nbformat_minor": 5
}